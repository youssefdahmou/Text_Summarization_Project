{
 "cells": [
  {
   "cell_type": "markdown",
   "metadata": {},
   "source": [
    "<div>\n",
    "    <img src=\"data:image/jpeg;base64,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\" alt=\"ESI\">\n",
    "</div>"
   ]
  },
  {
   "cell_type": "markdown",
   "metadata": {},
   "source": [
    "<div style=\"background-color:olive; color:white; font-size:15px; font-family:Verdana; padding:10px;font-weight:bold;border: 5px solid black;\">\n",
    "<p style=\"color:orange;font-weight:bold\"><u>Réalisé par:</u></p>\n",
    "<ul >\n",
    "    <li>ELGHAZI Soufiane</li>\n",
    "    <li>MAASRI Amine</li>\n",
    "    <li>Dahmou Youssef</li>\n",
    "    <li>OUAHIB Yassine</li>\n",
    "</ul>\n",
    "    \n",
    "</div>"
   ]
  },
  {
   "cell_type": "markdown",
   "metadata": {},
   "source": [
    "<h1 style='color:purple' align='center'>Projet Text mining: News SUM </h1>"
   ]
  },
  {
   "cell_type": "markdown",
   "metadata": {},
   "source": [
    "<h2 style='color:olive' align='center'>BART </h2>"
   ]
  },
  {
   "cell_type": "markdown",
   "metadata": {},
   "source": [
    "<div style=\"background-color:white; color:black; font-size:15px; font-family:Verdana; padding:10px;font-weight:bold;border: 5px solid black;\">\n",
    "<p style=\"color:purple;\">Étape 2 : Création et évaluation des modèles : BART</p><br>\n",
    "<p style=\"color:purple;\">Références</p>\n",
    " Les liens vers les ressources utilisées et consulté .<br><br>\n",
    "</div>"
   ]
  },
  {
   "cell_type": "markdown",
   "metadata": {},
   "source": [
    "<h2 style='color:purple'>Importation des Bibliothèques: </h2>"
   ]
  },
  {
   "cell_type": "code",
   "execution_count": 1,
   "metadata": {
    "_cell_guid": "b1076dfc-b9ad-4769-8c92-a6c4dae69d19",
    "_uuid": "8f2839f25d086af736a60e9eeb907d3b93b6e0e5",
    "execution": {
     "iopub.execute_input": "2023-12-30T02:31:06.810284Z",
     "iopub.status.busy": "2023-12-30T02:31:06.809550Z",
     "iopub.status.idle": "2023-12-30T02:31:06.820995Z",
     "shell.execute_reply": "2023-12-30T02:31:06.819930Z",
     "shell.execute_reply.started": "2023-12-30T02:31:06.810250Z"
    }
   },
   "outputs": [
    {
     "name": "stdout",
     "output_type": "stream",
     "text": [
      "/kaggle/input/cleaned-dataset/cleaned_corpus.xlsx\n"
     ]
    }
   ],
   "source": [
    "import numpy as np \n",
    "import pandas as pd \n",
    "\n",
    "import os\n",
    "for dirname, _, filenames in os.walk('/kaggle/input'):\n",
    "    for filename in filenames:\n",
    "        print(os.path.join(dirname, filename))"
   ]
  },
  {
   "cell_type": "code",
   "execution_count": 2,
   "metadata": {
    "execution": {
     "iopub.execute_input": "2023-12-30T02:31:10.438719Z",
     "iopub.status.busy": "2023-12-30T02:31:10.438351Z",
     "iopub.status.idle": "2023-12-30T02:31:11.559592Z",
     "shell.execute_reply": "2023-12-30T02:31:11.558442Z",
     "shell.execute_reply.started": "2023-12-30T02:31:10.438689Z"
    }
   },
   "outputs": [
    {
     "name": "stdout",
     "output_type": "stream",
     "text": [
      "Sat Dec 30 02:31:11 2023       \n",
      "+-----------------------------------------------------------------------------+\n",
      "| NVIDIA-SMI 470.161.03   Driver Version: 470.161.03   CUDA Version: 11.4     |\n",
      "|-------------------------------+----------------------+----------------------+\n",
      "| GPU  Name        Persistence-M| Bus-Id        Disp.A | Volatile Uncorr. ECC |\n",
      "| Fan  Temp  Perf  Pwr:Usage/Cap|         Memory-Usage | GPU-Util  Compute M. |\n",
      "|                               |                      |               MIG M. |\n",
      "|===============================+======================+======================|\n",
      "|   0  Tesla T4            Off  | 00000000:00:04.0 Off |                    0 |\n",
      "| N/A   43C    P8     9W /  70W |      0MiB / 15109MiB |      0%      Default |\n",
      "|                               |                      |                  N/A |\n",
      "+-------------------------------+----------------------+----------------------+\n",
      "|   1  Tesla T4            Off  | 00000000:00:05.0 Off |                    0 |\n",
      "| N/A   45C    P8    10W /  70W |      0MiB / 15109MiB |      0%      Default |\n",
      "|                               |                      |                  N/A |\n",
      "+-------------------------------+----------------------+----------------------+\n",
      "                                                                               \n",
      "+-----------------------------------------------------------------------------+\n",
      "| Processes:                                                                  |\n",
      "|  GPU   GI   CI        PID   Type   Process name                  GPU Memory |\n",
      "|        ID   ID                                                   Usage      |\n",
      "|=============================================================================|\n",
      "|  No running processes found                                                 |\n",
      "+-----------------------------------------------------------------------------+\n"
     ]
    }
   ],
   "source": [
    "!nvidia-smi # Checking GPU"
   ]
  },
  {
   "cell_type": "code",
   "execution_count": 3,
   "metadata": {
    "execution": {
     "iopub.execute_input": "2023-12-30T02:31:15.219596Z",
     "iopub.status.busy": "2023-12-30T02:31:15.219219Z",
     "iopub.status.idle": "2023-12-30T02:32:12.773937Z",
     "shell.execute_reply": "2023-12-30T02:32:12.772942Z",
     "shell.execute_reply.started": "2023-12-30T02:31:15.219565Z"
    }
   },
   "outputs": [
    {
     "name": "stdout",
     "output_type": "stream",
     "text": [
      "Collecting evaluate\n",
      "  Obtaining dependency information for evaluate from https://files.pythonhosted.org/packages/70/63/7644a1eb7b0297e585a6adec98ed9e575309bb973c33b394dae66bc35c69/evaluate-0.4.1-py3-none-any.whl.metadata\n",
      "  Downloading evaluate-0.4.1-py3-none-any.whl.metadata (9.4 kB)\n",
      "Requirement already satisfied: datasets>=2.0.0 in /opt/conda/lib/python3.10/site-packages (from evaluate) (2.1.0)\n",
      "Requirement already satisfied: numpy>=1.17 in /opt/conda/lib/python3.10/site-packages (from evaluate) (1.24.3)\n",
      "Requirement already satisfied: dill in /opt/conda/lib/python3.10/site-packages (from evaluate) (0.3.7)\n",
      "Requirement already satisfied: pandas in /opt/conda/lib/python3.10/site-packages (from evaluate) (2.0.3)\n",
      "Requirement already satisfied: requests>=2.19.0 in /opt/conda/lib/python3.10/site-packages (from evaluate) (2.31.0)\n",
      "Requirement already satisfied: tqdm>=4.62.1 in /opt/conda/lib/python3.10/site-packages (from evaluate) (4.66.1)\n",
      "Requirement already satisfied: xxhash in /opt/conda/lib/python3.10/site-packages (from evaluate) (3.4.1)\n",
      "Requirement already satisfied: multiprocess in /opt/conda/lib/python3.10/site-packages (from evaluate) (0.70.15)\n",
      "Requirement already satisfied: fsspec[http]>=2021.05.0 in /opt/conda/lib/python3.10/site-packages (from evaluate) (2023.12.2)\n",
      "Requirement already satisfied: huggingface-hub>=0.7.0 in /opt/conda/lib/python3.10/site-packages (from evaluate) (0.19.4)\n",
      "Requirement already satisfied: packaging in /opt/conda/lib/python3.10/site-packages (from evaluate) (21.3)\n",
      "Requirement already satisfied: responses<0.19 in /opt/conda/lib/python3.10/site-packages (from evaluate) (0.18.0)\n",
      "Requirement already satisfied: pyarrow>=5.0.0 in /opt/conda/lib/python3.10/site-packages (from datasets>=2.0.0->evaluate) (11.0.0)\n",
      "Requirement already satisfied: aiohttp in /opt/conda/lib/python3.10/site-packages (from datasets>=2.0.0->evaluate) (3.8.5)\n",
      "Requirement already satisfied: filelock in /opt/conda/lib/python3.10/site-packages (from huggingface-hub>=0.7.0->evaluate) (3.12.2)\n",
      "Requirement already satisfied: pyyaml>=5.1 in /opt/conda/lib/python3.10/site-packages (from huggingface-hub>=0.7.0->evaluate) (6.0.1)\n",
      "Requirement already satisfied: typing-extensions>=3.7.4.3 in /opt/conda/lib/python3.10/site-packages (from huggingface-hub>=0.7.0->evaluate) (4.5.0)\n",
      "Requirement already satisfied: pyparsing!=3.0.5,>=2.0.2 in /opt/conda/lib/python3.10/site-packages (from packaging->evaluate) (3.0.9)\n",
      "Requirement already satisfied: charset-normalizer<4,>=2 in /opt/conda/lib/python3.10/site-packages (from requests>=2.19.0->evaluate) (3.2.0)\n",
      "Requirement already satisfied: idna<4,>=2.5 in /opt/conda/lib/python3.10/site-packages (from requests>=2.19.0->evaluate) (3.4)\n",
      "Requirement already satisfied: urllib3<3,>=1.21.1 in /opt/conda/lib/python3.10/site-packages (from requests>=2.19.0->evaluate) (1.26.15)\n",
      "Requirement already satisfied: certifi>=2017.4.17 in /opt/conda/lib/python3.10/site-packages (from requests>=2.19.0->evaluate) (2023.11.17)\n",
      "Requirement already satisfied: python-dateutil>=2.8.2 in /opt/conda/lib/python3.10/site-packages (from pandas->evaluate) (2.8.2)\n",
      "Requirement already satisfied: pytz>=2020.1 in /opt/conda/lib/python3.10/site-packages (from pandas->evaluate) (2023.3)\n",
      "Requirement already satisfied: tzdata>=2022.1 in /opt/conda/lib/python3.10/site-packages (from pandas->evaluate) (2023.3)\n",
      "Requirement already satisfied: attrs>=17.3.0 in /opt/conda/lib/python3.10/site-packages (from aiohttp->datasets>=2.0.0->evaluate) (23.1.0)\n",
      "Requirement already satisfied: multidict<7.0,>=4.5 in /opt/conda/lib/python3.10/site-packages (from aiohttp->datasets>=2.0.0->evaluate) (6.0.4)\n",
      "Requirement already satisfied: async-timeout<5.0,>=4.0.0a3 in /opt/conda/lib/python3.10/site-packages (from aiohttp->datasets>=2.0.0->evaluate) (4.0.3)\n",
      "Requirement already satisfied: yarl<2.0,>=1.0 in /opt/conda/lib/python3.10/site-packages (from aiohttp->datasets>=2.0.0->evaluate) (1.9.2)\n",
      "Requirement already satisfied: frozenlist>=1.1.1 in /opt/conda/lib/python3.10/site-packages (from aiohttp->datasets>=2.0.0->evaluate) (1.4.0)\n",
      "Requirement already satisfied: aiosignal>=1.1.2 in /opt/conda/lib/python3.10/site-packages (from aiohttp->datasets>=2.0.0->evaluate) (1.3.1)\n",
      "Requirement already satisfied: six>=1.5 in /opt/conda/lib/python3.10/site-packages (from python-dateutil>=2.8.2->pandas->evaluate) (1.16.0)\n",
      "Downloading evaluate-0.4.1-py3-none-any.whl (84 kB)\n",
      "\u001b[2K   \u001b[90m━━━━━━━━━━━━━━━━━━━━━━━━━━━━━━━━━━━━━━━━\u001b[0m \u001b[32m84.1/84.1 kB\u001b[0m \u001b[31m891.0 kB/s\u001b[0m eta \u001b[36m0:00:00\u001b[0m\u001b[36m0:00:01\u001b[0m\n",
      "\u001b[?25hInstalling collected packages: evaluate\n",
      "Successfully installed evaluate-0.4.1\n",
      "Requirement already satisfied: transformers in /opt/conda/lib/python3.10/site-packages (4.36.0)\n",
      "Requirement already satisfied: filelock in /opt/conda/lib/python3.10/site-packages (from transformers) (3.12.2)\n",
      "Requirement already satisfied: huggingface-hub<1.0,>=0.19.3 in /opt/conda/lib/python3.10/site-packages (from transformers) (0.19.4)\n",
      "Requirement already satisfied: numpy>=1.17 in /opt/conda/lib/python3.10/site-packages (from transformers) (1.24.3)\n",
      "Requirement already satisfied: packaging>=20.0 in /opt/conda/lib/python3.10/site-packages (from transformers) (21.3)\n",
      "Requirement already satisfied: pyyaml>=5.1 in /opt/conda/lib/python3.10/site-packages (from transformers) (6.0.1)\n",
      "Requirement already satisfied: regex!=2019.12.17 in /opt/conda/lib/python3.10/site-packages (from transformers) (2023.8.8)\n",
      "Requirement already satisfied: requests in /opt/conda/lib/python3.10/site-packages (from transformers) (2.31.0)\n",
      "Requirement already satisfied: tokenizers<0.19,>=0.14 in /opt/conda/lib/python3.10/site-packages (from transformers) (0.15.0)\n",
      "Requirement already satisfied: safetensors>=0.3.1 in /opt/conda/lib/python3.10/site-packages (from transformers) (0.4.1)\n",
      "Requirement already satisfied: tqdm>=4.27 in /opt/conda/lib/python3.10/site-packages (from transformers) (4.66.1)\n",
      "Requirement already satisfied: fsspec>=2023.5.0 in /opt/conda/lib/python3.10/site-packages (from huggingface-hub<1.0,>=0.19.3->transformers) (2023.12.2)\n",
      "Requirement already satisfied: typing-extensions>=3.7.4.3 in /opt/conda/lib/python3.10/site-packages (from huggingface-hub<1.0,>=0.19.3->transformers) (4.5.0)\n",
      "Requirement already satisfied: pyparsing!=3.0.5,>=2.0.2 in /opt/conda/lib/python3.10/site-packages (from packaging>=20.0->transformers) (3.0.9)\n",
      "Requirement already satisfied: charset-normalizer<4,>=2 in /opt/conda/lib/python3.10/site-packages (from requests->transformers) (3.2.0)\n",
      "Requirement already satisfied: idna<4,>=2.5 in /opt/conda/lib/python3.10/site-packages (from requests->transformers) (3.4)\n",
      "Requirement already satisfied: urllib3<3,>=1.21.1 in /opt/conda/lib/python3.10/site-packages (from requests->transformers) (1.26.15)\n",
      "Requirement already satisfied: certifi>=2017.4.17 in /opt/conda/lib/python3.10/site-packages (from requests->transformers) (2023.11.17)\n",
      "Collecting rouge-score\n",
      "  Downloading rouge_score-0.1.2.tar.gz (17 kB)\n",
      "  Preparing metadata (setup.py) ... \u001b[?25ldone\n",
      "\u001b[?25hRequirement already satisfied: absl-py in /opt/conda/lib/python3.10/site-packages (from rouge-score) (1.4.0)\n",
      "Requirement already satisfied: nltk in /opt/conda/lib/python3.10/site-packages (from rouge-score) (3.2.4)\n",
      "Requirement already satisfied: numpy in /opt/conda/lib/python3.10/site-packages (from rouge-score) (1.24.3)\n",
      "Requirement already satisfied: six>=1.14.0 in /opt/conda/lib/python3.10/site-packages (from rouge-score) (1.16.0)\n",
      "Building wheels for collected packages: rouge-score\n",
      "  Building wheel for rouge-score (setup.py) ... \u001b[?25ldone\n",
      "\u001b[?25h  Created wheel for rouge-score: filename=rouge_score-0.1.2-py3-none-any.whl size=24932 sha256=ed668e33125f9a8b6a05bc43a1cb463404b43ae167cef7a67a93e1116d392e85\n",
      "  Stored in directory: /root/.cache/pip/wheels/5f/dd/89/461065a73be61a532ff8599a28e9beef17985c9e9c31e541b4\n",
      "Successfully built rouge-score\n",
      "Installing collected packages: rouge-score\n",
      "Successfully installed rouge-score-0.1.2\n",
      "Collecting py7zr\n",
      "  Obtaining dependency information for py7zr from https://files.pythonhosted.org/packages/c0/39/71263be4c6081e1788f4da35e937fca1808914b0d98a04bd44255b948699/py7zr-0.20.8-py3-none-any.whl.metadata\n",
      "  Downloading py7zr-0.20.8-py3-none-any.whl.metadata (16 kB)\n",
      "Requirement already satisfied: texttable in /opt/conda/lib/python3.10/site-packages (from py7zr) (1.7.0)\n",
      "Collecting pycryptodomex>=3.16.0 (from py7zr)\n",
      "  Obtaining dependency information for pycryptodomex>=3.16.0 from https://files.pythonhosted.org/packages/78/74/e22cc8c2bb5e4d746952b22a2f0ef98988851804c35d89890d8ea6c22f18/pycryptodomex-3.19.1-cp35-abi3-manylinux_2_17_x86_64.manylinux2014_x86_64.whl.metadata\n",
      "  Downloading pycryptodomex-3.19.1-cp35-abi3-manylinux_2_17_x86_64.manylinux2014_x86_64.whl.metadata (3.4 kB)\n",
      "Collecting pyzstd>=0.15.9 (from py7zr)\n",
      "  Obtaining dependency information for pyzstd>=0.15.9 from https://files.pythonhosted.org/packages/02/97/57de14ccb0d033464aabc5110eb2f9dc717c97e17f2ffc1235680a27e5de/pyzstd-0.15.9-cp310-cp310-manylinux_2_17_x86_64.manylinux2014_x86_64.whl.metadata\n",
      "  Downloading pyzstd-0.15.9-cp310-cp310-manylinux_2_17_x86_64.manylinux2014_x86_64.whl.metadata (7.5 kB)\n",
      "Collecting pyppmd<1.2.0,>=1.1.0 (from py7zr)\n",
      "  Obtaining dependency information for pyppmd<1.2.0,>=1.1.0 from https://files.pythonhosted.org/packages/09/76/61db4268a439cfba8736b14130d928d199633fab2360a2c5043332a427d2/pyppmd-1.1.0-cp310-cp310-manylinux_2_17_x86_64.manylinux2014_x86_64.whl.metadata\n",
      "  Downloading pyppmd-1.1.0-cp310-cp310-manylinux_2_17_x86_64.manylinux2014_x86_64.whl.metadata (5.7 kB)\n",
      "Collecting pybcj<1.1.0,>=1.0.0 (from py7zr)\n",
      "  Obtaining dependency information for pybcj<1.1.0,>=1.0.0 from https://files.pythonhosted.org/packages/09/70/8b6a6cc2a5721f67f629bdc17875c0d603d57f360a19b099a7b4de19383d/pybcj-1.0.2-cp310-cp310-manylinux_2_17_x86_64.manylinux2014_x86_64.whl.metadata\n",
      "  Downloading pybcj-1.0.2-cp310-cp310-manylinux_2_17_x86_64.manylinux2014_x86_64.whl.metadata (4.0 kB)\n",
      "Collecting multivolumefile>=0.2.3 (from py7zr)\n",
      "  Downloading multivolumefile-0.2.3-py3-none-any.whl (17 kB)\n",
      "Collecting inflate64<1.1.0,>=1.0.0 (from py7zr)\n",
      "  Obtaining dependency information for inflate64<1.1.0,>=1.0.0 from https://files.pythonhosted.org/packages/b8/f4/e387a50f5027194eac4f9712d57b97e3e1a012402eaae98bcf1ebe8a97d1/inflate64-1.0.0-cp310-cp310-manylinux_2_17_x86_64.manylinux2014_x86_64.whl.metadata\n",
      "  Downloading inflate64-1.0.0-cp310-cp310-manylinux_2_17_x86_64.manylinux2014_x86_64.whl.metadata (4.0 kB)\n",
      "Collecting brotli>=1.1.0 (from py7zr)\n",
      "  Obtaining dependency information for brotli>=1.1.0 from https://files.pythonhosted.org/packages/d5/00/40f760cc27007912b327fe15bf6bfd8eaecbe451687f72a8abc587d503b3/Brotli-1.1.0-cp310-cp310-manylinux_2_5_x86_64.manylinux1_x86_64.manylinux_2_12_x86_64.manylinux2010_x86_64.whl.metadata\n",
      "  Downloading Brotli-1.1.0-cp310-cp310-manylinux_2_5_x86_64.manylinux1_x86_64.manylinux_2_12_x86_64.manylinux2010_x86_64.whl.metadata (5.5 kB)\n",
      "Requirement already satisfied: psutil in /opt/conda/lib/python3.10/site-packages (from py7zr) (5.9.3)\n",
      "Downloading py7zr-0.20.8-py3-none-any.whl (67 kB)\n",
      "\u001b[2K   \u001b[90m━━━━━━━━━━━━━━━━━━━━━━━━━━━━━━━━━━━━━━━━\u001b[0m \u001b[32m67.0/67.0 kB\u001b[0m \u001b[31m1.3 MB/s\u001b[0m eta \u001b[36m0:00:00\u001b[0ma \u001b[36m0:00:01\u001b[0m\n",
      "\u001b[?25hDownloading Brotli-1.1.0-cp310-cp310-manylinux_2_5_x86_64.manylinux1_x86_64.manylinux_2_12_x86_64.manylinux2010_x86_64.whl (3.0 MB)\n",
      "\u001b[2K   \u001b[90m━━━━━━━━━━━━━━━━━━━━━━━━━━━━━━━━━━━━━━━━\u001b[0m \u001b[32m3.0/3.0 MB\u001b[0m \u001b[31m18.4 MB/s\u001b[0m eta \u001b[36m0:00:00\u001b[0ma \u001b[36m0:00:01\u001b[0m\n",
      "\u001b[?25hDownloading inflate64-1.0.0-cp310-cp310-manylinux_2_17_x86_64.manylinux2014_x86_64.whl (93 kB)\n",
      "\u001b[2K   \u001b[90m━━━━━━━━━━━━━━━━━━━━━━━━━━━━━━━━━━━━━━━━\u001b[0m \u001b[32m93.1/93.1 kB\u001b[0m \u001b[31m10.0 MB/s\u001b[0m eta \u001b[36m0:00:00\u001b[0m\n",
      "\u001b[?25hDownloading pybcj-1.0.2-cp310-cp310-manylinux_2_17_x86_64.manylinux2014_x86_64.whl (49 kB)\n",
      "\u001b[2K   \u001b[90m━━━━━━━━━━━━━━━━━━━━━━━━━━━━━━━━━━━━━━━━\u001b[0m \u001b[32m49.7/49.7 kB\u001b[0m \u001b[31m5.4 MB/s\u001b[0m eta \u001b[36m0:00:00\u001b[0m\n",
      "\u001b[?25hDownloading pycryptodomex-3.19.1-cp35-abi3-manylinux_2_17_x86_64.manylinux2014_x86_64.whl (2.1 MB)\n",
      "\u001b[2K   \u001b[90m━━━━━━━━━━━━━━━━━━━━━━━━━━━━━━━━━━━━━━━━\u001b[0m \u001b[32m2.1/2.1 MB\u001b[0m \u001b[31m70.3 MB/s\u001b[0m eta \u001b[36m0:00:00\u001b[0m\n",
      "\u001b[?25hDownloading pyppmd-1.1.0-cp310-cp310-manylinux_2_17_x86_64.manylinux2014_x86_64.whl (138 kB)\n",
      "\u001b[2K   \u001b[90m━━━━━━━━━━━━━━━━━━━━━━━━━━━━━━━━━━━━━━━━\u001b[0m \u001b[32m138.9/138.9 kB\u001b[0m \u001b[31m16.1 MB/s\u001b[0m eta \u001b[36m0:00:00\u001b[0m\n",
      "\u001b[?25hDownloading pyzstd-0.15.9-cp310-cp310-manylinux_2_17_x86_64.manylinux2014_x86_64.whl (412 kB)\n",
      "\u001b[2K   \u001b[90m━━━━━━━━━━━━━━━━━━━━━━━━━━━━━━━━━━━━━━━━\u001b[0m \u001b[32m412.3/412.3 kB\u001b[0m \u001b[31m35.8 MB/s\u001b[0m eta \u001b[36m0:00:00\u001b[0m\n",
      "\u001b[?25hInstalling collected packages: brotli, pyzstd, pyppmd, pycryptodomex, pybcj, multivolumefile, inflate64, py7zr\n",
      "Successfully installed brotli-1.1.0 inflate64-1.0.0 multivolumefile-0.2.3 py7zr-0.20.8 pybcj-1.0.2 pycryptodomex-3.19.1 pyppmd-1.1.0 pyzstd-0.15.9\n"
     ]
    }
   ],
   "source": [
    "#!pip install datasets # Installing the datasets library (https://huggingface.co/docs/datasets/index)\n",
    "!pip install evaluate # Installing the evaluate library (https://huggingface.co/docs/evaluate/main/en/index)\n",
    "!pip install transformers # Installing the transformers library (https://huggingface.co/docs/transformers/index)\n",
    "!pip install rouge-score # Installing rouge-score library (https://pypi.org/project/rouge-score/)\n",
    "!pip install py7zr # Installing library to save zip archives (https://pypi.org/project/py7zr/)"
   ]
  },
  {
   "cell_type": "code",
   "execution_count": 4,
   "metadata": {
    "execution": {
     "iopub.execute_input": "2023-12-30T02:32:12.776260Z",
     "iopub.status.busy": "2023-12-30T02:32:12.775910Z",
     "iopub.status.idle": "2023-12-30T02:32:25.251988Z",
     "shell.execute_reply": "2023-12-30T02:32:25.250615Z",
     "shell.execute_reply.started": "2023-12-30T02:32:12.776233Z"
    }
   },
   "outputs": [
    {
     "name": "stdout",
     "output_type": "stream",
     "text": [
      "Requirement already satisfied: datasets in /opt/conda/lib/python3.10/site-packages (2.1.0)\n",
      "Requirement already satisfied: numpy>=1.17 in /opt/conda/lib/python3.10/site-packages (from datasets) (1.24.3)\n",
      "Requirement already satisfied: pyarrow>=5.0.0 in /opt/conda/lib/python3.10/site-packages (from datasets) (11.0.0)\n",
      "Requirement already satisfied: dill in /opt/conda/lib/python3.10/site-packages (from datasets) (0.3.7)\n",
      "Requirement already satisfied: pandas in /opt/conda/lib/python3.10/site-packages (from datasets) (2.0.3)\n",
      "Requirement already satisfied: requests>=2.19.0 in /opt/conda/lib/python3.10/site-packages (from datasets) (2.31.0)\n",
      "Requirement already satisfied: tqdm>=4.62.1 in /opt/conda/lib/python3.10/site-packages (from datasets) (4.66.1)\n",
      "Requirement already satisfied: xxhash in /opt/conda/lib/python3.10/site-packages (from datasets) (3.4.1)\n",
      "Requirement already satisfied: multiprocess in /opt/conda/lib/python3.10/site-packages (from datasets) (0.70.15)\n",
      "Requirement already satisfied: fsspec[http]>=2021.05.0 in /opt/conda/lib/python3.10/site-packages (from datasets) (2023.12.2)\n",
      "Requirement already satisfied: aiohttp in /opt/conda/lib/python3.10/site-packages (from datasets) (3.8.5)\n",
      "Requirement already satisfied: huggingface-hub<1.0.0,>=0.1.0 in /opt/conda/lib/python3.10/site-packages (from datasets) (0.19.4)\n",
      "Requirement already satisfied: packaging in /opt/conda/lib/python3.10/site-packages (from datasets) (21.3)\n",
      "Requirement already satisfied: responses<0.19 in /opt/conda/lib/python3.10/site-packages (from datasets) (0.18.0)\n",
      "Requirement already satisfied: attrs>=17.3.0 in /opt/conda/lib/python3.10/site-packages (from aiohttp->datasets) (23.1.0)\n",
      "Requirement already satisfied: charset-normalizer<4.0,>=2.0 in /opt/conda/lib/python3.10/site-packages (from aiohttp->datasets) (3.2.0)\n",
      "Requirement already satisfied: multidict<7.0,>=4.5 in /opt/conda/lib/python3.10/site-packages (from aiohttp->datasets) (6.0.4)\n",
      "Requirement already satisfied: async-timeout<5.0,>=4.0.0a3 in /opt/conda/lib/python3.10/site-packages (from aiohttp->datasets) (4.0.3)\n",
      "Requirement already satisfied: yarl<2.0,>=1.0 in /opt/conda/lib/python3.10/site-packages (from aiohttp->datasets) (1.9.2)\n",
      "Requirement already satisfied: frozenlist>=1.1.1 in /opt/conda/lib/python3.10/site-packages (from aiohttp->datasets) (1.4.0)\n",
      "Requirement already satisfied: aiosignal>=1.1.2 in /opt/conda/lib/python3.10/site-packages (from aiohttp->datasets) (1.3.1)\n",
      "Requirement already satisfied: filelock in /opt/conda/lib/python3.10/site-packages (from huggingface-hub<1.0.0,>=0.1.0->datasets) (3.12.2)\n",
      "Requirement already satisfied: pyyaml>=5.1 in /opt/conda/lib/python3.10/site-packages (from huggingface-hub<1.0.0,>=0.1.0->datasets) (6.0.1)\n",
      "Requirement already satisfied: typing-extensions>=3.7.4.3 in /opt/conda/lib/python3.10/site-packages (from huggingface-hub<1.0.0,>=0.1.0->datasets) (4.5.0)\n",
      "Requirement already satisfied: pyparsing!=3.0.5,>=2.0.2 in /opt/conda/lib/python3.10/site-packages (from packaging->datasets) (3.0.9)\n",
      "Requirement already satisfied: idna<4,>=2.5 in /opt/conda/lib/python3.10/site-packages (from requests>=2.19.0->datasets) (3.4)\n",
      "Requirement already satisfied: urllib3<3,>=1.21.1 in /opt/conda/lib/python3.10/site-packages (from requests>=2.19.0->datasets) (1.26.15)\n",
      "Requirement already satisfied: certifi>=2017.4.17 in /opt/conda/lib/python3.10/site-packages (from requests>=2.19.0->datasets) (2023.11.17)\n",
      "Requirement already satisfied: python-dateutil>=2.8.2 in /opt/conda/lib/python3.10/site-packages (from pandas->datasets) (2.8.2)\n",
      "Requirement already satisfied: pytz>=2020.1 in /opt/conda/lib/python3.10/site-packages (from pandas->datasets) (2023.3)\n",
      "Requirement already satisfied: tzdata>=2022.1 in /opt/conda/lib/python3.10/site-packages (from pandas->datasets) (2023.3)\n",
      "Requirement already satisfied: six>=1.5 in /opt/conda/lib/python3.10/site-packages (from python-dateutil>=2.8.2->pandas->datasets) (1.16.0)\n",
      "Note: you may need to restart the kernel to use updated packages.\n"
     ]
    }
   ],
   "source": [
    "pip install datasets"
   ]
  },
  {
   "cell_type": "code",
   "execution_count": 5,
   "metadata": {
    "execution": {
     "iopub.execute_input": "2023-12-30T02:32:25.253762Z",
     "iopub.status.busy": "2023-12-30T02:32:25.253449Z",
     "iopub.status.idle": "2023-12-30T02:32:25.458543Z",
     "shell.execute_reply": "2023-12-30T02:32:25.457532Z",
     "shell.execute_reply.started": "2023-12-30T02:32:25.253735Z"
    }
   },
   "outputs": [
    {
     "data": {
      "text/html": [
       "        <script type=\"text/javascript\">\n",
       "        window.PlotlyConfig = {MathJaxConfig: 'local'};\n",
       "        if (window.MathJax && window.MathJax.Hub && window.MathJax.Hub.Config) {window.MathJax.Hub.Config({SVG: {font: \"STIX-Web\"}});}\n",
       "        if (typeof require !== 'undefined') {\n",
       "        require.undef(\"plotly\");\n",
       "        requirejs.config({\n",
       "            paths: {\n",
       "                'plotly': ['https://cdn.plot.ly/plotly-2.25.2.min']\n",
       "            }\n",
       "        });\n",
       "        require(['plotly'], function(Plotly) {\n",
       "            window._Plotly = Plotly;\n",
       "        });\n",
       "        }\n",
       "        </script>\n",
       "        "
      ]
     },
     "metadata": {},
     "output_type": "display_data"
    }
   ],
   "source": [
    "# Importing Libraries\n",
    "\n",
    "# Data Handling\n",
    "import pandas as pd\n",
    "import numpy as np\n",
    "from datasets import Dataset, load_metric\n",
    "import shutil\n",
    "\n",
    "# Data Visualization\n",
    "import plotly.express as px\n",
    "import plotly.graph_objs as go\n",
    "import plotly.subplots as sp\n",
    "from plotly.subplots import make_subplots\n",
    "import plotly.figure_factory as ff\n",
    "import plotly.io as pio\n",
    "from IPython.display import display\n",
    "from plotly.offline import init_notebook_mode\n",
    "init_notebook_mode(connected=True)\n",
    "\n",
    "# Statistics & Mathematics\n",
    "import scipy.stats as stats\n",
    "import statsmodels.api as sm\n",
    "from scipy.stats import shapiro, skew, anderson, kstest, gaussian_kde,spearmanr\n",
    "import math\n",
    "\n",
    "# Hiding warnings\n",
    "import warnings\n",
    "warnings.filterwarnings(\"ignore\")"
   ]
  },
  {
   "cell_type": "code",
   "execution_count": 6,
   "metadata": {
    "execution": {
     "iopub.execute_input": "2023-12-30T02:32:39.532697Z",
     "iopub.status.busy": "2023-12-30T02:32:39.532290Z",
     "iopub.status.idle": "2023-12-30T02:32:40.353231Z",
     "shell.execute_reply": "2023-12-30T02:32:40.352277Z",
     "shell.execute_reply.started": "2023-12-30T02:32:39.532664Z"
    }
   },
   "outputs": [
    {
     "name": "stdout",
     "output_type": "stream",
     "text": [
      "[nltk_data] Downloading package punkt to /usr/share/nltk_data...\n",
      "[nltk_data]   Package punkt is already up-to-date!\n"
     ]
    },
    {
     "data": {
      "text/plain": [
       "True"
      ]
     },
     "execution_count": 6,
     "metadata": {},
     "output_type": "execute_result"
    }
   ],
   "source": [
    "# Transformers\n",
    "from transformers import BartTokenizer, BartForConditionalGeneration      # BERT Tokenizer and architecture\n",
    "from transformers import Seq2SeqTrainer, Seq2SeqTrainingArguments         # These will help us to fine-tune our model\n",
    "from transformers import pipeline                                         # Pipeline\n",
    "from transformers import DataCollatorForSeq2Seq                           # DataCollator to batch the data \n",
    "import torch                                                              # PyTorch\n",
    "import evaluate                                                           # Hugging Face's library for model evaluation\n",
    "\n",
    "\n",
    "# Other NLP libraries\n",
    "from textblob import TextBlob                                             # This is going to help us fix spelling mistakes in texts\n",
    "from sklearn.feature_extraction.text import TfidfVectorizer               # This is going to helps identify the most common terms in the corpus\n",
    "import re                                                                 # This library allows us to clean text data\n",
    "import nltk                                                               # Natural Language Toolkit\n",
    "nltk.download('punkt')                                                    # This divides a text into a list of sentences"
   ]
  },
  {
   "cell_type": "code",
   "execution_count": 7,
   "metadata": {
    "execution": {
     "iopub.execute_input": "2023-12-30T02:33:03.444458Z",
     "iopub.status.busy": "2023-12-30T02:33:03.444080Z",
     "iopub.status.idle": "2023-12-30T02:33:03.516899Z",
     "shell.execute_reply": "2023-12-30T02:33:03.515772Z",
     "shell.execute_reply.started": "2023-12-30T02:33:03.444425Z"
    }
   },
   "outputs": [
    {
     "name": "stdout",
     "output_type": "stream",
     "text": [
      "GPU is available. \n",
      "Using GPU\n"
     ]
    }
   ],
   "source": [
    "pd.set_option('display.max_colwidth', 1000)\n",
    "# Configuring notebook\n",
    "seed = 42\n",
    "colormap = 'cividis'\n",
    "template = 'plotly_dark'\n",
    "# Checking if GPU is available\n",
    "if torch.cuda.is_available():\n",
    "    print(\"GPU is available. \\nUsing GPU\")\n",
    "    device = torch.device('cuda')\n",
    "else:\n",
    "    print(\"GPU is not available. \\nUsing CPU\")\n",
    "    device = torch.device('cpu')"
   ]
  },
  {
   "cell_type": "markdown",
   "metadata": {},
   "source": [
    "<div style=\"background-color:olive; color:white; font-size:15px; font-family:Verdana; padding:10px;font-weight:bold;border: 5px solid black;text-align:center\">\n",
    "TF-IDF\n",
    "</div>"
   ]
  },
  {
   "cell_type": "code",
   "execution_count": 8,
   "metadata": {
    "execution": {
     "iopub.execute_input": "2023-12-30T02:33:09.764691Z",
     "iopub.status.busy": "2023-12-30T02:33:09.763825Z",
     "iopub.status.idle": "2023-12-30T02:33:09.770118Z",
     "shell.execute_reply": "2023-12-30T02:33:09.769047Z",
     "shell.execute_reply.started": "2023-12-30T02:33:09.764657Z"
    }
   },
   "outputs": [],
   "source": [
    "def compute_tfidf(df_column, ngram_range=(1,1), max_features=15):\n",
    "    vectorizer = TfidfVectorizer(max_features=max_features, stop_words='english', ngram_range=ngram_range)\n",
    "    x = vectorizer.fit_transform(df_column.fillna(''))\n",
    "    df_tfidfvect = pd.DataFrame(x.toarray(), columns=vectorizer.get_feature_names_out())\n",
    "    return df_tfidfvect"
   ]
  },
  {
   "cell_type": "markdown",
   "metadata": {},
   "source": [
    "<div style=\"background-color:olive; color:white; font-size:15px; font-family:Verdana; padding:10px;font-weight:bold;border: 5px solid black;text-align:center\">\n",
    "importer le jeu de données\n",
    "</div>"
   ]
  },
  {
   "cell_type": "code",
   "execution_count": 9,
   "metadata": {
    "execution": {
     "iopub.execute_input": "2023-12-30T02:33:26.929090Z",
     "iopub.status.busy": "2023-12-30T02:33:26.928694Z",
     "iopub.status.idle": "2023-12-30T02:33:27.575613Z",
     "shell.execute_reply": "2023-12-30T02:33:27.574686Z",
     "shell.execute_reply.started": "2023-12-30T02:33:26.929061Z"
    }
   },
   "outputs": [],
   "source": [
    "from sklearn.model_selection import train_test_split\n",
    "\n",
    "data_path = '/kaggle/input/cleaned-dataset/cleaned_corpus.xlsx'\n",
    "df = pd.read_excel(data_path)"
   ]
  },
  {
   "cell_type": "code",
   "execution_count": 10,
   "metadata": {
    "execution": {
     "iopub.execute_input": "2023-12-30T02:33:45.708837Z",
     "iopub.status.busy": "2023-12-30T02:33:45.708121Z",
     "iopub.status.idle": "2023-12-30T02:33:45.734185Z",
     "shell.execute_reply": "2023-12-30T02:33:45.733070Z",
     "shell.execute_reply.started": "2023-12-30T02:33:45.708803Z"
    }
   },
   "outputs": [
    {
     "data": {
      "text/html": [
       "<div>\n",
       "<style scoped>\n",
       "    .dataframe tbody tr th:only-of-type {\n",
       "        vertical-align: middle;\n",
       "    }\n",
       "\n",
       "    .dataframe tbody tr th {\n",
       "        vertical-align: top;\n",
       "    }\n",
       "\n",
       "    .dataframe thead th {\n",
       "        text-align: right;\n",
       "    }\n",
       "</style>\n",
       "<table border=\"1\" class=\"dataframe\">\n",
       "  <thead>\n",
       "    <tr style=\"text-align: right;\">\n",
       "      <th></th>\n",
       "      <th>Content_preprocessed</th>\n",
       "      <th>Summary_preprocessed</th>\n",
       "    </tr>\n",
       "  </thead>\n",
       "  <tbody>\n",
       "    <tr>\n",
       "      <th>0</th>\n",
       "      <td>severe storms and at least one tornado slammed through central tennessee killing 24 people and wrecking hundreds of buildings hours before dawn on tuesday  it s tragic day in our state gov bill lee told reporters  it s heartbreaking.  initial surveys indicated ef-3 tornado damage in east nashville nashville s donelson neighborhood and in mt juliet town about 20 miles east of nashville the national weather service said among the victims was couple who was hit by debris shortly after they left the attaboy lounge an east nashville cocktail bar where one of them worked the metro nashville police department said they were identified as michael dolfini 36 and his girlfriend albree sexton 33 as of tuesday evening 18 people were reported dead in putnam county three in wilson county two in davidson county and one in benton county the tennessee emergency management authority said the agency said one death previously reported in putnam county was not storm related putnam county officials have...</td>\n",
       "      <td>it s heartbreaking. initial surveys indicated ef-3 tornado damage in east nashville nashville s donelson neighborhood and in mt as of tuesday evening 18 people were reported dead in putnam county three in wilson county two in davidson county and one in benton county the tennessee emergency management authority said robin fugett and her husband ran to the basement of their east nashville home early tuesday when they heard swirling wind in davidson county where nashville is and wilson county voting was delayed one hour because of the storms officials said wtvfmetro nashville public schools are closed due to tornado damage throughout the city the district said.</td>\n",
       "    </tr>\n",
       "    <tr>\n",
       "      <th>1</th>\n",
       "      <td>by the time the tornado siren sounded one week ago the roof of sydney moore s mobile home in clarksville tennessee had been sheared off and her 4-month-old son lord sucked up by the twister  there was no warning said moore 22 who immediately moved to shield her 1-year-old son princeton with her body moore s boyfriend aramis youngblood 39 rushed to protect lord who was sleeping in bassinet swept up in swirl of wind and debris saturday evening as series of powerful tornadoes and storms tore through the state the walls of moore s mobile home came down next the roar of shredding winds was punctuated by pounding rains youngblood reaching for the bassinet also was lifted off the ground and hurtled through the air moore recalled moore cradling her 1-year-old son climbed out from beneath the remains of the crushed mobile home  my kids never cry they re such good babies she said  i was trying to get us out he wasn t even crying.  youngblood his shoulder dislocated spent an agonizing 10 minu...</td>\n",
       "      <td>by the time the tornado siren sounded one week ago the roof of sydney moore s mobile home in clarksville tennessee had been sheared off and her 4-month-old son lord sucked up by the twister moments before the clarksville tornado touched down moore youngblood and the boys were relaxing in her mobile home tornado passes in front of storm chasers in clarksville tennessee last saturday it s really so comforting sydney moore said  like an angel guided him safely to that spot. in an interview caitlyn moore said it s miracle lord is alive.</td>\n",
       "    </tr>\n",
       "    <tr>\n",
       "      <th>2</th>\n",
       "      <td>severe storms and at least one tornado slammed through central tennessee killing 24 people and wrecking hundreds of buildings hours before dawn on tuesday  it s tragic day in our state gov bill lee told reporters  it s heartbreaking.  initial surveys indicated ef-3 tornado damage in east nashville nashville s donelson neighborhood and in mt juliet town about 20 miles east of nashville the national weather service said among the victims was couple who was hit by debris shortly after they left the attaboy lounge an east nashville cocktail bar where one of them worked the metro nashville police department said they were identified as michael dolfini 36 and his girlfriend albree sexton 33 as of tuesday evening 18 people were reported dead in putnam county three in wilson county two in davidson county and one in benton county the tennessee emergency management authority said the agency said one death previously reported in putnam county was not storm related putnam county officials have...</td>\n",
       "      <td>it s heartbreaking. initial surveys indicated ef-3 tornado damage in east nashville nashville s donelson neighborhood and in mt as of tuesday evening 18 people were reported dead in putnam county three in wilson county two in davidson county and one in benton county the tennessee emergency management authority said robin fugett and her husband ran to the basement of their east nashville home early tuesday when they heard swirling wind in davidson county where nashville is and wilson county voting was delayed one hour because of the storms officials said wtvfmetro nashville public schools are closed due to tornado damage throughout the city the district said.</td>\n",
       "    </tr>\n",
       "    <tr>\n",
       "      <th>3</th>\n",
       "      <td>a powerful storm that s been slamming the northeast has washed out roads altered travel plans for thousands of people and knocked out power to nearly half of maine and dangerous flood threat will remain even after it moves out of the region the storm dumped 4 inches of rain over much of the northeast within 24 hours with reports of more than five inches of water reported just northwest of new york city authorities there issued flood advisory for the bronx monday evening warning of flooding in  low-lying poor drainage areas.  in maine and new hampshire there were multiple reports of water rescues the national weather service said monday the storm will continue to impact new england into monday night and level out of threat remains in effect for excessive rainfall and flash flooding in some areas peak wind gusts of 50 to 60 mph have also been reported in the mid-atlantic with gusts near hurricane force recorded across coastal new england as of p.m more than 730 000 customers were wit...</td>\n",
       "      <td>the storm dumped 4 inches of rain over much of the northeast within 24 hours with reports of more than five inches of water reported just northwest of new york city tariq zehawi/northjersey.com/usa today networka dangerous morning commute unfolded on the ground across the northeast with water rescues of drivers stranded in floodwaters reported in the region the storm will start to push away from the northeast and move into canada later monday evening but its effects will linger bit of snow will fall across portions of the interior northeast monday night into early tuesday the record rain combined with strong winds pushing water onshore to cause widespread flooding issues in charleston on sunday.</td>\n",
       "    </tr>\n",
       "    <tr>\n",
       "      <th>4</th>\n",
       "      <td>1 how relevant is this ad to you video player was slow to load content video content never loaded ad froze or did not finish loading video content did not start after ad audio on ad was too loud other issues</td>\n",
       "      <td>how relevant is this ad to you video player was slow to load content video content never loaded ad froze or did not finish loading video content did not start after ad audio on ad was too loud other issues</td>\n",
       "    </tr>\n",
       "  </tbody>\n",
       "</table>\n",
       "</div>"
      ],
      "text/plain": [
       "                                                                                                                                                                                                                                                                                                                                                                                                                                                                                                                                                                                                                                                                                                                                                                                                                                                                                                                                                                                                                      Content_preprocessed  \\\n",
       "0  severe storms and at least one tornado slammed through central tennessee killing 24 people and wrecking hundreds of buildings hours before dawn on tuesday  it s tragic day in our state gov bill lee told reporters  it s heartbreaking.  initial surveys indicated ef-3 tornado damage in east nashville nashville s donelson neighborhood and in mt juliet town about 20 miles east of nashville the national weather service said among the victims was couple who was hit by debris shortly after they left the attaboy lounge an east nashville cocktail bar where one of them worked the metro nashville police department said they were identified as michael dolfini 36 and his girlfriend albree sexton 33 as of tuesday evening 18 people were reported dead in putnam county three in wilson county two in davidson county and one in benton county the tennessee emergency management authority said the agency said one death previously reported in putnam county was not storm related putnam county officials have...   \n",
       "1  by the time the tornado siren sounded one week ago the roof of sydney moore s mobile home in clarksville tennessee had been sheared off and her 4-month-old son lord sucked up by the twister  there was no warning said moore 22 who immediately moved to shield her 1-year-old son princeton with her body moore s boyfriend aramis youngblood 39 rushed to protect lord who was sleeping in bassinet swept up in swirl of wind and debris saturday evening as series of powerful tornadoes and storms tore through the state the walls of moore s mobile home came down next the roar of shredding winds was punctuated by pounding rains youngblood reaching for the bassinet also was lifted off the ground and hurtled through the air moore recalled moore cradling her 1-year-old son climbed out from beneath the remains of the crushed mobile home  my kids never cry they re such good babies she said  i was trying to get us out he wasn t even crying.  youngblood his shoulder dislocated spent an agonizing 10 minu...   \n",
       "2  severe storms and at least one tornado slammed through central tennessee killing 24 people and wrecking hundreds of buildings hours before dawn on tuesday  it s tragic day in our state gov bill lee told reporters  it s heartbreaking.  initial surveys indicated ef-3 tornado damage in east nashville nashville s donelson neighborhood and in mt juliet town about 20 miles east of nashville the national weather service said among the victims was couple who was hit by debris shortly after they left the attaboy lounge an east nashville cocktail bar where one of them worked the metro nashville police department said they were identified as michael dolfini 36 and his girlfriend albree sexton 33 as of tuesday evening 18 people were reported dead in putnam county three in wilson county two in davidson county and one in benton county the tennessee emergency management authority said the agency said one death previously reported in putnam county was not storm related putnam county officials have...   \n",
       "3  a powerful storm that s been slamming the northeast has washed out roads altered travel plans for thousands of people and knocked out power to nearly half of maine and dangerous flood threat will remain even after it moves out of the region the storm dumped 4 inches of rain over much of the northeast within 24 hours with reports of more than five inches of water reported just northwest of new york city authorities there issued flood advisory for the bronx monday evening warning of flooding in  low-lying poor drainage areas.  in maine and new hampshire there were multiple reports of water rescues the national weather service said monday the storm will continue to impact new england into monday night and level out of threat remains in effect for excessive rainfall and flash flooding in some areas peak wind gusts of 50 to 60 mph have also been reported in the mid-atlantic with gusts near hurricane force recorded across coastal new england as of p.m more than 730 000 customers were wit...   \n",
       "4                                                                                                                                                                                                                                                                                                                                                                                                                                                                                                                                                                                                                                                                                                                                                                                                                          1 how relevant is this ad to you video player was slow to load content video content never loaded ad froze or did not finish loading video content did not start after ad audio on ad was too loud other issues   \n",
       "\n",
       "                                                                                                                                                                                                                                                                                                                                                                                                                                                                                                                                                                                                                                                                                                               Summary_preprocessed  \n",
       "0                                        it s heartbreaking. initial surveys indicated ef-3 tornado damage in east nashville nashville s donelson neighborhood and in mt as of tuesday evening 18 people were reported dead in putnam county three in wilson county two in davidson county and one in benton county the tennessee emergency management authority said robin fugett and her husband ran to the basement of their east nashville home early tuesday when they heard swirling wind in davidson county where nashville is and wilson county voting was delayed one hour because of the storms officials said wtvfmetro nashville public schools are closed due to tornado damage throughout the city the district said.  \n",
       "1                                                                                                                                                                        by the time the tornado siren sounded one week ago the roof of sydney moore s mobile home in clarksville tennessee had been sheared off and her 4-month-old son lord sucked up by the twister moments before the clarksville tornado touched down moore youngblood and the boys were relaxing in her mobile home tornado passes in front of storm chasers in clarksville tennessee last saturday it s really so comforting sydney moore said  like an angel guided him safely to that spot. in an interview caitlyn moore said it s miracle lord is alive.  \n",
       "2                                        it s heartbreaking. initial surveys indicated ef-3 tornado damage in east nashville nashville s donelson neighborhood and in mt as of tuesday evening 18 people were reported dead in putnam county three in wilson county two in davidson county and one in benton county the tennessee emergency management authority said robin fugett and her husband ran to the basement of their east nashville home early tuesday when they heard swirling wind in davidson county where nashville is and wilson county voting was delayed one hour because of the storms officials said wtvfmetro nashville public schools are closed due to tornado damage throughout the city the district said.  \n",
       "3  the storm dumped 4 inches of rain over much of the northeast within 24 hours with reports of more than five inches of water reported just northwest of new york city tariq zehawi/northjersey.com/usa today networka dangerous morning commute unfolded on the ground across the northeast with water rescues of drivers stranded in floodwaters reported in the region the storm will start to push away from the northeast and move into canada later monday evening but its effects will linger bit of snow will fall across portions of the interior northeast monday night into early tuesday the record rain combined with strong winds pushing water onshore to cause widespread flooding issues in charleston on sunday.  \n",
       "4                                                                                                                                                                                                                                                                                                                                                                                                                                                                                                                     how relevant is this ad to you video player was slow to load content video content never loaded ad froze or did not finish loading video content did not start after ad audio on ad was too loud other issues  "
      ]
     },
     "execution_count": 10,
     "metadata": {},
     "output_type": "execute_result"
    }
   ],
   "source": [
    "df =  df[['Content_preprocessed','Summary_preprocessed']]\n",
    "df.head()"
   ]
  },
  {
   "cell_type": "markdown",
   "metadata": {},
   "source": [
    "<div style=\"background-color:olive; color:white; font-size:15px; font-family:Verdana; padding:10px;font-weight:bold;border: 5px solid black;text-align:center\">\n",
    "Split the data\n",
    "</div>"
   ]
  },
  {
   "cell_type": "code",
   "execution_count": 11,
   "metadata": {
    "execution": {
     "iopub.execute_input": "2023-12-30T02:34:51.646695Z",
     "iopub.status.busy": "2023-12-30T02:34:51.646283Z",
     "iopub.status.idle": "2023-12-30T02:34:51.655894Z",
     "shell.execute_reply": "2023-12-30T02:34:51.654752Z",
     "shell.execute_reply.started": "2023-12-30T02:34:51.646664Z"
    }
   },
   "outputs": [],
   "source": [
    "# Split the data into train, validation, and test sets\n",
    "train, temp_data = train_test_split(df, test_size=0.2, random_state=42)\n",
    "val, test = train_test_split(temp_data, test_size=0.5, random_state=42)"
   ]
  },
  {
   "cell_type": "markdown",
   "metadata": {},
   "source": [
    "<div style=\"background-color:olive; color:white; font-size:15px; font-family:Verdana; padding:10px;font-weight:bold;border: 5px solid black;text-align:center\">\n",
    "Transformation de dataframes vers datasets\n",
    "</div>"
   ]
  },
  {
   "cell_type": "code",
   "execution_count": 12,
   "metadata": {
    "execution": {
     "iopub.execute_input": "2023-12-30T02:34:56.371943Z",
     "iopub.status.busy": "2023-12-30T02:34:56.371525Z",
     "iopub.status.idle": "2023-12-30T02:34:56.421035Z",
     "shell.execute_reply": "2023-12-30T02:34:56.419919Z",
     "shell.execute_reply.started": "2023-12-30T02:34:56.371905Z"
    }
   },
   "outputs": [
    {
     "name": "stdout",
     "output_type": "stream",
     "text": [
      "Dataset({\n",
      "    features: ['Content_preprocessed', 'Summary_preprocessed', '__index_level_0__'],\n",
      "    num_rows: 1514\n",
      "})\n",
      "\n",
      "\n",
      "\n",
      "Dataset({\n",
      "    features: ['Content_preprocessed', 'Summary_preprocessed', '__index_level_0__'],\n",
      "    num_rows: 190\n",
      "})\n",
      "\n",
      "\n",
      "\n",
      "Dataset({\n",
      "    features: ['Content_preprocessed', 'Summary_preprocessed', '__index_level_0__'],\n",
      "    num_rows: 189\n",
      "})\n"
     ]
    }
   ],
   "source": [
    "# Transforming dataframes into datasets\n",
    "train_ds = Dataset.from_pandas(train)\n",
    "test_ds = Dataset.from_pandas(test)\n",
    "val_ds = Dataset.from_pandas(val)\n",
    "\n",
    "# Visualizing results\n",
    "print(train_ds)\n",
    "print('\\n' * 2)\n",
    "print(test_ds)\n",
    "print('\\n' * 2)\n",
    "print(val_ds)"
   ]
  },
  {
   "cell_type": "markdown",
   "metadata": {},
   "source": [
    "<div style=\"background-color:olive; color:white; font-size:15px; font-family:Verdana; padding:10px;font-weight:bold;border: 5px solid black;text-align:center\">\n",
    "Modelisation et création de modèle BART\n",
    "</div>"
   ]
  },
  {
   "cell_type": "code",
   "execution_count": 13,
   "metadata": {
    "execution": {
     "iopub.execute_input": "2023-12-30T02:35:01.485130Z",
     "iopub.status.busy": "2023-12-30T02:35:01.484525Z",
     "iopub.status.idle": "2023-12-30T02:35:02.875623Z",
     "shell.execute_reply": "2023-12-30T02:35:02.874616Z",
     "shell.execute_reply.started": "2023-12-30T02:35:01.485094Z"
    }
   },
   "outputs": [
    {
     "data": {
      "application/vnd.jupyter.widget-view+json": {
       "model_id": "86f7bbeb14e04a02bf0fb32d1a2c75d2",
       "version_major": 2,
       "version_minor": 0
      },
      "text/plain": [
       "tokenizer_config.json:   0%|          | 0.00/26.0 [00:00<?, ?B/s]"
      ]
     },
     "metadata": {},
     "output_type": "display_data"
    },
    {
     "data": {
      "application/vnd.jupyter.widget-view+json": {
       "model_id": "9393d5de41be49d6b81cabb15f34a1a0",
       "version_major": 2,
       "version_minor": 0
      },
      "text/plain": [
       "vocab.json:   0%|          | 0.00/899k [00:00<?, ?B/s]"
      ]
     },
     "metadata": {},
     "output_type": "display_data"
    },
    {
     "data": {
      "application/vnd.jupyter.widget-view+json": {
       "model_id": "9d1254902cae40a8bc7a644cfad5674c",
       "version_major": 2,
       "version_minor": 0
      },
      "text/plain": [
       "merges.txt:   0%|          | 0.00/456k [00:00<?, ?B/s]"
      ]
     },
     "metadata": {},
     "output_type": "display_data"
    },
    {
     "data": {
      "application/vnd.jupyter.widget-view+json": {
       "model_id": "6cd15b398e6c48a2bbd070b0220491a7",
       "version_major": 2,
       "version_minor": 0
      },
      "text/plain": [
       "tokenizer.json:   0%|          | 0.00/1.36M [00:00<?, ?B/s]"
      ]
     },
     "metadata": {},
     "output_type": "display_data"
    },
    {
     "data": {
      "application/vnd.jupyter.widget-view+json": {
       "model_id": "ca24493b224f42349bd04ef9c7c74981",
       "version_major": 2,
       "version_minor": 0
      },
      "text/plain": [
       "config.json:   0%|          | 0.00/1.51k [00:00<?, ?B/s]"
      ]
     },
     "metadata": {},
     "output_type": "display_data"
    }
   ],
   "source": [
    "checkpoint = 'facebook/bart-large-xsum' # Model\n",
    "tokenizer = BartTokenizer.from_pretrained(checkpoint) # Loading Tokenizer"
   ]
  },
  {
   "cell_type": "code",
   "execution_count": 14,
   "metadata": {
    "execution": {
     "iopub.execute_input": "2023-12-30T02:35:07.678719Z",
     "iopub.status.busy": "2023-12-30T02:35:07.678299Z",
     "iopub.status.idle": "2023-12-30T02:35:18.159698Z",
     "shell.execute_reply": "2023-12-30T02:35:18.158977Z",
     "shell.execute_reply.started": "2023-12-30T02:35:07.678684Z"
    }
   },
   "outputs": [
    {
     "data": {
      "application/vnd.jupyter.widget-view+json": {
       "model_id": "11bdc3fe263543f394cc6d6b3f555976",
       "version_major": 2,
       "version_minor": 0
      },
      "text/plain": [
       "pytorch_model.bin:   0%|          | 0.00/1.63G [00:00<?, ?B/s]"
      ]
     },
     "metadata": {},
     "output_type": "display_data"
    },
    {
     "data": {
      "application/vnd.jupyter.widget-view+json": {
       "model_id": "cb8d5ac5be01481291c7b70610bd19d2",
       "version_major": 2,
       "version_minor": 0
      },
      "text/plain": [
       "generation_config.json:   0%|          | 0.00/309 [00:00<?, ?B/s]"
      ]
     },
     "metadata": {},
     "output_type": "display_data"
    }
   ],
   "source": [
    "model = BartForConditionalGeneration.from_pretrained(checkpoint) # Loading Model"
   ]
  },
  {
   "cell_type": "code",
   "execution_count": 15,
   "metadata": {
    "execution": {
     "iopub.execute_input": "2023-12-30T02:35:28.306625Z",
     "iopub.status.busy": "2023-12-30T02:35:28.305663Z",
     "iopub.status.idle": "2023-12-30T02:35:28.314241Z",
     "shell.execute_reply": "2023-12-30T02:35:28.313096Z",
     "shell.execute_reply.started": "2023-12-30T02:35:28.306587Z"
    }
   },
   "outputs": [
    {
     "name": "stdout",
     "output_type": "stream",
     "text": [
      "BartForConditionalGeneration(\n",
      "  (model): BartModel(\n",
      "    (shared): Embedding(50264, 1024, padding_idx=1)\n",
      "    (encoder): BartEncoder(\n",
      "      (embed_tokens): Embedding(50264, 1024, padding_idx=1)\n",
      "      (embed_positions): BartLearnedPositionalEmbedding(1026, 1024)\n",
      "      (layers): ModuleList(\n",
      "        (0-11): 12 x BartEncoderLayer(\n",
      "          (self_attn): BartAttention(\n",
      "            (k_proj): Linear(in_features=1024, out_features=1024, bias=True)\n",
      "            (v_proj): Linear(in_features=1024, out_features=1024, bias=True)\n",
      "            (q_proj): Linear(in_features=1024, out_features=1024, bias=True)\n",
      "            (out_proj): Linear(in_features=1024, out_features=1024, bias=True)\n",
      "          )\n",
      "          (self_attn_layer_norm): LayerNorm((1024,), eps=1e-05, elementwise_affine=True)\n",
      "          (activation_fn): GELUActivation()\n",
      "          (fc1): Linear(in_features=1024, out_features=4096, bias=True)\n",
      "          (fc2): Linear(in_features=4096, out_features=1024, bias=True)\n",
      "          (final_layer_norm): LayerNorm((1024,), eps=1e-05, elementwise_affine=True)\n",
      "        )\n",
      "      )\n",
      "      (layernorm_embedding): LayerNorm((1024,), eps=1e-05, elementwise_affine=True)\n",
      "    )\n",
      "    (decoder): BartDecoder(\n",
      "      (embed_tokens): Embedding(50264, 1024, padding_idx=1)\n",
      "      (embed_positions): BartLearnedPositionalEmbedding(1026, 1024)\n",
      "      (layers): ModuleList(\n",
      "        (0-11): 12 x BartDecoderLayer(\n",
      "          (self_attn): BartAttention(\n",
      "            (k_proj): Linear(in_features=1024, out_features=1024, bias=True)\n",
      "            (v_proj): Linear(in_features=1024, out_features=1024, bias=True)\n",
      "            (q_proj): Linear(in_features=1024, out_features=1024, bias=True)\n",
      "            (out_proj): Linear(in_features=1024, out_features=1024, bias=True)\n",
      "          )\n",
      "          (activation_fn): GELUActivation()\n",
      "          (self_attn_layer_norm): LayerNorm((1024,), eps=1e-05, elementwise_affine=True)\n",
      "          (encoder_attn): BartAttention(\n",
      "            (k_proj): Linear(in_features=1024, out_features=1024, bias=True)\n",
      "            (v_proj): Linear(in_features=1024, out_features=1024, bias=True)\n",
      "            (q_proj): Linear(in_features=1024, out_features=1024, bias=True)\n",
      "            (out_proj): Linear(in_features=1024, out_features=1024, bias=True)\n",
      "          )\n",
      "          (encoder_attn_layer_norm): LayerNorm((1024,), eps=1e-05, elementwise_affine=True)\n",
      "          (fc1): Linear(in_features=1024, out_features=4096, bias=True)\n",
      "          (fc2): Linear(in_features=4096, out_features=1024, bias=True)\n",
      "          (final_layer_norm): LayerNorm((1024,), eps=1e-05, elementwise_affine=True)\n",
      "        )\n",
      "      )\n",
      "      (layernorm_embedding): LayerNorm((1024,), eps=1e-05, elementwise_affine=True)\n",
      "    )\n",
      "  )\n",
      "  (lm_head): Linear(in_features=1024, out_features=50264, bias=False)\n",
      ")\n"
     ]
    }
   ],
   "source": [
    "print(model) # Visualizing model's architecture"
   ]
  },
  {
   "cell_type": "markdown",
   "metadata": {},
   "source": [
    "<div style=\"background-color:olive; color:white; font-size:15px; font-family:Verdana; padding:10px;font-weight:bold;border: 5px solid black;text-align:center\">\n",
    "Fonction de preprocessing avec bart tokenizer\n",
    "</div>"
   ]
  },
  {
   "cell_type": "code",
   "execution_count": 16,
   "metadata": {
    "execution": {
     "iopub.execute_input": "2023-12-30T02:35:34.544408Z",
     "iopub.status.busy": "2023-12-30T02:35:34.543343Z",
     "iopub.status.idle": "2023-12-30T02:35:34.549886Z",
     "shell.execute_reply": "2023-12-30T02:35:34.549019Z",
     "shell.execute_reply.started": "2023-12-30T02:35:34.544372Z"
    }
   },
   "outputs": [],
   "source": [
    "def preprocess_function(examples):\n",
    "    inputs = [doc for doc in examples[\"Content_preprocessed\"]]\n",
    "    model_inputs = tokenizer(inputs, max_length=1024, truncation=True)\n",
    "\n",
    "    # Setup the tokenizer for targets\n",
    "    with tokenizer.as_target_tokenizer():\n",
    "        labels = tokenizer(examples[\"Summary_preprocessed\"], max_length=128, truncation=True)\n",
    "\n",
    "    model_inputs[\"labels\"] = labels[\"input_ids\"]\n",
    "    return model_inputs"
   ]
  },
  {
   "cell_type": "code",
   "execution_count": 17,
   "metadata": {
    "execution": {
     "iopub.execute_input": "2023-12-30T02:35:48.345995Z",
     "iopub.status.busy": "2023-12-30T02:35:48.345274Z",
     "iopub.status.idle": "2023-12-30T02:36:07.360007Z",
     "shell.execute_reply": "2023-12-30T02:36:07.359024Z",
     "shell.execute_reply.started": "2023-12-30T02:35:48.345955Z"
    }
   },
   "outputs": [
    {
     "data": {
      "application/vnd.jupyter.widget-view+json": {
       "model_id": "52d785d12a8b460c9ce4f21518588343",
       "version_major": 2,
       "version_minor": 0
      },
      "text/plain": [
       "  0%|          | 0/2 [00:00<?, ?ba/s]"
      ]
     },
     "metadata": {},
     "output_type": "display_data"
    },
    {
     "data": {
      "application/vnd.jupyter.widget-view+json": {
       "model_id": "107b0611ee3d4840a96b545859fdeb1c",
       "version_major": 2,
       "version_minor": 0
      },
      "text/plain": [
       "  0%|          | 0/1 [00:00<?, ?ba/s]"
      ]
     },
     "metadata": {},
     "output_type": "display_data"
    },
    {
     "data": {
      "application/vnd.jupyter.widget-view+json": {
       "model_id": "20ba929d65934a33b796102d0b032390",
       "version_major": 2,
       "version_minor": 0
      },
      "text/plain": [
       "  0%|          | 0/1 [00:00<?, ?ba/s]"
      ]
     },
     "metadata": {},
     "output_type": "display_data"
    },
    {
     "name": "stdout",
     "output_type": "stream",
     "text": [
      "\n",
      "\n",
      "\n",
      "\n",
      "Preprocessed Training Dataset:\n",
      "\n",
      "Dataset({\n",
      "    features: ['__index_level_0__', 'input_ids', 'attention_mask', 'labels'],\n",
      "    num_rows: 1514\n",
      "})\n",
      "\n",
      "\n",
      "\n",
      "Preprocessed Test Dataset:\n",
      "\n",
      "Dataset({\n",
      "    features: ['__index_level_0__', 'input_ids', 'attention_mask', 'labels'],\n",
      "    num_rows: 190\n",
      "})\n",
      "\n",
      "\n",
      "\n",
      "Preprocessed Validation Dataset:\n",
      "\n",
      "Dataset({\n",
      "    features: ['__index_level_0__', 'input_ids', 'attention_mask', 'labels'],\n",
      "    num_rows: 189\n",
      "})\n"
     ]
    }
   ],
   "source": [
    "# Applying preprocess_function to the datasets\n",
    "tokenized_train = train_ds.map(preprocess_function, batched=True,\n",
    "                               remove_columns=[ 'Content_preprocessed', 'Summary_preprocessed']) # Removing features\n",
    "\n",
    "tokenized_test = test_ds.map(preprocess_function, batched=True,\n",
    "                               remove_columns=[ 'Content_preprocessed', 'Summary_preprocessed']) # Removing features\n",
    "\n",
    "tokenized_val = val_ds.map(preprocess_function, batched=True,\n",
    "                               remove_columns=['Content_preprocessed', 'Summary_preprocessed']) # Removing features\n",
    "\n",
    "# Printing results\n",
    "print('\\n' * 3)\n",
    "print('Preprocessed Training Dataset:\\n')\n",
    "print(tokenized_train)\n",
    "print('\\n' * 2)\n",
    "print('Preprocessed Test Dataset:\\n')\n",
    "print(tokenized_test)\n",
    "print('\\n' * 2)\n",
    "print('Preprocessed Validation Dataset:\\n')\n",
    "print(tokenized_val)"
   ]
  },
  {
   "cell_type": "markdown",
   "metadata": {},
   "source": [
    "<div style=\"background-color:olive; color:white; font-size:15px; font-family:Verdana; padding:10px;font-weight:bold;border: 5px solid black;text-align:center\">\n",
    "Choisir un exemple de dataset\n",
    "</div>"
   ]
  },
  {
   "cell_type": "code",
   "execution_count": 18,
   "metadata": {
    "execution": {
     "iopub.execute_input": "2023-12-30T02:36:12.365411Z",
     "iopub.status.busy": "2023-12-30T02:36:12.365021Z",
     "iopub.status.idle": "2023-12-30T02:36:12.374084Z",
     "shell.execute_reply": "2023-12-30T02:36:12.372994Z",
     "shell.execute_reply.started": "2023-12-30T02:36:12.365380Z"
    }
   },
   "outputs": [
    {
     "name": "stdout",
     "output_type": "stream",
     "text": [
      "input_ids:\n",
      "[0, 3340, 43341, 1499, 24433, 3215, 11, 5, 935, 23, 5, 593, 9, 8835, 77, 2458, 992, 21028, 2865, 851, 201, 11986, 88, 5, 32820, 15189, 1778, 9468, 6500, 149, 6229, 2015, 30845, 14, 5026, 7, 1045, 13618, 1472, 9, 2166, 2621, 11, 14241, 523, 4348, 6229, 11534, 25, 15180, 11, 8157, 52, 6957, 23490, 9, 773, 11, 6229, 2015, 17959, 258, 8354, 8, 27499, 24506, 150, 5, 32820, 15189, 26158, 773, 11, 8157, 24, 21, 45, 5, 129, 26408, 1370, 23, 310, 5, 6986, 9, 20181, 3693, 10, 118, 56, 15682, 15992, 5, 6981, 1056, 11, 32820, 15189, 8, 20181, 3693, 10, 118, 25954, 154, 5, 499, 9, 1050, 12, 36327, 10405, 1437, 811, 16531, 5065, 8, 2628, 13637, 449, 4891, 3922, 8157, 8, 291, 1922, 33, 57, 1605, 515, 2650, 107, 11, 1402, 9836, 9, 7350, 2316, 150, 203, 9, 10, 118, 8, 3563, 2239, 34, 57, 7397, 409, 31, 4007, 285, 1503, 62, 7, 122, 5, 937, 804, 1956, 34, 6017, 57, 441, 7, 4949, 19, 739, 2777, 3092, 19385, 4339, 1241, 33285, 215, 25, 490, 1439, 7359, 571, 3320, 8, 39121, 741, 1120, 42, 709, 21, 7513, 30, 5, 1430, 9, 20181, 3693, 10, 118, 13, 3156, 19, 5, 3829, 9, 385, 1250, 12, 242, 8, 1084, 267, 37786, 981, 5, 6356, 103, 1707, 8186, 33, 554, 7, 5731, 42, 806, 101, 5, 32820, 15189, 20181, 3693, 10, 118, 34, 5, 801, 7, 3327, 358, 10405, 52, 33, 19, 1778, 1383, 8, 19, 65, 277, 209, 94, 367, 107, 33, 57, 17750, 7, 5, 7063, 2078, 23, 61, 5, 2903, 5252, 36198, 8, 3926, 1437, 2]\n",
      "\n",
      "\n",
      "attention_mask:\n",
      "[1, 1, 1, 1, 1, 1, 1, 1, 1, 1, 1, 1, 1, 1, 1, 1, 1, 1, 1, 1, 1, 1, 1, 1, 1, 1, 1, 1, 1, 1, 1, 1, 1, 1, 1, 1, 1, 1, 1, 1, 1, 1, 1, 1, 1, 1, 1, 1, 1, 1, 1, 1, 1, 1, 1, 1, 1, 1, 1, 1, 1, 1, 1, 1, 1, 1, 1, 1, 1, 1, 1, 1, 1, 1, 1, 1, 1, 1, 1, 1, 1, 1, 1, 1, 1, 1, 1, 1, 1, 1, 1, 1, 1, 1, 1, 1, 1, 1, 1, 1, 1, 1, 1, 1, 1, 1, 1, 1, 1, 1, 1, 1, 1, 1, 1, 1, 1, 1, 1, 1, 1, 1, 1, 1, 1, 1, 1, 1, 1, 1, 1, 1, 1, 1, 1, 1, 1, 1, 1, 1, 1, 1, 1, 1, 1, 1, 1, 1, 1, 1, 1, 1, 1, 1, 1, 1, 1, 1, 1, 1, 1, 1, 1, 1, 1, 1, 1, 1, 1, 1, 1, 1, 1, 1, 1, 1, 1, 1, 1, 1, 1, 1, 1, 1, 1, 1, 1, 1, 1, 1, 1, 1, 1, 1, 1, 1, 1, 1, 1, 1, 1, 1, 1, 1, 1, 1, 1, 1, 1, 1, 1, 1, 1, 1, 1, 1, 1, 1, 1, 1, 1, 1, 1, 1, 1, 1, 1, 1, 1, 1, 1, 1, 1, 1, 1, 1, 1, 1, 1, 1, 1, 1, 1, 1, 1, 1, 1, 1, 1, 1, 1, 1, 1, 1, 1, 1, 1, 1, 1, 1, 1, 1, 1, 1, 1, 1, 1, 1, 1, 1]\n",
      "\n",
      "\n",
      "sample:\n",
      "[0, 844, 2036, 794, 23490, 9, 773, 11, 6229, 2015, 17959, 258, 8354, 8, 27499, 24506, 5, 6986, 9, 20181, 3693, 10, 118, 56, 15682, 15992, 5, 6981, 1056, 20181, 3693, 10, 118, 34, 5, 801, 7, 3327, 358, 10405, 52, 33, 19, 1778, 1383, 8, 19, 65, 277, 4, 2]\n",
      "\n",
      "\n"
     ]
    }
   ],
   "source": [
    "# Selecting a sample from the dataset\n",
    "sample = tokenized_train[0]\n",
    "\n",
    "# Printing its features\n",
    "print(\"input_ids:\")\n",
    "print(sample['input_ids'])\n",
    "print(\"\\n\")\n",
    "print(\"attention_mask:\")\n",
    "print(sample['attention_mask'])\n",
    "print(\"\\n\")\n",
    "print(\"sample:\")\n",
    "print(sample['labels'])\n",
    "print(\"\\n\")"
   ]
  },
  {
   "cell_type": "markdown",
   "metadata": {},
   "source": [
    "<div style=\"background-color:olive; color:white; font-size:15px; font-family:Verdana; padding:10px;font-weight:bold;border: 5px solid black;text-align:center\">\n",
    "Initialiser data collator\n",
    "</div>"
   ]
  },
  {
   "cell_type": "code",
   "execution_count": 19,
   "metadata": {
    "execution": {
     "iopub.execute_input": "2023-12-30T02:36:18.675791Z",
     "iopub.status.busy": "2023-12-30T02:36:18.675409Z",
     "iopub.status.idle": "2023-12-30T02:36:18.681007Z",
     "shell.execute_reply": "2023-12-30T02:36:18.679695Z",
     "shell.execute_reply.started": "2023-12-30T02:36:18.675758Z"
    }
   },
   "outputs": [],
   "source": [
    "# Instantiating Data Collator\n",
    "data_collator = DataCollatorForSeq2Seq(tokenizer=tokenizer, model=model)"
   ]
  },
  {
   "cell_type": "code",
   "execution_count": 20,
   "metadata": {
    "execution": {
     "iopub.execute_input": "2023-12-30T02:36:22.104391Z",
     "iopub.status.busy": "2023-12-30T02:36:22.104013Z",
     "iopub.status.idle": "2023-12-30T02:36:22.542067Z",
     "shell.execute_reply": "2023-12-30T02:36:22.541299Z",
     "shell.execute_reply.started": "2023-12-30T02:36:22.104360Z"
    }
   },
   "outputs": [
    {
     "data": {
      "application/vnd.jupyter.widget-view+json": {
       "model_id": "e987836311384affaf691a02fa49e3e9",
       "version_major": 2,
       "version_minor": 0
      },
      "text/plain": [
       "Downloading builder script:   0%|          | 0.00/2.16k [00:00<?, ?B/s]"
      ]
     },
     "metadata": {},
     "output_type": "display_data"
    }
   ],
   "source": [
    "metric = load_metric('rouge') # Loading ROUGE Score"
   ]
  },
  {
   "cell_type": "markdown",
   "metadata": {},
   "source": [
    "<div style=\"background-color:olive; color:white; font-size:15px; font-family:Verdana; padding:10px;font-weight:bold;border: 5px solid black;text-align:center\">\n",
    "Fonction de calcul des métrics\n",
    "</div>"
   ]
  },
  {
   "cell_type": "code",
   "execution_count": 21,
   "metadata": {
    "execution": {
     "iopub.execute_input": "2023-12-30T02:36:23.971236Z",
     "iopub.status.busy": "2023-12-30T02:36:23.970240Z",
     "iopub.status.idle": "2023-12-30T02:36:23.980157Z",
     "shell.execute_reply": "2023-12-30T02:36:23.979139Z",
     "shell.execute_reply.started": "2023-12-30T02:36:23.971200Z"
    }
   },
   "outputs": [],
   "source": [
    "def compute_metrics(eval_pred):\n",
    "    predictions, labels = eval_pred# Obtaining predictions and true labels\n",
    "    \n",
    "    # Decoding predictions\n",
    "    decoded_preds = tokenizer.batch_decode(predictions, skip_special_tokens=True)\n",
    "    \n",
    "    # Obtaining the true labels tokens, while eliminating any possible masked token (i.e., label = -100)\n",
    "    labels = np.where(labels != -100, labels, tokenizer.pad_token_id)\n",
    "    decoded_labels = tokenizer.batch_decode(labels, skip_special_tokens=True)\n",
    "\n",
    "    # Rouge expects a newline after each sentence\n",
    "    decoded_preds = [\"\\n\".join(nltk.sent_tokenize(pred.strip())) for pred in decoded_preds]\n",
    "    decoded_labels = [\"\\n\".join(nltk.sent_tokenize(label.strip())) for label in decoded_labels]\n",
    "    \n",
    "    \n",
    "    # Computing rouge score\n",
    "    result = metric.compute(predictions=decoded_preds, references=decoded_labels, use_stemmer=True)\n",
    "    result = {key: value.mid.fmeasure * 100 for key, value in result.items()} # Extracting some results\n",
    "\n",
    "    # Add mean-generated length\n",
    "    prediction_lens = [np.count_nonzero(pred != tokenizer.pad_token_id) for pred in predictions]\n",
    "    result[\"gen_len\"] = np.mean(prediction_lens)\n",
    "\n",
    "    return {k: round(v, 4) for k, v in result.items()}"
   ]
  },
  {
   "cell_type": "code",
   "execution_count": 22,
   "metadata": {
    "execution": {
     "iopub.execute_input": "2023-12-30T02:36:27.099779Z",
     "iopub.status.busy": "2023-12-30T02:36:27.099096Z",
     "iopub.status.idle": "2023-12-30T02:36:27.112594Z",
     "shell.execute_reply": "2023-12-30T02:36:27.111420Z",
     "shell.execute_reply.started": "2023-12-30T02:36:27.099746Z"
    }
   },
   "outputs": [
    {
     "data": {
      "text/plain": [
       "'|===========================================================================|\\n|                  PyTorch CUDA memory summary, device ID 0                 |\\n|---------------------------------------------------------------------------|\\n|            CUDA OOMs: 0            |        cudaMalloc retries: 0         |\\n|===========================================================================|\\n|        Metric         | Cur Usage  | Peak Usage | Tot Alloc  | Tot Freed  |\\n|---------------------------------------------------------------------------|\\n| Allocated memory      |      0 B   |      0 B   |      0 B   |      0 B   |\\n|       from large pool |      0 B   |      0 B   |      0 B   |      0 B   |\\n|       from small pool |      0 B   |      0 B   |      0 B   |      0 B   |\\n|---------------------------------------------------------------------------|\\n| Active memory         |      0 B   |      0 B   |      0 B   |      0 B   |\\n|       from large pool |      0 B   |      0 B   |      0 B   |      0 B   |\\n|       from small pool |      0 B   |      0 B   |      0 B   |      0 B   |\\n|---------------------------------------------------------------------------|\\n| Requested memory      |      0 B   |      0 B   |      0 B   |      0 B   |\\n|       from large pool |      0 B   |      0 B   |      0 B   |      0 B   |\\n|       from small pool |      0 B   |      0 B   |      0 B   |      0 B   |\\n|---------------------------------------------------------------------------|\\n| GPU reserved memory   |      0 B   |      0 B   |      0 B   |      0 B   |\\n|       from large pool |      0 B   |      0 B   |      0 B   |      0 B   |\\n|       from small pool |      0 B   |      0 B   |      0 B   |      0 B   |\\n|---------------------------------------------------------------------------|\\n| Non-releasable memory |      0 B   |      0 B   |      0 B   |      0 B   |\\n|       from large pool |      0 B   |      0 B   |      0 B   |      0 B   |\\n|       from small pool |      0 B   |      0 B   |      0 B   |      0 B   |\\n|---------------------------------------------------------------------------|\\n| Allocations           |       0    |       0    |       0    |       0    |\\n|       from large pool |       0    |       0    |       0    |       0    |\\n|       from small pool |       0    |       0    |       0    |       0    |\\n|---------------------------------------------------------------------------|\\n| Active allocs         |       0    |       0    |       0    |       0    |\\n|       from large pool |       0    |       0    |       0    |       0    |\\n|       from small pool |       0    |       0    |       0    |       0    |\\n|---------------------------------------------------------------------------|\\n| GPU reserved segments |       0    |       0    |       0    |       0    |\\n|       from large pool |       0    |       0    |       0    |       0    |\\n|       from small pool |       0    |       0    |       0    |       0    |\\n|---------------------------------------------------------------------------|\\n| Non-releasable allocs |       0    |       0    |       0    |       0    |\\n|       from large pool |       0    |       0    |       0    |       0    |\\n|       from small pool |       0    |       0    |       0    |       0    |\\n|---------------------------------------------------------------------------|\\n| Oversize allocations  |       0    |       0    |       0    |       0    |\\n|---------------------------------------------------------------------------|\\n| Oversize GPU segments |       0    |       0    |       0    |       0    |\\n|===========================================================================|\\n'"
      ]
     },
     "execution_count": 22,
     "metadata": {},
     "output_type": "execute_result"
    }
   ],
   "source": [
    "# Example for memory profiling with PyTorch\n",
    "torch.cuda.memory_summary(device=None, abbreviated=False)"
   ]
  },
  {
   "cell_type": "markdown",
   "metadata": {},
   "source": [
    "<div style=\"background-color:olive; color:white; font-size:15px; font-family:Verdana; padding:10px;font-weight:bold;border: 5px solid black;text-align:center\">\n",
    "Définir les paramétres d'entrainement et entrainer le modèle\n",
    "</div>"
   ]
  },
  {
   "cell_type": "code",
   "execution_count": 23,
   "metadata": {
    "execution": {
     "iopub.execute_input": "2023-12-30T02:36:30.510029Z",
     "iopub.status.busy": "2023-12-30T02:36:30.509019Z",
     "iopub.status.idle": "2023-12-30T02:36:30.518976Z",
     "shell.execute_reply": "2023-12-30T02:36:30.518109Z",
     "shell.execute_reply.started": "2023-12-30T02:36:30.509978Z"
    }
   },
   "outputs": [],
   "source": [
    "training_args = Seq2SeqTrainingArguments(\n",
    "    output_dir = 'bart_samsum',\n",
    "    evaluation_strategy = \"epoch\",\n",
    "    save_strategy = 'epoch',\n",
    "    load_best_model_at_end = True,\n",
    "    metric_for_best_model = 'eval_loss',\n",
    "    seed = seed,\n",
    "    learning_rate=2e-5,\n",
    "    per_device_train_batch_size=2,\n",
    "    per_device_eval_batch_size=2,\n",
    "    gradient_accumulation_steps=4,\n",
    "    weight_decay=0.01,\n",
    "    save_total_limit=1,\n",
    "    num_train_epochs=4,\n",
    "    predict_with_generate=True,\n",
    "    fp16=True,\n",
    "    report_to=\"none\"\n",
    ")"
   ]
  },
  {
   "cell_type": "code",
   "execution_count": 24,
   "metadata": {
    "execution": {
     "iopub.execute_input": "2023-12-30T02:36:34.884301Z",
     "iopub.status.busy": "2023-12-30T02:36:34.883915Z",
     "iopub.status.idle": "2023-12-30T02:36:40.795052Z",
     "shell.execute_reply": "2023-12-30T02:36:40.794262Z",
     "shell.execute_reply.started": "2023-12-30T02:36:34.884273Z"
    }
   },
   "outputs": [],
   "source": [
    "# Defining Trainer\n",
    "trainer = Seq2SeqTrainer(\n",
    "    model=model,\n",
    "    args=training_args,\n",
    "    train_dataset=tokenized_train,\n",
    "    eval_dataset=tokenized_test,\n",
    "    tokenizer=tokenizer,\n",
    "    data_collator=data_collator,\n",
    "    compute_metrics=compute_metrics,\n",
    ")"
   ]
  },
  {
   "cell_type": "code",
   "execution_count": 25,
   "metadata": {
    "execution": {
     "iopub.execute_input": "2023-12-30T02:36:43.583049Z",
     "iopub.status.busy": "2023-12-30T02:36:43.582231Z",
     "iopub.status.idle": "2023-12-30T03:19:33.199350Z",
     "shell.execute_reply": "2023-12-30T03:19:33.198480Z",
     "shell.execute_reply.started": "2023-12-30T02:36:43.583015Z"
    }
   },
   "outputs": [
    {
     "data": {
      "text/html": [
       "\n",
       "    <div>\n",
       "      \n",
       "      <progress value='376' max='376' style='width:300px; height:20px; vertical-align: middle;'></progress>\n",
       "      [376/376 42:38, Epoch 3/4]\n",
       "    </div>\n",
       "    <table border=\"1\" class=\"dataframe\">\n",
       "  <thead>\n",
       " <tr style=\"text-align: left;\">\n",
       "      <th>Epoch</th>\n",
       "      <th>Training Loss</th>\n",
       "      <th>Validation Loss</th>\n",
       "      <th>Rouge1</th>\n",
       "      <th>Rouge2</th>\n",
       "      <th>Rougel</th>\n",
       "      <th>Rougelsum</th>\n",
       "      <th>Gen Len</th>\n",
       "    </tr>\n",
       "  </thead>\n",
       "  <tbody>\n",
       "    <tr>\n",
       "      <td>0</td>\n",
       "      <td>No log</td>\n",
       "      <td>1.438764</td>\n",
       "      <td>41.596400</td>\n",
       "      <td>24.769800</td>\n",
       "      <td>33.579500</td>\n",
       "      <td>33.510800</td>\n",
       "      <td>49.842100</td>\n",
       "    </tr>\n",
       "    <tr>\n",
       "      <td>1</td>\n",
       "      <td>No log</td>\n",
       "      <td>1.424027</td>\n",
       "      <td>42.204900</td>\n",
       "      <td>24.730900</td>\n",
       "      <td>33.804900</td>\n",
       "      <td>33.785900</td>\n",
       "      <td>51.536800</td>\n",
       "    </tr>\n",
       "    <tr>\n",
       "      <td>2</td>\n",
       "      <td>No log</td>\n",
       "      <td>1.450958</td>\n",
       "      <td>43.189200</td>\n",
       "      <td>25.858100</td>\n",
       "      <td>34.700000</td>\n",
       "      <td>34.670600</td>\n",
       "      <td>53.815800</td>\n",
       "    </tr>\n",
       "    <tr>\n",
       "      <td>3</td>\n",
       "      <td>No log</td>\n",
       "      <td>1.465277</td>\n",
       "      <td>42.776100</td>\n",
       "      <td>25.472600</td>\n",
       "      <td>34.219900</td>\n",
       "      <td>34.189800</td>\n",
       "      <td>53.452600</td>\n",
       "    </tr>\n",
       "  </tbody>\n",
       "</table><p>"
      ],
      "text/plain": [
       "<IPython.core.display.HTML object>"
      ]
     },
     "metadata": {},
     "output_type": "display_data"
    },
    {
     "name": "stderr",
     "output_type": "stream",
     "text": [
      "There were missing keys in the checkpoint model loaded: ['model.encoder.embed_tokens.weight', 'model.decoder.embed_tokens.weight', 'lm_head.weight'].\n"
     ]
    }
   ],
   "source": [
    "#trainer.train() # Training model\n",
    "train_history = trainer.train()"
   ]
  },
  {
   "cell_type": "markdown",
   "metadata": {},
   "source": [
    "<div style=\"background-color:olive; color:white; font-size:15px; font-family:Verdana; padding:10px;font-weight:bold;border: 5px solid black;text-align:center\">\n",
    "Générer les résumés</div>"
   ]
  },
  {
   "cell_type": "code",
   "execution_count": 26,
   "metadata": {
    "execution": {
     "iopub.execute_input": "2023-12-30T03:36:00.965673Z",
     "iopub.status.busy": "2023-12-30T03:36:00.965258Z",
     "iopub.status.idle": "2023-12-30T03:36:00.973692Z",
     "shell.execute_reply": "2023-12-30T03:36:00.972694Z",
     "shell.execute_reply.started": "2023-12-30T03:36:00.965642Z"
    }
   },
   "outputs": [],
   "source": [
    "import torch\n",
    "from transformers import BartForConditionalGeneration, BartTokenizer\n",
    "\n",
    "def generate_summary(text, model, tokenizer, max_length=150, min_length=50):\n",
    "    device = next(model.parameters()).device  # Get the device of the model\n",
    "    inputs = tokenizer([text], max_length=max_length, return_tensors=\"pt\", truncation=True)\n",
    "\n",
    "    # Move input tensors to the same device as the model\n",
    "    inputs = {key: value.to(device) for key, value in inputs.items()}\n",
    "\n",
    "    # Generate summary\n",
    "    summary_ids = model.generate(\n",
    "        inputs[\"input_ids\"],\n",
    "        max_length=max_length,\n",
    "        min_length=min_length,\n",
    "        length_penalty=2.0,\n",
    "        num_beams=4,\n",
    "        early_stopping=True,\n",
    "    )\n",
    "\n",
    "    # Move summary tensor to CPU if needed\n",
    "    summary_ids = summary_ids.to(\"cpu\")\n",
    "\n",
    "    # Decode and return the summary\n",
    "    summary = tokenizer.decode(summary_ids[0], skip_special_tokens=True)\n",
    "    return summary"
   ]
  },
  {
   "cell_type": "markdown",
   "metadata": {},
   "source": [
    "<div style=\"background-color:olive; color:white; font-size:15px; font-family:Verdana; padding:10px;font-weight:bold;border: 5px solid black;text-align:center\">\n",
    "Plotter le rouge score</div>"
   ]
  },
  {
   "cell_type": "code",
   "execution_count": 28,
   "metadata": {
    "execution": {
     "iopub.execute_input": "2023-12-30T03:37:07.343888Z",
     "iopub.status.busy": "2023-12-30T03:37:07.343469Z",
     "iopub.status.idle": "2023-12-30T03:37:08.654079Z",
     "shell.execute_reply": "2023-12-30T03:37:08.653021Z",
     "shell.execute_reply.started": "2023-12-30T03:37:07.343844Z"
    }
   },
   "outputs": [
    {
     "data": {
      "application/vnd.plotly.v1+json": {
       "config": {
        "plotlyServerURL": "https://plot.ly"
       },
       "data": [
        {
         "hovertemplate": "epochs=%{x}<br>y=%{y}<extra></extra>",
         "legendgroup": "",
         "line": {
          "color": "#636efa",
          "dash": "solid"
         },
         "marker": {
          "symbol": "circle"
         },
         "mode": "lines",
         "name": "",
         "orientation": "h",
         "showlegend": false,
         "type": "scatter",
         "x": [
          1,
          2,
          3
         ],
         "xaxis": "x",
         "y": [
          "rouge1",
          "rouge2",
          "rougeL"
         ],
         "yaxis": "y"
        }
       ],
       "layout": {
        "height": 500,
        "legend": {
         "tracegroupgap": 0
        },
        "template": {
         "data": {
          "bar": [
           {
            "error_x": {
             "color": "#2a3f5f"
            },
            "error_y": {
             "color": "#2a3f5f"
            },
            "marker": {
             "line": {
              "color": "#E5ECF6",
              "width": 0.5
             },
             "pattern": {
              "fillmode": "overlay",
              "size": 10,
              "solidity": 0.2
             }
            },
            "type": "bar"
           }
          ],
          "barpolar": [
           {
            "marker": {
             "line": {
              "color": "#E5ECF6",
              "width": 0.5
             },
             "pattern": {
              "fillmode": "overlay",
              "size": 10,
              "solidity": 0.2
             }
            },
            "type": "barpolar"
           }
          ],
          "carpet": [
           {
            "aaxis": {
             "endlinecolor": "#2a3f5f",
             "gridcolor": "white",
             "linecolor": "white",
             "minorgridcolor": "white",
             "startlinecolor": "#2a3f5f"
            },
            "baxis": {
             "endlinecolor": "#2a3f5f",
             "gridcolor": "white",
             "linecolor": "white",
             "minorgridcolor": "white",
             "startlinecolor": "#2a3f5f"
            },
            "type": "carpet"
           }
          ],
          "choropleth": [
           {
            "colorbar": {
             "outlinewidth": 0,
             "ticks": ""
            },
            "type": "choropleth"
           }
          ],
          "contour": [
           {
            "colorbar": {
             "outlinewidth": 0,
             "ticks": ""
            },
            "colorscale": [
             [
              0,
              "#0d0887"
             ],
             [
              0.1111111111111111,
              "#46039f"
             ],
             [
              0.2222222222222222,
              "#7201a8"
             ],
             [
              0.3333333333333333,
              "#9c179e"
             ],
             [
              0.4444444444444444,
              "#bd3786"
             ],
             [
              0.5555555555555556,
              "#d8576b"
             ],
             [
              0.6666666666666666,
              "#ed7953"
             ],
             [
              0.7777777777777778,
              "#fb9f3a"
             ],
             [
              0.8888888888888888,
              "#fdca26"
             ],
             [
              1,
              "#f0f921"
             ]
            ],
            "type": "contour"
           }
          ],
          "contourcarpet": [
           {
            "colorbar": {
             "outlinewidth": 0,
             "ticks": ""
            },
            "type": "contourcarpet"
           }
          ],
          "heatmap": [
           {
            "colorbar": {
             "outlinewidth": 0,
             "ticks": ""
            },
            "colorscale": [
             [
              0,
              "#0d0887"
             ],
             [
              0.1111111111111111,
              "#46039f"
             ],
             [
              0.2222222222222222,
              "#7201a8"
             ],
             [
              0.3333333333333333,
              "#9c179e"
             ],
             [
              0.4444444444444444,
              "#bd3786"
             ],
             [
              0.5555555555555556,
              "#d8576b"
             ],
             [
              0.6666666666666666,
              "#ed7953"
             ],
             [
              0.7777777777777778,
              "#fb9f3a"
             ],
             [
              0.8888888888888888,
              "#fdca26"
             ],
             [
              1,
              "#f0f921"
             ]
            ],
            "type": "heatmap"
           }
          ],
          "heatmapgl": [
           {
            "colorbar": {
             "outlinewidth": 0,
             "ticks": ""
            },
            "colorscale": [
             [
              0,
              "#0d0887"
             ],
             [
              0.1111111111111111,
              "#46039f"
             ],
             [
              0.2222222222222222,
              "#7201a8"
             ],
             [
              0.3333333333333333,
              "#9c179e"
             ],
             [
              0.4444444444444444,
              "#bd3786"
             ],
             [
              0.5555555555555556,
              "#d8576b"
             ],
             [
              0.6666666666666666,
              "#ed7953"
             ],
             [
              0.7777777777777778,
              "#fb9f3a"
             ],
             [
              0.8888888888888888,
              "#fdca26"
             ],
             [
              1,
              "#f0f921"
             ]
            ],
            "type": "heatmapgl"
           }
          ],
          "histogram": [
           {
            "marker": {
             "pattern": {
              "fillmode": "overlay",
              "size": 10,
              "solidity": 0.2
             }
            },
            "type": "histogram"
           }
          ],
          "histogram2d": [
           {
            "colorbar": {
             "outlinewidth": 0,
             "ticks": ""
            },
            "colorscale": [
             [
              0,
              "#0d0887"
             ],
             [
              0.1111111111111111,
              "#46039f"
             ],
             [
              0.2222222222222222,
              "#7201a8"
             ],
             [
              0.3333333333333333,
              "#9c179e"
             ],
             [
              0.4444444444444444,
              "#bd3786"
             ],
             [
              0.5555555555555556,
              "#d8576b"
             ],
             [
              0.6666666666666666,
              "#ed7953"
             ],
             [
              0.7777777777777778,
              "#fb9f3a"
             ],
             [
              0.8888888888888888,
              "#fdca26"
             ],
             [
              1,
              "#f0f921"
             ]
            ],
            "type": "histogram2d"
           }
          ],
          "histogram2dcontour": [
           {
            "colorbar": {
             "outlinewidth": 0,
             "ticks": ""
            },
            "colorscale": [
             [
              0,
              "#0d0887"
             ],
             [
              0.1111111111111111,
              "#46039f"
             ],
             [
              0.2222222222222222,
              "#7201a8"
             ],
             [
              0.3333333333333333,
              "#9c179e"
             ],
             [
              0.4444444444444444,
              "#bd3786"
             ],
             [
              0.5555555555555556,
              "#d8576b"
             ],
             [
              0.6666666666666666,
              "#ed7953"
             ],
             [
              0.7777777777777778,
              "#fb9f3a"
             ],
             [
              0.8888888888888888,
              "#fdca26"
             ],
             [
              1,
              "#f0f921"
             ]
            ],
            "type": "histogram2dcontour"
           }
          ],
          "mesh3d": [
           {
            "colorbar": {
             "outlinewidth": 0,
             "ticks": ""
            },
            "type": "mesh3d"
           }
          ],
          "parcoords": [
           {
            "line": {
             "colorbar": {
              "outlinewidth": 0,
              "ticks": ""
             }
            },
            "type": "parcoords"
           }
          ],
          "pie": [
           {
            "automargin": true,
            "type": "pie"
           }
          ],
          "scatter": [
           {
            "fillpattern": {
             "fillmode": "overlay",
             "size": 10,
             "solidity": 0.2
            },
            "type": "scatter"
           }
          ],
          "scatter3d": [
           {
            "line": {
             "colorbar": {
              "outlinewidth": 0,
              "ticks": ""
             }
            },
            "marker": {
             "colorbar": {
              "outlinewidth": 0,
              "ticks": ""
             }
            },
            "type": "scatter3d"
           }
          ],
          "scattercarpet": [
           {
            "marker": {
             "colorbar": {
              "outlinewidth": 0,
              "ticks": ""
             }
            },
            "type": "scattercarpet"
           }
          ],
          "scattergeo": [
           {
            "marker": {
             "colorbar": {
              "outlinewidth": 0,
              "ticks": ""
             }
            },
            "type": "scattergeo"
           }
          ],
          "scattergl": [
           {
            "marker": {
             "colorbar": {
              "outlinewidth": 0,
              "ticks": ""
             }
            },
            "type": "scattergl"
           }
          ],
          "scattermapbox": [
           {
            "marker": {
             "colorbar": {
              "outlinewidth": 0,
              "ticks": ""
             }
            },
            "type": "scattermapbox"
           }
          ],
          "scatterpolar": [
           {
            "marker": {
             "colorbar": {
              "outlinewidth": 0,
              "ticks": ""
             }
            },
            "type": "scatterpolar"
           }
          ],
          "scatterpolargl": [
           {
            "marker": {
             "colorbar": {
              "outlinewidth": 0,
              "ticks": ""
             }
            },
            "type": "scatterpolargl"
           }
          ],
          "scatterternary": [
           {
            "marker": {
             "colorbar": {
              "outlinewidth": 0,
              "ticks": ""
             }
            },
            "type": "scatterternary"
           }
          ],
          "surface": [
           {
            "colorbar": {
             "outlinewidth": 0,
             "ticks": ""
            },
            "colorscale": [
             [
              0,
              "#0d0887"
             ],
             [
              0.1111111111111111,
              "#46039f"
             ],
             [
              0.2222222222222222,
              "#7201a8"
             ],
             [
              0.3333333333333333,
              "#9c179e"
             ],
             [
              0.4444444444444444,
              "#bd3786"
             ],
             [
              0.5555555555555556,
              "#d8576b"
             ],
             [
              0.6666666666666666,
              "#ed7953"
             ],
             [
              0.7777777777777778,
              "#fb9f3a"
             ],
             [
              0.8888888888888888,
              "#fdca26"
             ],
             [
              1,
              "#f0f921"
             ]
            ],
            "type": "surface"
           }
          ],
          "table": [
           {
            "cells": {
             "fill": {
              "color": "#EBF0F8"
             },
             "line": {
              "color": "white"
             }
            },
            "header": {
             "fill": {
              "color": "#C8D4E3"
             },
             "line": {
              "color": "white"
             }
            },
            "type": "table"
           }
          ]
         },
         "layout": {
          "annotationdefaults": {
           "arrowcolor": "#2a3f5f",
           "arrowhead": 0,
           "arrowwidth": 1
          },
          "autotypenumbers": "strict",
          "coloraxis": {
           "colorbar": {
            "outlinewidth": 0,
            "ticks": ""
           }
          },
          "colorscale": {
           "diverging": [
            [
             0,
             "#8e0152"
            ],
            [
             0.1,
             "#c51b7d"
            ],
            [
             0.2,
             "#de77ae"
            ],
            [
             0.3,
             "#f1b6da"
            ],
            [
             0.4,
             "#fde0ef"
            ],
            [
             0.5,
             "#f7f7f7"
            ],
            [
             0.6,
             "#e6f5d0"
            ],
            [
             0.7,
             "#b8e186"
            ],
            [
             0.8,
             "#7fbc41"
            ],
            [
             0.9,
             "#4d9221"
            ],
            [
             1,
             "#276419"
            ]
           ],
           "sequential": [
            [
             0,
             "#0d0887"
            ],
            [
             0.1111111111111111,
             "#46039f"
            ],
            [
             0.2222222222222222,
             "#7201a8"
            ],
            [
             0.3333333333333333,
             "#9c179e"
            ],
            [
             0.4444444444444444,
             "#bd3786"
            ],
            [
             0.5555555555555556,
             "#d8576b"
            ],
            [
             0.6666666666666666,
             "#ed7953"
            ],
            [
             0.7777777777777778,
             "#fb9f3a"
            ],
            [
             0.8888888888888888,
             "#fdca26"
            ],
            [
             1,
             "#f0f921"
            ]
           ],
           "sequentialminus": [
            [
             0,
             "#0d0887"
            ],
            [
             0.1111111111111111,
             "#46039f"
            ],
            [
             0.2222222222222222,
             "#7201a8"
            ],
            [
             0.3333333333333333,
             "#9c179e"
            ],
            [
             0.4444444444444444,
             "#bd3786"
            ],
            [
             0.5555555555555556,
             "#d8576b"
            ],
            [
             0.6666666666666666,
             "#ed7953"
            ],
            [
             0.7777777777777778,
             "#fb9f3a"
            ],
            [
             0.8888888888888888,
             "#fdca26"
            ],
            [
             1,
             "#f0f921"
            ]
           ]
          },
          "colorway": [
           "#636efa",
           "#EF553B",
           "#00cc96",
           "#ab63fa",
           "#FFA15A",
           "#19d3f3",
           "#FF6692",
           "#B6E880",
           "#FF97FF",
           "#FECB52"
          ],
          "font": {
           "color": "#2a3f5f"
          },
          "geo": {
           "bgcolor": "white",
           "lakecolor": "white",
           "landcolor": "#E5ECF6",
           "showlakes": true,
           "showland": true,
           "subunitcolor": "white"
          },
          "hoverlabel": {
           "align": "left"
          },
          "hovermode": "closest",
          "mapbox": {
           "style": "light"
          },
          "paper_bgcolor": "white",
          "plot_bgcolor": "#E5ECF6",
          "polar": {
           "angularaxis": {
            "gridcolor": "white",
            "linecolor": "white",
            "ticks": ""
           },
           "bgcolor": "#E5ECF6",
           "radialaxis": {
            "gridcolor": "white",
            "linecolor": "white",
            "ticks": ""
           }
          },
          "scene": {
           "xaxis": {
            "backgroundcolor": "#E5ECF6",
            "gridcolor": "white",
            "gridwidth": 2,
            "linecolor": "white",
            "showbackground": true,
            "ticks": "",
            "zerolinecolor": "white"
           },
           "yaxis": {
            "backgroundcolor": "#E5ECF6",
            "gridcolor": "white",
            "gridwidth": 2,
            "linecolor": "white",
            "showbackground": true,
            "ticks": "",
            "zerolinecolor": "white"
           },
           "zaxis": {
            "backgroundcolor": "#E5ECF6",
            "gridcolor": "white",
            "gridwidth": 2,
            "linecolor": "white",
            "showbackground": true,
            "ticks": "",
            "zerolinecolor": "white"
           }
          },
          "shapedefaults": {
           "line": {
            "color": "#2a3f5f"
           }
          },
          "ternary": {
           "aaxis": {
            "gridcolor": "white",
            "linecolor": "white",
            "ticks": ""
           },
           "baxis": {
            "gridcolor": "white",
            "linecolor": "white",
            "ticks": ""
           },
           "bgcolor": "#E5ECF6",
           "caxis": {
            "gridcolor": "white",
            "linecolor": "white",
            "ticks": ""
           }
          },
          "title": {
           "x": 0.05
          },
          "xaxis": {
           "automargin": true,
           "gridcolor": "white",
           "linecolor": "white",
           "ticks": "",
           "title": {
            "standoff": 15
           },
           "zerolinecolor": "white",
           "zerolinewidth": 2
          },
          "yaxis": {
           "automargin": true,
           "gridcolor": "white",
           "linecolor": "white",
           "ticks": "",
           "title": {
            "standoff": 15
           },
           "zerolinecolor": "white",
           "zerolinewidth": 2
          }
         }
        },
        "title": {
         "text": "ROUGE Scores Over Epochs"
        },
        "width": 800,
        "xaxis": {
         "anchor": "y",
         "autorange": true,
         "domain": [
          0,
          1
         ],
         "range": [
          1,
          3
         ],
         "title": {
          "text": "epochs"
         },
         "type": "linear"
        },
        "yaxis": {
         "anchor": "x",
         "autorange": true,
         "domain": [
          0,
          1
         ],
         "range": [
          -0.1111111111111111,
          2.111111111111111
         ],
         "title": {
          "text": "y"
         },
         "type": "category"
        }
       }
      },
      "image/png": "[encoded data removed]",
      "text/html": [
       "<div>                            <div id=\"3ec45282-aa8a-4a78-b9a1-36d8f8732a0c\" class=\"plotly-graph-div\" style=\"height:500px; width:800px;\"></div>            <script type=\"text/javascript\">                require([\"plotly\"], function(Plotly) {                    window.PLOTLYENV=window.PLOTLYENV || {};                                    if (document.getElementById(\"3ec45282-aa8a-4a78-b9a1-36d8f8732a0c\")) {                    Plotly.newPlot(                        \"3ec45282-aa8a-4a78-b9a1-36d8f8732a0c\",                        [{\"hovertemplate\":\"epochs=%{x}\\u003cbr\\u003ey=%{y}\\u003cextra\\u003e\\u003c\\u002fextra\\u003e\",\"legendgroup\":\"\",\"line\":{\"color\":\"#636efa\",\"dash\":\"solid\"},\"marker\":{\"symbol\":\"circle\"},\"mode\":\"lines\",\"name\":\"\",\"orientation\":\"h\",\"showlegend\":false,\"x\":[1,2,3],\"xaxis\":\"x\",\"y\":[\"rouge1\",\"rouge2\",\"rougeL\"],\"yaxis\":\"y\",\"type\":\"scatter\"}],                        {\"template\":{\"data\":{\"histogram2dcontour\":[{\"type\":\"histogram2dcontour\",\"colorbar\":{\"outlinewidth\":0,\"ticks\":\"\"},\"colorscale\":[[0.0,\"#0d0887\"],[0.1111111111111111,\"#46039f\"],[0.2222222222222222,\"#7201a8\"],[0.3333333333333333,\"#9c179e\"],[0.4444444444444444,\"#bd3786\"],[0.5555555555555556,\"#d8576b\"],[0.6666666666666666,\"#ed7953\"],[0.7777777777777778,\"#fb9f3a\"],[0.8888888888888888,\"#fdca26\"],[1.0,\"#f0f921\"]]}],\"choropleth\":[{\"type\":\"choropleth\",\"colorbar\":{\"outlinewidth\":0,\"ticks\":\"\"}}],\"histogram2d\":[{\"type\":\"histogram2d\",\"colorbar\":{\"outlinewidth\":0,\"ticks\":\"\"},\"colorscale\":[[0.0,\"#0d0887\"],[0.1111111111111111,\"#46039f\"],[0.2222222222222222,\"#7201a8\"],[0.3333333333333333,\"#9c179e\"],[0.4444444444444444,\"#bd3786\"],[0.5555555555555556,\"#d8576b\"],[0.6666666666666666,\"#ed7953\"],[0.7777777777777778,\"#fb9f3a\"],[0.8888888888888888,\"#fdca26\"],[1.0,\"#f0f921\"]]}],\"heatmap\":[{\"type\":\"heatmap\",\"colorbar\":{\"outlinewidth\":0,\"ticks\":\"\"},\"colorscale\":[[0.0,\"#0d0887\"],[0.1111111111111111,\"#46039f\"],[0.2222222222222222,\"#7201a8\"],[0.3333333333333333,\"#9c179e\"],[0.4444444444444444,\"#bd3786\"],[0.5555555555555556,\"#d8576b\"],[0.6666666666666666,\"#ed7953\"],[0.7777777777777778,\"#fb9f3a\"],[0.8888888888888888,\"#fdca26\"],[1.0,\"#f0f921\"]]}],\"heatmapgl\":[{\"type\":\"heatmapgl\",\"colorbar\":{\"outlinewidth\":0,\"ticks\":\"\"},\"colorscale\":[[0.0,\"#0d0887\"],[0.1111111111111111,\"#46039f\"],[0.2222222222222222,\"#7201a8\"],[0.3333333333333333,\"#9c179e\"],[0.4444444444444444,\"#bd3786\"],[0.5555555555555556,\"#d8576b\"],[0.6666666666666666,\"#ed7953\"],[0.7777777777777778,\"#fb9f3a\"],[0.8888888888888888,\"#fdca26\"],[1.0,\"#f0f921\"]]}],\"contourcarpet\":[{\"type\":\"contourcarpet\",\"colorbar\":{\"outlinewidth\":0,\"ticks\":\"\"}}],\"contour\":[{\"type\":\"contour\",\"colorbar\":{\"outlinewidth\":0,\"ticks\":\"\"},\"colorscale\":[[0.0,\"#0d0887\"],[0.1111111111111111,\"#46039f\"],[0.2222222222222222,\"#7201a8\"],[0.3333333333333333,\"#9c179e\"],[0.4444444444444444,\"#bd3786\"],[0.5555555555555556,\"#d8576b\"],[0.6666666666666666,\"#ed7953\"],[0.7777777777777778,\"#fb9f3a\"],[0.8888888888888888,\"#fdca26\"],[1.0,\"#f0f921\"]]}],\"surface\":[{\"type\":\"surface\",\"colorbar\":{\"outlinewidth\":0,\"ticks\":\"\"},\"colorscale\":[[0.0,\"#0d0887\"],[0.1111111111111111,\"#46039f\"],[0.2222222222222222,\"#7201a8\"],[0.3333333333333333,\"#9c179e\"],[0.4444444444444444,\"#bd3786\"],[0.5555555555555556,\"#d8576b\"],[0.6666666666666666,\"#ed7953\"],[0.7777777777777778,\"#fb9f3a\"],[0.8888888888888888,\"#fdca26\"],[1.0,\"#f0f921\"]]}],\"mesh3d\":[{\"type\":\"mesh3d\",\"colorbar\":{\"outlinewidth\":0,\"ticks\":\"\"}}],\"scatter\":[{\"fillpattern\":{\"fillmode\":\"overlay\",\"size\":10,\"solidity\":0.2},\"type\":\"scatter\"}],\"parcoords\":[{\"type\":\"parcoords\",\"line\":{\"colorbar\":{\"outlinewidth\":0,\"ticks\":\"\"}}}],\"scatterpolargl\":[{\"type\":\"scatterpolargl\",\"marker\":{\"colorbar\":{\"outlinewidth\":0,\"ticks\":\"\"}}}],\"bar\":[{\"error_x\":{\"color\":\"#2a3f5f\"},\"error_y\":{\"color\":\"#2a3f5f\"},\"marker\":{\"line\":{\"color\":\"#E5ECF6\",\"width\":0.5},\"pattern\":{\"fillmode\":\"overlay\",\"size\":10,\"solidity\":0.2}},\"type\":\"bar\"}],\"scattergeo\":[{\"type\":\"scattergeo\",\"marker\":{\"colorbar\":{\"outlinewidth\":0,\"ticks\":\"\"}}}],\"scatterpolar\":[{\"type\":\"scatterpolar\",\"marker\":{\"colorbar\":{\"outlinewidth\":0,\"ticks\":\"\"}}}],\"histogram\":[{\"marker\":{\"pattern\":{\"fillmode\":\"overlay\",\"size\":10,\"solidity\":0.2}},\"type\":\"histogram\"}],\"scattergl\":[{\"type\":\"scattergl\",\"marker\":{\"colorbar\":{\"outlinewidth\":0,\"ticks\":\"\"}}}],\"scatter3d\":[{\"type\":\"scatter3d\",\"line\":{\"colorbar\":{\"outlinewidth\":0,\"ticks\":\"\"}},\"marker\":{\"colorbar\":{\"outlinewidth\":0,\"ticks\":\"\"}}}],\"scattermapbox\":[{\"type\":\"scattermapbox\",\"marker\":{\"colorbar\":{\"outlinewidth\":0,\"ticks\":\"\"}}}],\"scatterternary\":[{\"type\":\"scatterternary\",\"marker\":{\"colorbar\":{\"outlinewidth\":0,\"ticks\":\"\"}}}],\"scattercarpet\":[{\"type\":\"scattercarpet\",\"marker\":{\"colorbar\":{\"outlinewidth\":0,\"ticks\":\"\"}}}],\"carpet\":[{\"aaxis\":{\"endlinecolor\":\"#2a3f5f\",\"gridcolor\":\"white\",\"linecolor\":\"white\",\"minorgridcolor\":\"white\",\"startlinecolor\":\"#2a3f5f\"},\"baxis\":{\"endlinecolor\":\"#2a3f5f\",\"gridcolor\":\"white\",\"linecolor\":\"white\",\"minorgridcolor\":\"white\",\"startlinecolor\":\"#2a3f5f\"},\"type\":\"carpet\"}],\"table\":[{\"cells\":{\"fill\":{\"color\":\"#EBF0F8\"},\"line\":{\"color\":\"white\"}},\"header\":{\"fill\":{\"color\":\"#C8D4E3\"},\"line\":{\"color\":\"white\"}},\"type\":\"table\"}],\"barpolar\":[{\"marker\":{\"line\":{\"color\":\"#E5ECF6\",\"width\":0.5},\"pattern\":{\"fillmode\":\"overlay\",\"size\":10,\"solidity\":0.2}},\"type\":\"barpolar\"}],\"pie\":[{\"automargin\":true,\"type\":\"pie\"}]},\"layout\":{\"autotypenumbers\":\"strict\",\"colorway\":[\"#636efa\",\"#EF553B\",\"#00cc96\",\"#ab63fa\",\"#FFA15A\",\"#19d3f3\",\"#FF6692\",\"#B6E880\",\"#FF97FF\",\"#FECB52\"],\"font\":{\"color\":\"#2a3f5f\"},\"hovermode\":\"closest\",\"hoverlabel\":{\"align\":\"left\"},\"paper_bgcolor\":\"white\",\"plot_bgcolor\":\"#E5ECF6\",\"polar\":{\"bgcolor\":\"#E5ECF6\",\"angularaxis\":{\"gridcolor\":\"white\",\"linecolor\":\"white\",\"ticks\":\"\"},\"radialaxis\":{\"gridcolor\":\"white\",\"linecolor\":\"white\",\"ticks\":\"\"}},\"ternary\":{\"bgcolor\":\"#E5ECF6\",\"aaxis\":{\"gridcolor\":\"white\",\"linecolor\":\"white\",\"ticks\":\"\"},\"baxis\":{\"gridcolor\":\"white\",\"linecolor\":\"white\",\"ticks\":\"\"},\"caxis\":{\"gridcolor\":\"white\",\"linecolor\":\"white\",\"ticks\":\"\"}},\"coloraxis\":{\"colorbar\":{\"outlinewidth\":0,\"ticks\":\"\"}},\"colorscale\":{\"sequential\":[[0.0,\"#0d0887\"],[0.1111111111111111,\"#46039f\"],[0.2222222222222222,\"#7201a8\"],[0.3333333333333333,\"#9c179e\"],[0.4444444444444444,\"#bd3786\"],[0.5555555555555556,\"#d8576b\"],[0.6666666666666666,\"#ed7953\"],[0.7777777777777778,\"#fb9f3a\"],[0.8888888888888888,\"#fdca26\"],[1.0,\"#f0f921\"]],\"sequentialminus\":[[0.0,\"#0d0887\"],[0.1111111111111111,\"#46039f\"],[0.2222222222222222,\"#7201a8\"],[0.3333333333333333,\"#9c179e\"],[0.4444444444444444,\"#bd3786\"],[0.5555555555555556,\"#d8576b\"],[0.6666666666666666,\"#ed7953\"],[0.7777777777777778,\"#fb9f3a\"],[0.8888888888888888,\"#fdca26\"],[1.0,\"#f0f921\"]],\"diverging\":[[0,\"#8e0152\"],[0.1,\"#c51b7d\"],[0.2,\"#de77ae\"],[0.3,\"#f1b6da\"],[0.4,\"#fde0ef\"],[0.5,\"#f7f7f7\"],[0.6,\"#e6f5d0\"],[0.7,\"#b8e186\"],[0.8,\"#7fbc41\"],[0.9,\"#4d9221\"],[1,\"#276419\"]]},\"xaxis\":{\"gridcolor\":\"white\",\"linecolor\":\"white\",\"ticks\":\"\",\"title\":{\"standoff\":15},\"zerolinecolor\":\"white\",\"automargin\":true,\"zerolinewidth\":2},\"yaxis\":{\"gridcolor\":\"white\",\"linecolor\":\"white\",\"ticks\":\"\",\"title\":{\"standoff\":15},\"zerolinecolor\":\"white\",\"automargin\":true,\"zerolinewidth\":2},\"scene\":{\"xaxis\":{\"backgroundcolor\":\"#E5ECF6\",\"gridcolor\":\"white\",\"linecolor\":\"white\",\"showbackground\":true,\"ticks\":\"\",\"zerolinecolor\":\"white\",\"gridwidth\":2},\"yaxis\":{\"backgroundcolor\":\"#E5ECF6\",\"gridcolor\":\"white\",\"linecolor\":\"white\",\"showbackground\":true,\"ticks\":\"\",\"zerolinecolor\":\"white\",\"gridwidth\":2},\"zaxis\":{\"backgroundcolor\":\"#E5ECF6\",\"gridcolor\":\"white\",\"linecolor\":\"white\",\"showbackground\":true,\"ticks\":\"\",\"zerolinecolor\":\"white\",\"gridwidth\":2}},\"shapedefaults\":{\"line\":{\"color\":\"#2a3f5f\"}},\"annotationdefaults\":{\"arrowcolor\":\"#2a3f5f\",\"arrowhead\":0,\"arrowwidth\":1},\"geo\":{\"bgcolor\":\"white\",\"landcolor\":\"#E5ECF6\",\"subunitcolor\":\"white\",\"showland\":true,\"showlakes\":true,\"lakecolor\":\"white\"},\"title\":{\"x\":0.05},\"mapbox\":{\"style\":\"light\"}}},\"xaxis\":{\"anchor\":\"y\",\"domain\":[0.0,1.0],\"title\":{\"text\":\"epochs\"}},\"yaxis\":{\"anchor\":\"x\",\"domain\":[0.0,1.0],\"title\":{\"text\":\"y\"}},\"legend\":{\"tracegroupgap\":0},\"title\":{\"text\":\"ROUGE Scores Over Epochs\"},\"height\":500,\"width\":800},                        {\"responsive\": true}                    ).then(function(){\n",
       "                            \n",
       "var gd = document.getElementById('3ec45282-aa8a-4a78-b9a1-36d8f8732a0c');\n",
       "var x = new MutationObserver(function (mutations, observer) {{\n",
       "        var display = window.getComputedStyle(gd).display;\n",
       "        if (!display || display === 'none') {{\n",
       "            console.log([gd, 'removed!']);\n",
       "            Plotly.purge(gd);\n",
       "            observer.disconnect();\n",
       "        }}\n",
       "}});\n",
       "\n",
       "// Listen for the removal of the full notebook cells\n",
       "var notebookContainer = gd.closest('#notebook-container');\n",
       "if (notebookContainer) {{\n",
       "    x.observe(notebookContainer, {childList: true});\n",
       "}}\n",
       "\n",
       "// Listen for the clearing of the current output cell\n",
       "var outputEl = gd.closest('.output');\n",
       "if (outputEl) {{\n",
       "    x.observe(outputEl, {childList: true});\n",
       "}}\n",
       "\n",
       "                        })                };                });            </script>        </div>"
      ]
     },
     "metadata": {},
     "output_type": "display_data"
    }
   ],
   "source": [
    "# Assuming you have a DataFrame `df` containing the training history\n",
    "df = pd.DataFrame(train_history)\n",
    "df['epochs'] = range(1, len(df) + 1)\n",
    "\n",
    "# Plotting ROUGE scores over epochs\n",
    "fig = px.line(df, x='epochs', y=['rouge1', 'rouge2', 'rougeL'],\n",
    "              labels={'value': 'F1 Score', 'variable': 'ROUGE Metric'},\n",
    "              title='ROUGE Scores Over Epochs',\n",
    "              width=800, height=500)\n",
    "\n",
    "fig.show()"
   ]
  },
  {
   "cell_type": "code",
   "execution_count": 36,
   "metadata": {
    "execution": {
     "iopub.execute_input": "2023-12-30T04:20:50.113251Z",
     "iopub.status.busy": "2023-12-30T04:20:50.112860Z",
     "iopub.status.idle": "2023-12-30T04:20:50.123537Z",
     "shell.execute_reply": "2023-12-30T04:20:50.122552Z",
     "shell.execute_reply.started": "2023-12-30T04:20:50.113222Z"
    }
   },
   "outputs": [
    {
     "name": "stdout",
     "output_type": "stream",
     "text": [
      "Epoch 0:\n",
      "  ROUGE-1 = 24.7698\n",
      "  ROUGE-2 = 33.5795\n",
      "  ROUGE-L = 33.5108\n",
      "Epoch 1:\n",
      "  ROUGE-1 = 42.2049\n",
      "  ROUGE-2 = 24.7309\n",
      "  ROUGE-L = 33.7859\n",
      "Epoch 2:\n",
      "  ROUGE-1 = 43.1892\n",
      "  ROUGE-2 = 25.8581\n",
      "  ROUGE-L = 34.7\n",
      "Epoch 3:\n",
      "  ROUGE-1 = 42.7761\n",
      "  ROUGE-2 = 25.4726\n",
      "  ROUGE-L = 34.2199\n"
     ]
    }
   ],
   "source": [
    "# Print ROUGE scores for each epoch\n",
    "for index, row in df.iterrows():\n",
    "    print(f\"Epoch {row['Epoch']}:\")\n",
    "    print(f\"  ROUGE-1 = {row['Rouge1']}\")\n",
    "    print(f\"  ROUGE-2 = {row['Rouge2']}\")\n",
    "    print(f\"  ROUGE-L = {row['Rougel']}\")"
   ]
  },
  {
   "cell_type": "markdown",
   "metadata": {},
   "source": [
    "<div style=\"background-color:olive; color:white; font-size:15px; font-family:Verdana; padding:10px;font-weight:bold;border: 5px solid black;text-align:center\">\n",
    "Générer les résumés des données</div>"
   ]
  },
  {
   "cell_type": "code",
   "execution_count": 37,
   "metadata": {
    "execution": {
     "iopub.execute_input": "2023-12-30T04:21:59.216720Z",
     "iopub.status.busy": "2023-12-30T04:21:59.215767Z",
     "iopub.status.idle": "2023-12-30T04:22:00.396170Z",
     "shell.execute_reply": "2023-12-30T04:22:00.395239Z",
     "shell.execute_reply.started": "2023-12-30T04:21:59.216687Z"
    }
   },
   "outputs": [
    {
     "name": "stdout",
     "output_type": "stream",
     "text": [
      "Input Text:\n",
      "By . Emma Innes . A cystic fibrosis patient has married his girlfriend after having a successful lung transplant. Dane Pollard, 34, was diagnosed with the condition when he was 18 months old and feared he would not survive. The condition caused his lungs to fill with mucus, meaning he needed daily physiotherapy in order to lead a normal life. Dane Pollard met and married his partner, Emma, after his life was saved by a last minute lung transplant . Mr Pollard was diagnosed with cystic fibrosis when he was 18 months old and his health slowly deteriorated . However, his health worsened and he found himself needing a wheelchair and additional oxygen. He eventually ended up housebound and was put on the lung transplant list. In 2008, he received a call to say that some new lungs had been found for him and the operation could go ahead. He believes that if the lungs had not become available, he would not have survived for many more days.\n",
      "\n",
      "Generated Summary:\n",
      " cystic fibrosis patient has married his girlfriend after having a successful lung transplant Dane Pollard was diagnosed with the condition when he was 18 months old and feared he would not survive after having his lungs filled with mucus he needed daily physiotherapy to help him walk.\n"
     ]
    }
   ],
   "source": [
    "# Generate summary\n",
    "input_text=\"By . Emma Innes . A cystic fibrosis patient has married his girlfriend after having a successful lung transplant. Dane Pollard, 34, was diagnosed with the condition when he was 18 months old and feared he would not survive. The condition caused his lungs to fill with mucus, meaning he needed daily physiotherapy in order to lead a normal life. Dane Pollard met and married his partner, Emma, after his life was saved by a last minute lung transplant . Mr Pollard was diagnosed with cystic fibrosis when he was 18 months old and his health slowly deteriorated . However, his health worsened and he found himself needing a wheelchair and additional oxygen. He eventually ended up housebound and was put on the lung transplant list. In 2008, he received a call to say that some new lungs had been found for him and the operation could go ahead. He believes that if the lungs had not become available, he would not have survived for many more days.\"\n",
    "summary = generate_summary(input_text, model, tokenizer)\n",
    "\n",
    "# Print the generated summary\n",
    "print(\"Input Text:\")\n",
    "print(input_text)\n",
    "print(\"\\nGenerated Summary:\")\n",
    "print(summary)"
   ]
  },
  {
   "cell_type": "markdown",
   "metadata": {},
   "source": [
    "<div style=\"background-color:olive; color:white; font-size:15px; font-family:Verdana; padding:10px;font-weight:bold;border: 5px solid black;text-align:center\">\n",
    "Sauvgarder le modèle et le tojenizer</div>"
   ]
  },
  {
   "cell_type": "code",
   "execution_count": 38,
   "metadata": {
    "execution": {
     "iopub.execute_input": "2023-12-30T04:22:06.914762Z",
     "iopub.status.busy": "2023-12-30T04:22:06.913834Z",
     "iopub.status.idle": "2023-12-30T04:22:11.552879Z",
     "shell.execute_reply": "2023-12-30T04:22:11.551942Z",
     "shell.execute_reply.started": "2023-12-30T04:22:06.914728Z"
    }
   },
   "outputs": [
    {
     "data": {
      "text/plain": [
       "('ESI_SUM_fine_tuned_model/tokenizer_config.json',\n",
       " 'ESI_SUM_fine_tuned_model/special_tokens_map.json',\n",
       " 'ESI_SUM_fine_tuned_model/vocab.json',\n",
       " 'ESI_SUM_fine_tuned_model/merges.txt',\n",
       " 'ESI_SUM_fine_tuned_model/added_tokens.json')"
      ]
     },
     "execution_count": 38,
     "metadata": {},
     "output_type": "execute_result"
    }
   ],
   "source": [
    "# Save fine-tuned model and tokenizer\n",
    "model_path = 'ESI_SUM_fine_tuned_model'\n",
    "model.save_pretrained(model_path)\n",
    "tokenizer.save_pretrained(model_path)"
   ]
  },
  {
   "cell_type": "markdown",
   "metadata": {},
   "source": [
    "<div style=\"background-color:olive; color:white; font-size:15px; font-family:Verdana; padding:10px;font-weight:bold;border: 5px solid black;text-align:center\">\n",
    "archiver le dossier pour le télécharger</div>"
   ]
  },
  {
   "cell_type": "code",
   "execution_count": 39,
   "metadata": {
    "execution": {
     "iopub.execute_input": "2023-12-30T04:22:11.555340Z",
     "iopub.status.busy": "2023-12-30T04:22:11.554711Z",
     "iopub.status.idle": "2023-12-30T04:23:46.557244Z",
     "shell.execute_reply": "2023-12-30T04:23:46.555960Z",
     "shell.execute_reply.started": "2023-12-30T04:22:11.555302Z"
    }
   },
   "outputs": [
    {
     "data": {
      "text/plain": [
       "'/kaggle/working/ESI_SUM_fine_tuned_model.zip'"
      ]
     },
     "execution_count": 39,
     "metadata": {},
     "output_type": "execute_result"
    }
   ],
   "source": [
    "# Saving model in .zip format\n",
    "shutil.make_archive('ESI_SUM_fine_tuned_model', 'zip', '/kaggle/working/ESI_SUM_fine_tuned_model')\n",
    "shutil.move('ESI_SUM_fine_tuned_model.zip', '/kaggle/working/ESI_SUM_fine_tuned_model.zip')"
   ]
  },
  {
   "cell_type": "markdown",
   "metadata": {},
   "source": [
    "<h2 style='color:olive' align='center'>Références: </h2>"
   ]
  },
  {
   "cell_type": "markdown",
   "metadata": {},
   "source": [
    "---\n",
    "<div style=\"background-color:olive; color:white; font-size:15px; font-family:Verdana; padding:10px;font-weight:bold;border: 5px solid black;text-align:center\">\n",
    "<ul>\n",
    "<li><a href=\"https://blog.research.google/2016/08/text-summarization-with-tensorflow.html\" style=\"color:white;\"> Ressource 1</a></li>\n",
    "<li><a href=\"https://en.wikipedia.org/wiki/Tf%E2%80%93idf\" style=\"color:white;\"> Ressource 2</a></li>\n",
    "<li><a href=\"https://www.kaggle.com/datasets/sbhatti/news-summarization/data\" style=\"color:white;\"> Ressource 3 </a></li>\n",
    "<li><a href=\"https://radimrehurek.com/gensim/models/word2vec.html\" style=\"color:white;\"> Ressource4 </a></li>\n",
    "    \n",
    "</ul>\n",
    "</div>\n",
    "\n",
    "---"
   ]
  },
  {
   "cell_type": "markdown",
   "metadata": {},
   "source": [
    "<h2 style='color:olive' align='center'>END </h2>"
   ]
  }
 ],
 "metadata": {
  "kaggle": {
   "accelerator": "nvidiaTeslaT4",
   "dataSources": [
    {
     "datasetId": 4237343,
     "sourceId": 7303504,
     "sourceType": "datasetVersion"
    }
   ],
   "dockerImageVersionId": 30627,
   "isGpuEnabled": true,
   "isInternetEnabled": true,
   "language": "python",
   "sourceType": "notebook"
  },
  "kernelspec": {
   "display_name": "Python 3 (ipykernel)",
   "language": "python",
   "name": "python3"
  },
  "language_info": {
   "codemirror_mode": {
    "name": "ipython",
    "version": 3
   },
   "file_extension": ".py",
   "mimetype": "text/x-python",
   "name": "python",
   "nbconvert_exporter": "python",
   "pygments_lexer": "ipython3",
   "version": "3.11.4"
  }
 },
 "nbformat": 4,
 "nbformat_minor": 4
}
