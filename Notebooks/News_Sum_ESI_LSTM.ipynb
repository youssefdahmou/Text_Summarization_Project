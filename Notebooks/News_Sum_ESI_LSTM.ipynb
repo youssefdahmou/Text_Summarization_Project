{
 "cells": [
  {
   "cell_type": "markdown",
   "id": "45281171",
   "metadata": {},
   "source": [
    "<div>\n",
    "    <img src=\"data:image/jpeg;base64,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\" alt=\"ESI\">\n",
    "</div>"
   ]
  },
  {
   "cell_type": "markdown",
   "id": "41bf985f",
   "metadata": {},
   "source": [
    "<div style=\"background-color:olive; color:white; font-size:15px; font-family:Verdana; padding:10px;font-weight:bold;border: 5px solid black;\">\n",
    "<p style=\"color:orange;font-weight:bold\"><u>Réalisé par:</u></p>\n",
    "<ul >\n",
    "    <li>ELGHAZI Soufiane</li>\n",
    "    <li>MAASRI Amine</li>\n",
    "    <li>Dahmou Youssef</li>\n",
    "    <li>OUAHIB Yassine</li>\n",
    "</ul>\n",
    "    \n",
    "</div>"
   ]
  },
  {
   "cell_type": "markdown",
   "id": "75a0cdab",
   "metadata": {},
   "source": [
    "<h1 style='color:purple' align='center'>Projet Text mining: News SUM </h1>"
   ]
  },
  {
   "cell_type": "markdown",
   "id": "002d0502",
   "metadata": {},
   "source": [
    "<h2 style='color:olive' align='center'>LSTM </h2>"
   ]
  },
  {
   "cell_type": "markdown",
   "id": "95364643",
   "metadata": {},
   "source": [
    "<h2 style='color:olive' align='center'>Plan </h2>"
   ]
  },
  {
   "cell_type": "markdown",
   "id": "0f9c41d1",
   "metadata": {},
   "source": [
    "<div style=\"background-color:white; color:black; font-size:15px; font-family:Verdana; padding:10px;font-weight:bold;border: 5px solid black;\">\n",
    "<p style=\"color:purple;\">Étape 2 : Création et évaluation des modèles : LSTM</p><br>\n",
    "\n",
    "<p style=\"color:purple;\">Étape 3 : Amélioration des performances: Attention layer</p><br>\n",
    "\n",
    "<p style=\"color:purple;\">Références</p>\n",
    " Les liens vers les ressources utilisées et consulté .<br><br>\n",
    "</div>"
   ]
  },
  {
   "cell_type": "markdown",
   "id": "9fcd6c65",
   "metadata": {},
   "source": [
    "<h2 style='color:purple'>Importation des Bibliothèques: </h2>"
   ]
  },
  {
   "cell_type": "code",
   "execution_count": 1,
   "id": "543c0a26",
   "metadata": {
    "execution": {
     "iopub.execute_input": "2023-12-19T00:50:35.547145Z",
     "iopub.status.busy": "2023-12-19T00:50:35.546337Z",
     "iopub.status.idle": "2023-12-19T00:50:48.704212Z",
     "shell.execute_reply": "2023-12-19T00:50:48.703013Z",
     "shell.execute_reply.started": "2023-12-19T00:50:35.547102Z"
    }
   },
   "outputs": [
    {
     "name": "stdout",
     "output_type": "stream",
     "text": [
      "Collecting rouge\n",
      "  Downloading rouge-1.0.1-py3-none-any.whl (13 kB)\n",
      "Requirement already satisfied: six in /opt/conda/lib/python3.10/site-packages (from rouge) (1.16.0)\n",
      "Installing collected packages: rouge\n",
      "Successfully installed rouge-1.0.1\n",
      "Note: you may need to restart the kernel to use updated packages.\n"
     ]
    }
   ],
   "source": [
    "pip install rouge"
   ]
  },
  {
   "cell_type": "code",
   "execution_count": null,
   "id": "6ffbf6c5",
   "metadata": {},
   "outputs": [],
   "source": [
    "from keras.preprocessing.text import Tokenizer \n",
    "from keras.preprocessing.sequence import pad_sequences\n",
    "from tensorflow.keras.layers import Input, LSTM, Embedding, Dense, Concatenate, TimeDistributed\n",
    "from tensorflow.keras.models import Model\n",
    "from tensorflow.keras.callbacks import EarlyStopping, ModelCheckpoint\n",
    "from tensorflow.keras.utils import plot_model\n",
    "\n",
    "import pandas as pd\n",
    "import numpy as np\n",
    "import matplotlib.pyplot as plt\n",
    "import warnings\n",
    "import re\n",
    "import string\n",
    "import nltk\n",
    "\n",
    "from nltk.corpus import stopwords\n",
    "from nltk.stem import WordNetLemmatizer\n",
    "from nltk.translate.bleu_score import sentence_bleu, corpus_bleu\n",
    "from nltk.tokenize import sent_tokenize\n",
    "\n",
    "from sklearn.model_selection import train_test_split\n",
    "\n",
    "from rouge import Rouge\n",
    "from wordcloud import WordCloud\n",
    "\n",
    "from eventregistry import *\n",
    "import json"
   ]
  },
  {
   "cell_type": "code",
   "execution_count": 4,
   "id": "0084e66d",
   "metadata": {
    "execution": {
     "iopub.execute_input": "2023-12-19T00:51:27.749230Z",
     "iopub.status.busy": "2023-12-19T00:51:27.748599Z",
     "iopub.status.idle": "2023-12-19T00:51:27.984737Z",
     "shell.execute_reply": "2023-12-19T00:51:27.983817Z",
     "shell.execute_reply.started": "2023-12-19T00:51:27.749200Z"
    }
   },
   "outputs": [
    {
     "name": "stdout",
     "output_type": "stream",
     "text": [
      "[nltk_data] Downloading package stopwords to /usr/share/nltk_data...\n",
      "[nltk_data]   Package stopwords is already up-to-date!\n",
      "[nltk_data] Downloading package punkt to /usr/share/nltk_data...\n",
      "[nltk_data]   Package punkt is already up-to-date!\n",
      "[nltk_data] Downloading package wordnet to /usr/share/nltk_data...\n",
      "[nltk_data]   Package wordnet is already up-to-date!\n"
     ]
    },
    {
     "data": {
      "text/plain": [
       "True"
      ]
     },
     "execution_count": 4,
     "metadata": {},
     "output_type": "execute_result"
    }
   ],
   "source": [
    "warnings.filterwarnings(\"ignore\")\n",
    "pd.set_option(\"display.max_colwidth\",200)\n",
    "nltk.download('stopwords')\n",
    "nltk.download('punkt')\n",
    "nltk.download('wordnet')"
   ]
  },
  {
   "cell_type": "markdown",
   "id": "5fb6581c",
   "metadata": {},
   "source": [
    "<h2 style='color:olive' align='center'>Création de modèle LSTM </h2>"
   ]
  },
  {
   "cell_type": "markdown",
   "id": "2e04059e",
   "metadata": {},
   "source": [
    "<div style=\"background-color:olive; color:white; font-size:15px; font-family:Verdana; padding:10px;font-weight:bold;border: 5px solid black;text-align:center\">\n",
    " on va commencer par l'importation des données nettoyer directement;\n",
    "</div>"
   ]
  },
  {
   "cell_type": "code",
   "execution_count": 16,
   "id": "583806fa",
   "metadata": {},
   "outputs": [],
   "source": [
    "corpus = pd.read_excel(\"../Data/Final_Data/corpus.xlsx\")"
   ]
  },
  {
   "cell_type": "markdown",
   "id": "99d93400",
   "metadata": {},
   "source": [
    "<div style=\"background-color:olive; color:white; font-size:15px; font-family:Verdana; padding:10px;font-weight:bold;border: 5px solid black;text-align:center\">\n",
    "Visualiser la distribution de texte et de résumé:\n",
    "</div>"
   ]
  },
  {
   "cell_type": "code",
   "execution_count": 17,
   "id": "49625a09",
   "metadata": {
    "execution": {
     "iopub.execute_input": "2023-12-19T00:52:48.405761Z",
     "iopub.status.busy": "2023-12-19T00:52:48.405469Z",
     "iopub.status.idle": "2023-12-19T00:52:48.941458Z",
     "shell.execute_reply": "2023-12-19T00:52:48.940568Z",
     "shell.execute_reply.started": "2023-12-19T00:52:48.405737Z"
    }
   },
   "outputs": [
    {
     "data": {
      "image/png": "[encoded data removed]",
      "text/plain": [
       "<Figure size 640x480 with 2 Axes>"
      ]
     },
     "metadata": {},
     "output_type": "display_data"
    }
   ],
   "source": [
    "Content_Count = []\n",
    "Summary_Count = []\n",
    "\n",
    "for i in corpus['Content_preprocessed']:\n",
    "      Content_Count.append(len(i.split()))\n",
    "for i in corpus['Summary_preprocessed']:\n",
    "      Summary_Count.append(len(i.split()))\n",
    "\n",
    "length_df = pd.DataFrame({'Content':Content_Count, 'Summary':Summary_Count})\n",
    "length_df.hist(bins = 30)\n",
    "plt.show()"
   ]
  },
  {
   "cell_type": "markdown",
   "id": "82f3e9ca",
   "metadata": {},
   "source": [
    "<div style=\"background-color:olive; color:white; font-size:15px; font-family:Verdana; padding:10px;font-weight:bold;border: 5px solid black;text-align:center\">\n",
    "Vérifier le pourcentage de texte qui a entre 0 et 500 mots et de résumé qui est entre 0 et 100 mots\n",
    "</div>"
   ]
  },
  {
   "cell_type": "code",
   "execution_count": 18,
   "id": "97b6a4e4",
   "metadata": {
    "execution": {
     "iopub.execute_input": "2023-12-19T00:52:48.943283Z",
     "iopub.status.busy": "2023-12-19T00:52:48.942917Z",
     "iopub.status.idle": "2023-12-19T00:52:48.953216Z",
     "shell.execute_reply": "2023-12-19T00:52:48.952193Z",
     "shell.execute_reply.started": "2023-12-19T00:52:48.943248Z"
    }
   },
   "outputs": [
    {
     "name": "stdout",
     "output_type": "stream",
     "text": [
      "0.95932382461701\n"
     ]
    }
   ],
   "source": [
    "cnt = 0\n",
    "for i in corpus['Summary_preprocessed']:\n",
    "    if len(i.split()) <= 120:\n",
    "        cnt = cnt + 1\n",
    "print(cnt / len(corpus['Summary_preprocessed']))"
   ]
  },
  {
   "cell_type": "code",
   "execution_count": 20,
   "id": "b17459b0",
   "metadata": {
    "execution": {
     "iopub.execute_input": "2023-12-19T00:52:48.954721Z",
     "iopub.status.busy": "2023-12-19T00:52:48.954415Z",
     "iopub.status.idle": "2023-12-19T00:52:48.996933Z",
     "shell.execute_reply": "2023-12-19T00:52:48.996042Z",
     "shell.execute_reply.started": "2023-12-19T00:52:48.954685Z"
    }
   },
   "outputs": [
    {
     "name": "stdout",
     "output_type": "stream",
     "text": [
      "0.971473851030111\n"
     ]
    }
   ],
   "source": [
    "cnt = 0\n",
    "for i in corpus['Content_preprocessed']:\n",
    "    if len(i.split()) <= 2000:\n",
    "        cnt = cnt + 1\n",
    "print(cnt / len(corpus['Content_preprocessed']))"
   ]
  },
  {
   "cell_type": "markdown",
   "id": "5024d3d3",
   "metadata": {},
   "source": [
    "<div style=\"background-color:olive; color:white; font-size:15px; font-family:Verdana; padding:10px;font-weight:bold;border: 5px solid black;text-align:center\">\n",
    "Définir les limites , 0-40 pour Summary et 0-300 pour Content.\n",
    "</div>"
   ]
  },
  {
   "cell_type": "code",
   "execution_count": 18,
   "id": "867cd623",
   "metadata": {
    "execution": {
     "iopub.execute_input": "2023-12-19T00:52:48.999593Z",
     "iopub.status.busy": "2023-12-19T00:52:48.999302Z",
     "iopub.status.idle": "2023-12-19T00:52:49.003575Z",
     "shell.execute_reply": "2023-12-19T00:52:49.002739Z",
     "shell.execute_reply.started": "2023-12-19T00:52:48.999568Z"
    }
   },
   "outputs": [],
   "source": [
    "max_text_len = 2000\n",
    "max_summary_len = 200"
   ]
  },
  {
   "cell_type": "markdown",
   "id": "82399860",
   "metadata": {},
   "source": [
    "<div style=\"background-color:olive; color:white; font-size:15px; font-family:Verdana; padding:10px;font-weight:bold;border: 5px solid black;text-align:center\">\n",
    "Enlever les Outliers\n",
    "</div>"
   ]
  },
  {
   "cell_type": "code",
   "execution_count": 19,
   "id": "f9eab651",
   "metadata": {
    "execution": {
     "iopub.execute_input": "2023-12-19T00:52:49.005609Z",
     "iopub.status.busy": "2023-12-19T00:52:49.004959Z",
     "iopub.status.idle": "2023-12-19T00:52:49.052018Z",
     "shell.execute_reply": "2023-12-19T00:52:49.051023Z",
     "shell.execute_reply.started": "2023-12-19T00:52:49.005575Z"
    }
   },
   "outputs": [],
   "source": [
    "Content_preprocessed_array =np.array(corpus['Content_preprocessed'])\n",
    "Summary_preprocessed_array=np.array(corpus['Summary_preprocessed'])\n",
    "\n",
    "short_text=[]\n",
    "short_summary=[]\n",
    "\n",
    "for i in range(len(Content_preprocessed_array)):\n",
    "    if(len(Summary_preprocessed_array[i].split())<=max_summary_len and len(Content_preprocessed_array[i].split())<=max_text_len):\n",
    "        short_text.append(Content_preprocessed_array[i])\n",
    "        short_summary.append(Summary_preprocessed_array[i])\n",
    "        \n",
    "df=pd.DataFrame({'text':short_text,'summary':short_summary})"
   ]
  },
  {
   "cell_type": "markdown",
   "id": "bbaa5442",
   "metadata": {},
   "source": [
    "<div style=\"background-color:olive; color:white; font-size:15px; font-family:Verdana; padding:10px;font-weight:bold;border: 5px solid black;text-align:center\">\n",
    "Ajouter Tokens au début et à la fin de résumé:\n",
    "</div>"
   ]
  },
  {
   "cell_type": "code",
   "execution_count": 20,
   "id": "23d9b797",
   "metadata": {
    "execution": {
     "iopub.execute_input": "2023-12-19T00:52:49.053548Z",
     "iopub.status.busy": "2023-12-19T00:52:49.053249Z",
     "iopub.status.idle": "2023-12-19T00:52:49.059085Z",
     "shell.execute_reply": "2023-12-19T00:52:49.058181Z",
     "shell.execute_reply.started": "2023-12-19T00:52:49.053523Z"
    }
   },
   "outputs": [],
   "source": [
    "df['summary'] = df['summary'].apply(lambda x : 'sostok '+ x + ' eostok')"
   ]
  },
  {
   "cell_type": "code",
   "execution_count": 74,
   "id": "35785ee9",
   "metadata": {
    "execution": {
     "iopub.execute_input": "2023-12-19T01:25:10.818210Z",
     "iopub.status.busy": "2023-12-19T01:25:10.817785Z",
     "iopub.status.idle": "2023-12-19T01:25:10.824554Z",
     "shell.execute_reply": "2023-12-19T01:25:10.823615Z",
     "shell.execute_reply.started": "2023-12-19T01:25:10.818178Z"
    }
   },
   "outputs": [
    {
     "name": "stdout",
     "output_type": "stream",
     "text": [
      "Text: new york police are concerned drones could become tools for terrorists and are investigating ways to stop potential attacks until now police have not acknowledged drones as potential weapon but the nypd has now said the technology has advanced enough that someone could use them to carry out an air assault using chemical weapons and firearms police want to develop technology which will allow them to take control of drones as well as scan the skies for them before major events the nypd says drones carrying explosives are the number one threat as they investigate ways to stop attacks deputy chief salvatore dipace left was concerned about an incident last year where drone was landed in front of german chancellor angela merkel and could have took the chancellor and her people out drone which was flown over packed football stadium in manchester england just over week ago resulting in the suspected pilot being arrested they are consulting with the military and members of its counterterrorism bomb squad emergency services and aviation units are working on plan to counter weaponized drones the nypd has not received any intelligence indicating there is an imminent threat but has become increasingly concerned over the last year deputy chief salvatore dipace told cbs news we ve looked at some people that have jury-rigged these drones to carry guns to carry different types of explosives if they wanted to there is just so many possibilities that we are very worried about mr dipace said police had also seen video showing how accurate an attack from drone could be we ve seen some video where the drone was flying at different targets along the route and very accurately hitting the targets with the paintball the nypd now sees drone carrying explosives as the number one threat mr dipace concerns follow an incident in germany last year where drone was able to land just in front of german chancellor angela merkel as she delivered speech the drone circled landed in front of ms merkel as she delivered speech sin germany sparking fears that the device could easily be used to commit terrorist act he said if you really think about what could have happened there the drone hit its target right on the mark and could have took the chancellor and her people out there has been dramatic increase of incidents involving drones in new york city in the last year with 40 recorded in some cases unmanned aircraft systems or drones had flown into airspace being used by nypd helicopters in one incident this summer drone which was almost 800 feet off the ground nearly collided with police helicopter nypd aviation unit member sergeant antonio hernandez said we re flying in the dark we have night-vision goggles on we are trying to get job done and then the next thing you know we see this drone come up to our altitude \n",
      "\n",
      "\n",
      "Summary: sostok police have investigated criminals who have rigged guns to drones and are working with the military to develop technology to stop attacks incidents involving drones have drastically increased in new york city last year drone was landed in front of german chancellor angela merkel . eostok\n",
      "\n",
      "\n",
      "\n",
      "Text: by ryan lipman perhaps australian porn star angela white thought she was bringing the ultimate steamy study fantasy to life when she and partner secretly filmed sex acts in the library of la trobe university in melbourne the video is believed to have been shot this year while the library was open for use and has sparked outrage from the university and the ire of police despite the presence of nearby students white starts the video by revealing herself between bookshelves as reported by the herald sun raunchy angela white and partner secretly filmed sex acts in the library of la trobe university in melbourne white and her onscreen lover then move to nearby desks with her partner keeping lookout la trobe university spokesman said it was shocked and appalled by the brazen act we knew nothing about the video footage until we were recently informed by some of our students permission was not sought nor would it have been given if requested we would assist fully with any police investigation victoria police spokeswoman said if the pair were caught in the act they could have faced charges including wilful and obscene exposure brazen act la trobe was unaware of the video had been filmed and was left outraged by the embarrassment on the back of the controversy whiteâ€™s dutch-based production company agw entertainment issued statement addressing the incident and has since removed the video which had been published online agw entertainment b.v regrets that the filming and/or posting of the video in question may have offended members of the public â€ .\n",
      "\n",
      "\n",
      "Summary: sostok porn star angela white secretly filmed sex acts with partner in university library the university was unaware of the video and has been left outraged police say white and onscreen partner could have faced charges if caught in the act the video was published online but has since been removed white dutch production company has issued an apology . eostok\n",
      "\n",
      "\n",
      "\n",
      "Text:  cnn three delaware day care workers were arrested after police got hold of disturbing and shocking cell phone video that authorities say shows two toddlers taking part in fight the workers had organized police said tuesday that they arrested tiana harris 19 estefania myers 21 and lisa parker 47 who have been charged with assault reckless endangerment endangering the welfare of child and conspiracy on saturday authorities responded to an unrelated incident and person whom police would not identify showed them video of the 3-year-old boys fighting in march the toddlers were not seriously injured but they were clearly hurting each other said dover police capt tim stump authorities have not released the video but say one day care worker said no pinching only punching after one of the boys complained that the other had pinched him the video purportedly shows seven other children seated in the room with their backs to the fighting according to police it is not like they did not know what was going on and they were just encouraging them to continue stump said one of the children attempted to run but one of the teachers pushes him back into the fray we are looking into the possibility that this was not the first time it happened but it appears to be isolated and it seems the administration was in the dark about this he added police made the arrests monday and addressed the incident that evening with parents and guardians of the children who attended the day care center spokesman for the state division of family services said the agency dispatched an institutional abuse investigator to work with dover police during their investigation depending on our findings these women could be prohibited from working in the public sector especially with children or senior citizens agency spokesman joseph smack said adding that all three women had passed background checks before their employment at the center it is rare to see case like this where the staff encouraged this type of behavior smack said calls to the day care center were not returned though police say the company business license has been suspended the three suspects and their attorneys could not be immediately reached for comment police said the women have posted $10 000 bail and are awaiting trial more from cnn justice u.s open tennis ref charged with killing husband more body parts found in toronto area woman held captive in basement sues city medical examiner rules death of handcuffed suspect suicide .\n",
      "\n",
      "\n",
      "Summary: sostok police arrested tiana harris 19 estefania myers 21 and lisa parker 47 they were charged with assault reckless endangering endangering the welfare of child the women and the day care center could not be immediately reached for comment . eostok\n",
      "\n",
      "\n",
      "\n"
     ]
    }
   ],
   "source": [
    "for i in range(3):\n",
    "    print(\"Text:\",df['text'][i])\n",
    "    print(\"\\n\")\n",
    "    print(\"Summary:\",df['summary'][i])\n",
    "    print(\"\\n\\n\")"
   ]
  },
  {
   "cell_type": "markdown",
   "id": "4a894664",
   "metadata": {},
   "source": [
    "<div style=\"background-color:olive; color:white; font-size:15px; font-family:Verdana; padding:10px;font-weight:bold;border: 5px solid black;text-align:center\">\n",
    "Séparer les données d'entraînement et de test\n",
    "</div>"
   ]
  },
  {
   "cell_type": "code",
   "execution_count": 22,
   "id": "144a23e2",
   "metadata": {
    "execution": {
     "iopub.execute_input": "2023-12-19T00:52:49.072914Z",
     "iopub.status.busy": "2023-12-19T00:52:49.072337Z",
     "iopub.status.idle": "2023-12-19T00:52:49.085370Z",
     "shell.execute_reply": "2023-12-19T00:52:49.084455Z",
     "shell.execute_reply.started": "2023-12-19T00:52:49.072880Z"
    }
   },
   "outputs": [],
   "source": [
    "x_tr,x_val,y_tr,y_val=train_test_split(np.array(df['text']),np.array(df['summary']),test_size=0.1,random_state=0,shuffle=True) "
   ]
  },
  {
   "cell_type": "markdown",
   "id": "6f4d182f",
   "metadata": {},
   "source": [
    "<div style=\"background-color:olive; color:white; font-size:15px; font-family:Verdana; padding:10px;font-weight:bold;border: 5px solid black;text-align:center\">\n",
    "Tokenizer le text afin d'avoir le count de vocab  \n",
    "\n",
    "</div>"
   ]
  },
  {
   "cell_type": "code",
   "execution_count": 23,
   "id": "a557d4df",
   "metadata": {
    "execution": {
     "iopub.execute_input": "2023-12-19T00:52:49.086967Z",
     "iopub.status.busy": "2023-12-19T00:52:49.086571Z",
     "iopub.status.idle": "2023-12-19T00:52:49.218605Z",
     "shell.execute_reply": "2023-12-19T00:52:49.217702Z",
     "shell.execute_reply.started": "2023-12-19T00:52:49.086934Z"
    }
   },
   "outputs": [],
   "source": [
    "x_tokenizer = Tokenizer() \n",
    "x_tokenizer.fit_on_texts(list(x_tr))"
   ]
  },
  {
   "cell_type": "markdown",
   "id": "df497d7a",
   "metadata": {},
   "source": [
    "<div style=\"background-color:olive; color:white; font-size:15px; font-family:Verdana; padding:10px;font-weight:bold;border: 5px solid black;text-align:center\">\n",
    "Calculer le nombre de de mots rares et communes dans le texte . \n",
    "\n",
    "</div>"
   ]
  },
  {
   "cell_type": "code",
   "execution_count": 24,
   "id": "0b9daeaa",
   "metadata": {
    "execution": {
     "iopub.execute_input": "2023-12-19T00:52:49.220414Z",
     "iopub.status.busy": "2023-12-19T00:52:49.220001Z",
     "iopub.status.idle": "2023-12-19T00:52:49.236605Z",
     "shell.execute_reply": "2023-12-19T00:52:49.235547Z",
     "shell.execute_reply.started": "2023-12-19T00:52:49.220379Z"
    }
   },
   "outputs": [
    {
     "name": "stdout",
     "output_type": "stream",
     "text": [
      "Le pourcentage des mots rares dans le vocabulaire est :  70.3549957056971  %\n",
      "Couverture totale des mots rares : 12.440691801438703\n"
     ]
    }
   ],
   "source": [
    "thresh=4\n",
    "cnt=0\n",
    "tot_cnt=0\n",
    "freq=0\n",
    "tot_freq=0\n",
    "for key,value in x_tokenizer.word_counts.items():\n",
    "    tot_cnt=tot_cnt+1\n",
    "    tot_freq=tot_freq+value\n",
    "    if(value<thresh):\n",
    "        cnt=cnt+1\n",
    "        freq=freq+value\n",
    "print(\"Le pourcentage des mots rares dans le vocabulaire est : \",(cnt/tot_cnt)*100 ,\" %\")\n",
    "print(\"Couverture totale des mots rares :\",(freq/tot_freq)*100)"
   ]
  },
  {
   "cell_type": "markdown",
   "id": "2517626d",
   "metadata": {},
   "source": [
    "<div style=\"background-color:olive; color:white; font-size:15px; font-family:Verdana; padding:10px;font-weight:bold;border: 5px solid black;text-align:center\">\n",
    "Définir le tokenizer avec la plupart des mots communes pour le Texte\n",
    "\n",
    "</div>"
   ]
  },
  {
   "cell_type": "code",
   "execution_count": 25,
   "id": "7f21ecf8",
   "metadata": {
    "execution": {
     "iopub.execute_input": "2023-12-19T00:52:49.237967Z",
     "iopub.status.busy": "2023-12-19T00:52:49.237639Z",
     "iopub.status.idle": "2023-12-19T00:52:49.370682Z",
     "shell.execute_reply": "2023-12-19T00:52:49.369724Z",
     "shell.execute_reply.started": "2023-12-19T00:52:49.237941Z"
    }
   },
   "outputs": [],
   "source": [
    "x_tokenizer = Tokenizer(num_words=tot_cnt-cnt) \n",
    "x_tokenizer.fit_on_texts(list(x_tr))"
   ]
  },
  {
   "cell_type": "markdown",
   "id": "6b3647f1",
   "metadata": {},
   "source": [
    "<div style=\"background-color:olive; color:white; font-size:15px; font-family:Verdana; padding:10px;font-weight:bold;border: 5px solid black;text-align:center\">\n",
    "convertir les séquences de texte en séquences numériques (integer)\n",
    "</div>"
   ]
  },
  {
   "cell_type": "code",
   "execution_count": 26,
   "id": "43afcf0e",
   "metadata": {
    "execution": {
     "iopub.execute_input": "2023-12-19T00:52:49.372345Z",
     "iopub.status.busy": "2023-12-19T00:52:49.371983Z",
     "iopub.status.idle": "2023-12-19T00:52:49.480593Z",
     "shell.execute_reply": "2023-12-19T00:52:49.479750Z",
     "shell.execute_reply.started": "2023-12-19T00:52:49.372313Z"
    }
   },
   "outputs": [],
   "source": [
    "x_tr_seq    =   x_tokenizer.texts_to_sequences(x_tr) \n",
    "x_val_seq   =   x_tokenizer.texts_to_sequences(x_val)"
   ]
  },
  {
   "cell_type": "markdown",
   "id": "768fc322",
   "metadata": {},
   "source": [
    "<div style=\"background-color:olive; color:white; font-size:15px; font-family:Verdana; padding:10px;font-weight:bold;border: 5px solid black;text-align:center\">\n",
    "Remplissage zéro jusqu'à la longueur maximale\n",
    "</div>"
   ]
  },
  {
   "cell_type": "code",
   "execution_count": 27,
   "id": "c7d73f2f",
   "metadata": {
    "execution": {
     "iopub.execute_input": "2023-12-19T00:52:49.482312Z",
     "iopub.status.busy": "2023-12-19T00:52:49.481944Z",
     "iopub.status.idle": "2023-12-19T00:52:49.501386Z",
     "shell.execute_reply": "2023-12-19T00:52:49.500509Z",
     "shell.execute_reply.started": "2023-12-19T00:52:49.482277Z"
    }
   },
   "outputs": [],
   "source": [
    "x_tr    =   pad_sequences(x_tr_seq,  maxlen=max_text_len, padding='post')\n",
    "x_val   =   pad_sequences(x_val_seq, maxlen=max_text_len, padding='post')"
   ]
  },
  {
   "cell_type": "code",
   "execution_count": 28,
   "id": "c2b3caa2",
   "metadata": {
    "execution": {
     "iopub.execute_input": "2023-12-19T00:52:49.507847Z",
     "iopub.status.busy": "2023-12-19T00:52:49.507509Z",
     "iopub.status.idle": "2023-12-19T00:52:49.514465Z",
     "shell.execute_reply": "2023-12-19T00:52:49.513458Z",
     "shell.execute_reply.started": "2023-12-19T00:52:49.507820Z"
    }
   },
   "outputs": [
    {
     "data": {
      "text/plain": [
       "4143"
      ]
     },
     "execution_count": 28,
     "metadata": {},
     "output_type": "execute_result"
    }
   ],
   "source": [
    "#Longeur de vocabulaire ( +1 pour padding token)\n",
    "x_voc   =  x_tokenizer.num_words + 1\n",
    "x_voc"
   ]
  },
  {
   "cell_type": "markdown",
   "id": "fc5349bb",
   "metadata": {},
   "source": [
    "<div style=\"background-color:olive; color:white; font-size:15px; font-family:Verdana; padding:10px;font-weight:bold;border: 5px solid black;text-align:center\">\n",
    "preparer le tokenizer pour les résumées sur l'ensemble d'entrainement\n",
    "</div>"
   ]
  },
  {
   "cell_type": "code",
   "execution_count": 29,
   "id": "a8b9c57e",
   "metadata": {
    "execution": {
     "iopub.execute_input": "2023-12-19T00:52:49.515945Z",
     "iopub.status.busy": "2023-12-19T00:52:49.515625Z",
     "iopub.status.idle": "2023-12-19T00:52:49.544395Z",
     "shell.execute_reply": "2023-12-19T00:52:49.543407Z",
     "shell.execute_reply.started": "2023-12-19T00:52:49.515921Z"
    }
   },
   "outputs": [],
   "source": [
    "y_tokenizer = Tokenizer()\n",
    "y_tokenizer.fit_on_texts(list(y_tr))"
   ]
  },
  {
   "cell_type": "markdown",
   "id": "f4563b09",
   "metadata": {},
   "source": [
    "<div style=\"background-color:olive; color:white; font-size:15px; font-family:Verdana; padding:10px;font-weight:bold;border: 5px solid black;text-align:center\">\n",
    "Calculer le nombre de de mots rares et communes dans les résumés . \n",
    "\n",
    "</div>"
   ]
  },
  {
   "cell_type": "code",
   "execution_count": 30,
   "id": "a4791f70",
   "metadata": {
    "execution": {
     "iopub.execute_input": "2023-12-19T00:52:49.546439Z",
     "iopub.status.busy": "2023-12-19T00:52:49.545796Z",
     "iopub.status.idle": "2023-12-19T00:52:49.557302Z",
     "shell.execute_reply": "2023-12-19T00:52:49.556397Z",
     "shell.execute_reply.started": "2023-12-19T00:52:49.546402Z"
    }
   },
   "outputs": [
    {
     "name": "stdout",
     "output_type": "stream",
     "text": [
      "Le pourcentage des mots rares dans le vocabulaire est :  93.0271299381247  %\n",
      "Couverture totale des mots rares : 45.992924165513\n"
     ]
    }
   ],
   "source": [
    "thresh=2\n",
    "cnt=0\n",
    "tot_cnt=0\n",
    "freq=0\n",
    "tot_freq=0\n",
    "for key,value in y_tokenizer.word_counts.items():\n",
    "    tot_cnt=tot_cnt+1\n",
    "    tot_freq=tot_freq+value\n",
    "    if(value<thresh):\n",
    "        cnt=cnt+1\n",
    "        freq=freq+value\n",
    "print(\"Le pourcentage des mots rares dans le vocabulaire est : \",(cnt/tot_cnt)*100 ,\" %\")\n",
    "print(\"Couverture totale des mots rares :\",(freq/tot_freq)*100)"
   ]
  },
  {
   "cell_type": "markdown",
   "id": "64cbd716",
   "metadata": {},
   "source": [
    "<div style=\"background-color:olive; color:white; font-size:15px; font-family:Verdana; padding:10px;font-weight:bold;border: 5px solid black;text-align:center\">\n",
    "Définir le tokenizer avec la plupart des mots communes pour le résumées\n",
    "\n",
    "</div>"
   ]
  },
  {
   "cell_type": "code",
   "execution_count": 31,
   "id": "6314e0eb",
   "metadata": {
    "execution": {
     "iopub.execute_input": "2023-12-19T00:52:49.559137Z",
     "iopub.status.busy": "2023-12-19T00:52:49.558803Z",
     "iopub.status.idle": "2023-12-19T00:52:49.585930Z",
     "shell.execute_reply": "2023-12-19T00:52:49.585053Z",
     "shell.execute_reply.started": "2023-12-19T00:52:49.559105Z"
    }
   },
   "outputs": [],
   "source": [
    "y_tokenizer = Tokenizer(num_words=tot_cnt-cnt) \n",
    "y_tokenizer.fit_on_texts(list(y_tr))"
   ]
  },
  {
   "cell_type": "markdown",
   "id": "31fa8f46",
   "metadata": {},
   "source": [
    "<div style=\"background-color:olive; color:white; font-size:15px; font-family:Verdana; padding:10px;font-weight:bold;border: 5px solid black;text-align:center\">\n",
    "convertir les séquences de texte en séquences numériques (integer)\n",
    "</div>"
   ]
  },
  {
   "cell_type": "code",
   "execution_count": 32,
   "id": "8ceaae49",
   "metadata": {
    "execution": {
     "iopub.execute_input": "2023-12-19T00:52:49.587573Z",
     "iopub.status.busy": "2023-12-19T00:52:49.587253Z",
     "iopub.status.idle": "2023-12-19T00:52:49.606097Z",
     "shell.execute_reply": "2023-12-19T00:52:49.605140Z",
     "shell.execute_reply.started": "2023-12-19T00:52:49.587545Z"
    }
   },
   "outputs": [],
   "source": [
    "y_tr_seq    =   y_tokenizer.texts_to_sequences(y_tr) \n",
    "y_val_seq   =   y_tokenizer.texts_to_sequences(y_val) "
   ]
  },
  {
   "cell_type": "markdown",
   "id": "d39e4c0d",
   "metadata": {},
   "source": [
    "<div style=\"background-color:olive; color:white; font-size:15px; font-family:Verdana; padding:10px;font-weight:bold;border: 5px solid black;text-align:center\">\n",
    "Remplissage zéro jusqu'à la longueur maximale\n",
    "</div>"
   ]
  },
  {
   "cell_type": "code",
   "execution_count": 33,
   "id": "cd3f1cc1",
   "metadata": {
    "execution": {
     "iopub.execute_input": "2023-12-19T00:52:49.607506Z",
     "iopub.status.busy": "2023-12-19T00:52:49.607223Z",
     "iopub.status.idle": "2023-12-19T00:52:49.621545Z",
     "shell.execute_reply": "2023-12-19T00:52:49.620630Z",
     "shell.execute_reply.started": "2023-12-19T00:52:49.607482Z"
    }
   },
   "outputs": [],
   "source": [
    "y_tr    =   pad_sequences(y_tr_seq, maxlen=max_summary_len, padding='post')\n",
    "y_val   =   pad_sequences(y_val_seq, maxlen=max_summary_len, padding='post')"
   ]
  },
  {
   "cell_type": "code",
   "execution_count": 34,
   "id": "b616031d",
   "metadata": {
    "execution": {
     "iopub.execute_input": "2023-12-19T00:52:49.623419Z",
     "iopub.status.busy": "2023-12-19T00:52:49.622820Z",
     "iopub.status.idle": "2023-12-19T00:52:49.632181Z",
     "shell.execute_reply": "2023-12-19T00:52:49.631351Z",
     "shell.execute_reply.started": "2023-12-19T00:52:49.623384Z"
    }
   },
   "outputs": [
    {
     "data": {
      "text/plain": [
       "294"
      ]
     },
     "execution_count": 34,
     "metadata": {},
     "output_type": "execute_result"
    }
   ],
   "source": [
    "#size de vocabulaire\n",
    "y_voc  =   y_tokenizer.num_words +1\n",
    "y_voc"
   ]
  },
  {
   "cell_type": "markdown",
   "id": "c8dfeff3",
   "metadata": {},
   "source": [
    "<div style=\"background-color:olive; color:white; font-size:15px; font-family:Verdana; padding:10px;font-weight:bold;border: 5px solid black;text-align:center\">\n",
    "la vérification du nombre de mots du jeton de début est égal à la longueur des données d'entrainement\n",
    "</div>"
   ]
  },
  {
   "cell_type": "code",
   "execution_count": 35,
   "id": "6656876a",
   "metadata": {
    "execution": {
     "iopub.execute_input": "2023-12-19T00:52:49.633608Z",
     "iopub.status.busy": "2023-12-19T00:52:49.633299Z",
     "iopub.status.idle": "2023-12-19T00:52:49.644081Z",
     "shell.execute_reply": "2023-12-19T00:52:49.643102Z",
     "shell.execute_reply.started": "2023-12-19T00:52:49.633577Z"
    }
   },
   "outputs": [
    {
     "data": {
      "text/plain": [
       "(382, 382)"
      ]
     },
     "execution_count": 35,
     "metadata": {},
     "output_type": "execute_result"
    }
   ],
   "source": [
    "y_tokenizer.word_counts['sostok'],len(y_tr)"
   ]
  },
  {
   "cell_type": "markdown",
   "id": "bd314460",
   "metadata": {},
   "source": [
    "<div style=\"background-color:cyan; color:black; font-size:14px; font-family:Verdana; padding:10px;border: 4px solid black;text-align:center\">\n",
    "1- Création de modèle\n",
    "</div>"
   ]
  },
  {
   "cell_type": "markdown",
   "id": "8de92326",
   "metadata": {},
   "source": [
    "<div style=\"background-color:olive; color:white; font-size:15px; font-family:Verdana; padding:10px;font-weight:bold;border: 5px solid black;text-align:center\">\n",
    "Définir l'architecture de Modèle , encoder et decoder\n",
    "</div>"
   ]
  },
  {
   "cell_type": "code",
   "execution_count": 36,
   "id": "90a2dd15",
   "metadata": {
    "execution": {
     "iopub.execute_input": "2023-12-19T00:52:49.645987Z",
     "iopub.status.busy": "2023-12-19T00:52:49.645202Z",
     "iopub.status.idle": "2023-12-19T00:52:52.951730Z",
     "shell.execute_reply": "2023-12-19T00:52:52.950481Z",
     "shell.execute_reply.started": "2023-12-19T00:52:49.645953Z"
    }
   },
   "outputs": [
    {
     "name": "stdout",
     "output_type": "stream",
     "text": [
      "Model: \"model\"\n",
      "__________________________________________________________________________________________________\n",
      " Layer (type)                Output Shape                 Param #   Connected to                  \n",
      "==================================================================================================\n",
      " input_1 (InputLayer)        [(None, 500)]                0         []                            \n",
      "                                                                                                  \n",
      " embedding (Embedding)       (None, 500, 100)             414300    ['input_1[0][0]']             \n",
      "                                                                                                  \n",
      " lstm (LSTM)                 [(None, 500, 300),           481200    ['embedding[0][0]']           \n",
      "                              (None, 300),                                                        \n",
      "                              (None, 300)]                                                        \n",
      "                                                                                                  \n",
      " input_2 (InputLayer)        [(None, None)]               0         []                            \n",
      "                                                                                                  \n",
      " lstm_1 (LSTM)               [(None, 500, 300),           721200    ['lstm[0][0]']                \n",
      "                              (None, 300),                                                        \n",
      "                              (None, 300)]                                                        \n",
      "                                                                                                  \n",
      " embedding_1 (Embedding)     (None, None, 100)            29400     ['input_2[0][0]']             \n",
      "                                                                                                  \n",
      " lstm_2 (LSTM)               [(None, 500, 300),           721200    ['lstm_1[0][0]']              \n",
      "                              (None, 300),                                                        \n",
      "                              (None, 300)]                                                        \n",
      "                                                                                                  \n",
      " lstm_3 (LSTM)               [(None, None, 300),          481200    ['embedding_1[0][0]',         \n",
      "                              (None, 300),                           'lstm_2[0][1]',              \n",
      "                              (None, 300)]                           'lstm_2[0][2]']              \n",
      "                                                                                                  \n",
      " time_distributed (TimeDist  (None, None, 294)            88494     ['lstm_3[0][0]']              \n",
      " ributed)                                                                                         \n",
      "                                                                                                  \n",
      "==================================================================================================\n",
      "Total params: 2936994 (11.20 MB)\n",
      "Trainable params: 2936994 (11.20 MB)\n",
      "Non-trainable params: 0 (0.00 Byte)\n",
      "__________________________________________________________________________________________________\n"
     ]
    }
   ],
   "source": [
    "from keras import backend as K \n",
    "K.clear_session()\n",
    "\n",
    "latent_dim = 100\n",
    "embedding_dim=50\n",
    "\n",
    "# Encoder\n",
    "encoder_inputs = Input(shape=(max_text_len,))\n",
    "\n",
    "#embedding layer\n",
    "enc_emb =  Embedding(x_voc, embedding_dim,trainable=True)(encoder_inputs)\n",
    "\n",
    "#encoder lstm 1\n",
    "encoder_lstm1 = LSTM(latent_dim,return_sequences=True,return_state=True,dropout=0.4,recurrent_dropout=0.4)\n",
    "encoder_output1, state_h1, state_c1 = encoder_lstm1(enc_emb)\n",
    "\n",
    "#encoder lstm 2\n",
    "encoder_lstm2 = LSTM(latent_dim,return_sequences=True,return_state=True,dropout=0.4,recurrent_dropout=0.4)\n",
    "encoder_output2, state_h2, state_c2 = encoder_lstm2(encoder_output1)\n",
    "\n",
    "#encoder lstm 3\n",
    "encoder_lstm3=LSTM(latent_dim, return_state=True, return_sequences=True,dropout=0.4,recurrent_dropout=0.4)\n",
    "encoder_outputs, state_h, state_c= encoder_lstm3(encoder_output2)\n",
    "\n",
    "# Set up the decoder, using `encoder_states` as initial state.\n",
    "decoder_inputs = Input(shape=(None,))\n",
    "\n",
    "#embedding layer\n",
    "dec_emb_layer = Embedding(y_voc, embedding_dim,trainable=True)\n",
    "dec_emb = dec_emb_layer(decoder_inputs)\n",
    "\n",
    "# Decoder LSTM\n",
    "decoder_lstm = LSTM(latent_dim, return_sequences=True, return_state=True,dropout=0.4,recurrent_dropout=0.2)\n",
    "decoder_outputs,decoder_fwd_state, decoder_back_state = decoder_lstm(dec_emb,initial_state=[state_h, state_c])\n",
    "\n",
    "#dense layer\n",
    "decoder_dense =  TimeDistributed(Dense(y_voc, activation='softmax'))\n",
    "decoder_outputs = decoder_dense(decoder_outputs)\n",
    "\n",
    "# Define the model \n",
    "model_lstm = Model([encoder_inputs, decoder_inputs], decoder_outputs)\n",
    "\n",
    "model_lstm.summary() "
   ]
  },
  {
   "cell_type": "markdown",
   "id": "4db17927",
   "metadata": {},
   "source": [
    "<div style=\"background-color:olive; color:white; font-size:15px; font-family:Verdana; padding:10px;font-weight:bold;border: 5px solid black;text-align:center\">\n",
    "Ploter l'architecture de modèle\n",
    "</div>"
   ]
  },
  {
   "cell_type": "code",
   "execution_count": 37,
   "id": "0d3d58eb",
   "metadata": {
    "execution": {
     "iopub.execute_input": "2023-12-19T00:52:52.953768Z",
     "iopub.status.busy": "2023-12-19T00:52:52.953313Z",
     "iopub.status.idle": "2023-12-19T00:52:53.191513Z",
     "shell.execute_reply": "2023-12-19T00:52:53.190322Z",
     "shell.execute_reply.started": "2023-12-19T00:52:52.953728Z"
    }
   },
   "outputs": [
    {
     "data": {
      "image/png": "[encoded data removed]",
      "text/plain": [
       "<IPython.core.display.Image object>"
      ]
     },
     "execution_count": 37,
     "metadata": {},
     "output_type": "execute_result"
    }
   ],
   "source": [
    "plot_model(model_lstm, show_shapes=True)"
   ]
  },
  {
   "cell_type": "markdown",
   "id": "deeb9f98",
   "metadata": {},
   "source": [
    "<div style=\"background-color:olive; color:white; font-size:15px; font-family:Verdana; padding:10px;font-weight:bold;border: 5px solid black;text-align:center\">\n",
    "Compiler le modèle\n",
    "</div>"
   ]
  },
  {
   "cell_type": "code",
   "execution_count": 38,
   "id": "d84d0557",
   "metadata": {
    "execution": {
     "iopub.execute_input": "2023-12-19T00:52:53.194231Z",
     "iopub.status.busy": "2023-12-19T00:52:53.193357Z",
     "iopub.status.idle": "2023-12-19T00:52:53.219906Z",
     "shell.execute_reply": "2023-12-19T00:52:53.218939Z",
     "shell.execute_reply.started": "2023-12-19T00:52:53.194193Z"
    }
   },
   "outputs": [],
   "source": [
    "model_lstm.compile(optimizer='rmsprop', loss='sparse_categorical_crossentropy')"
   ]
  },
  {
   "cell_type": "markdown",
   "id": "47ac6794",
   "metadata": {},
   "source": [
    "<div style=\"background-color:cyan; color:black; font-size:14px; font-family:Verdana; padding:10px;border: 4px solid black;text-align:center\">\n",
    "2-Entrainement de modèle\n",
    "</div>"
   ]
  },
  {
   "cell_type": "code",
   "execution_count": 39,
   "id": "18f5cdc9",
   "metadata": {
    "execution": {
     "iopub.execute_input": "2023-12-19T00:52:53.221746Z",
     "iopub.status.busy": "2023-12-19T00:52:53.221367Z",
     "iopub.status.idle": "2023-12-19T00:52:53.227045Z",
     "shell.execute_reply": "2023-12-19T00:52:53.225972Z",
     "shell.execute_reply.started": "2023-12-19T00:52:53.221712Z"
    }
   },
   "outputs": [],
   "source": [
    "es = EarlyStopping(monitor='val_loss', mode='min', verbose=1, patience=2)"
   ]
  },
  {
   "cell_type": "code",
   "execution_count": null,
   "id": "3914b919",
   "metadata": {
    "execution": {
     "iopub.execute_input": "2023-12-19T00:52:53.228647Z",
     "iopub.status.busy": "2023-12-19T00:52:53.228308Z",
     "iopub.status.idle": "2023-12-19T00:56:07.081137Z",
     "shell.execute_reply": "2023-12-19T00:56:07.080127Z",
     "shell.execute_reply.started": "2023-12-19T00:52:53.228606Z"
    }
   },
   "outputs": [],
   "source": [
    "history = model_lstm.fit([x_tr,y_tr[:,:-1]], y_tr.reshape(y_tr.shape[0],y_tr.shape[1], 1)[:,1:] ,epochs=20,callbacks=[es],batch_size=128, validation_data=([x_val,y_val[:,:-1]], y_val.reshape(y_val.shape[0],y_val.shape[1], 1)[:,1:]))"
   ]
  },
  {
   "cell_type": "markdown",
   "id": "41e13789",
   "metadata": {},
   "source": [
    "<div style=\"background-color:olive; color:white; font-size:15px; font-family:Verdana; padding:10px;font-weight:bold;border: 5px solid black;text-align:center\">\n",
    "Enregistrer le modèle\n",
    "</div>"
   ]
  },
  {
   "cell_type": "code",
   "execution_count": 41,
   "id": "cad3c15a",
   "metadata": {
    "execution": {
     "iopub.execute_input": "2023-12-19T00:56:07.083664Z",
     "iopub.status.busy": "2023-12-19T00:56:07.082985Z",
     "iopub.status.idle": "2023-12-19T00:56:07.143801Z",
     "shell.execute_reply": "2023-12-19T00:56:07.142874Z",
     "shell.execute_reply.started": "2023-12-19T00:56:07.083621Z"
    }
   },
   "outputs": [
    {
     "name": "stdout",
     "output_type": "stream",
     "text": [
      "Saved model to disk\n"
     ]
    }
   ],
   "source": [
    "# serialiser le model en JSON\n",
    "model_json = model_lstm.to_json()\n",
    "with open(\"Models/LSTM.json\", \"w\") as json_file:\n",
    "    json_file.write(model_json)\n",
    "# serializer les poids en HDF5\n",
    "model_lstm.save_weights(\"Models/LSTM.h5\")\n",
    "print(\"Saved model to disk\")"
   ]
  },
  {
   "cell_type": "markdown",
   "id": "7f28643d",
   "metadata": {},
   "source": [
    "<div style=\"background-color:cyan; color:black; font-size:14px; font-family:Verdana; padding:10px;border: 4px solid black;text-align:center\">\n",
    "3-Evaluation de modèle\n",
    "</div>"
   ]
  },
  {
   "cell_type": "markdown",
   "id": "c5b60df0",
   "metadata": {},
   "source": [
    "<div style=\"background-color:olive; color:white; font-size:15px; font-family:Verdana; padding:10px;font-weight:bold;border: 5px solid black;text-align:center\">\n",
    "Afficher Loss dans le test et train\n",
    "</div>"
   ]
  },
  {
   "cell_type": "code",
   "execution_count": 43,
   "id": "daf709be",
   "metadata": {
    "execution": {
     "iopub.execute_input": "2023-12-19T00:57:50.780082Z",
     "iopub.status.busy": "2023-12-19T00:57:50.779164Z",
     "iopub.status.idle": "2023-12-19T00:57:51.035231Z",
     "shell.execute_reply": "2023-12-19T00:57:51.034255Z",
     "shell.execute_reply.started": "2023-12-19T00:57:50.780045Z"
    }
   },
   "outputs": [
    {
     "data": {
      "image/png": "[encoded data removed]",
      "text/plain": [
       "<Figure size 640x480 with 1 Axes>"
      ]
     },
     "metadata": {},
     "output_type": "display_data"
    }
   ],
   "source": [
    "plt.plot(history.history['loss'], label='train')\n",
    "plt.plot(history.history['val_loss'], label='test')\n",
    "plt.legend()\n",
    "plt.show()"
   ]
  },
  {
   "cell_type": "markdown",
   "id": "67205589",
   "metadata": {},
   "source": [
    "<div style=\"background-color:olive; color:white; font-size:15px; font-family:Verdana; padding:10px;font-weight:bold;border: 5px solid black;text-align:center\">\n",
    "convertir l'index en mot pour le vocabulaire des résumés et des textes \n",
    "</div>"
   ]
  },
  {
   "cell_type": "code",
   "execution_count": 60,
   "id": "008933bb",
   "metadata": {
    "execution": {
     "iopub.execute_input": "2023-12-19T01:11:33.664058Z",
     "iopub.status.busy": "2023-12-19T01:11:33.663343Z",
     "iopub.status.idle": "2023-12-19T01:11:33.668862Z",
     "shell.execute_reply": "2023-12-19T01:11:33.667913Z",
     "shell.execute_reply.started": "2023-12-19T01:11:33.664021Z"
    }
   },
   "outputs": [],
   "source": [
    "reverse_target_word_index=y_tokenizer.index_word\n",
    "reverse_source_word_index=x_tokenizer.index_word\n",
    "target_word_index=y_tokenizer.word_index"
   ]
  },
  {
   "cell_type": "code",
   "execution_count": 65,
   "id": "a2f1f3e2",
   "metadata": {
    "execution": {
     "iopub.execute_input": "2023-12-19T01:13:39.705360Z",
     "iopub.status.busy": "2023-12-19T01:13:39.704418Z",
     "iopub.status.idle": "2023-12-19T01:13:39.711434Z",
     "shell.execute_reply": "2023-12-19T01:13:39.710478Z",
     "shell.execute_reply.started": "2023-12-19T01:13:39.705321Z"
    }
   },
   "outputs": [
    {
     "data": {
      "text/plain": [
       "4202"
      ]
     },
     "execution_count": 65,
     "metadata": {},
     "output_type": "execute_result"
    }
   ],
   "source": [
    "len(reverse_target_word_index)"
   ]
  },
  {
   "cell_type": "code",
   "execution_count": 64,
   "id": "3c6fcca6",
   "metadata": {
    "execution": {
     "iopub.execute_input": "2023-12-19T01:13:20.502708Z",
     "iopub.status.busy": "2023-12-19T01:13:20.502288Z",
     "iopub.status.idle": "2023-12-19T01:13:20.509322Z",
     "shell.execute_reply": "2023-12-19T01:13:20.508269Z",
     "shell.execute_reply.started": "2023-12-19T01:13:20.502651Z"
    }
   },
   "outputs": [
    {
     "data": {
      "text/plain": [
       "4202"
      ]
     },
     "execution_count": 64,
     "metadata": {},
     "output_type": "execute_result"
    }
   ],
   "source": [
    "len(target_word_index)"
   ]
  },
  {
   "cell_type": "markdown",
   "id": "e1e731fa",
   "metadata": {},
   "source": [
    "<div style=\"background-color:olive; color:white; font-size:15px; font-family:Verdana; padding:10px;font-weight:bold;border: 5px solid black;text-align:center\">\n",
    "Configuration de l'inférence pour l'encodeur et le décodeur\n",
    "</div>"
   ]
  },
  {
   "cell_type": "code",
   "execution_count": 66,
   "id": "437045e9",
   "metadata": {
    "execution": {
     "iopub.execute_input": "2023-12-19T01:14:06.165419Z",
     "iopub.status.busy": "2023-12-19T01:14:06.165016Z",
     "iopub.status.idle": "2023-12-19T01:14:06.327060Z",
     "shell.execute_reply": "2023-12-19T01:14:06.326161Z",
     "shell.execute_reply.started": "2023-12-19T01:14:06.165388Z"
    }
   },
   "outputs": [],
   "source": [
    "# Encoder : Encode la séquence d'entrée pour obtenir le vecteur de caractéristiques\n",
    "encoder_model = Model(inputs=encoder_inputs, outputs=[encoder_outputs, state_h, state_c])\n",
    "\n",
    "# Configuration du décodeur\n",
    "# Les tenseurs ci-dessous contiendront les états du pas de temps précédent\n",
    "decoder_state_input_h = Input(shape=(latent_dim,))\n",
    "decoder_state_input_c = Input(shape=(latent_dim,))\n",
    "decoder_hidden_state_input = Input(shape=(max_text_len, latent_dim))\n",
    "\n",
    "# Obtenir les embeddings de la séquence du décodeur\n",
    "dec_emb2 = dec_emb_layer(decoder_inputs)\n",
    "# Pour prédire le mot suivant dans la séquence, initialiser les états aux états du pas de temps précédent\n",
    "decoder_outputs2, state_h2, state_c2 = decoder_lstm(dec_emb2, initial_state=[decoder_state_input_h, decoder_state_input_c])\n",
    "\n",
    "# Une couche softmax dense pour générer une distribution de probabilité sur le vocabulaire cible\n",
    "decoder_outputs2 = decoder_dense(decoder_outputs2)\n",
    "\n",
    "# Modèle final du décodeur\n",
    "decoder_model = Model(\n",
    "    [decoder_inputs] + [decoder_hidden_state_input, decoder_state_input_h, decoder_state_input_c],\n",
    "    [decoder_outputs2] + [state_h2, state_c2])"
   ]
  },
  {
   "cell_type": "markdown",
   "id": "e3ea174f",
   "metadata": {},
   "source": [
    "<div style=\"background-color:olive; color:white; font-size:15px; font-family:Verdana; padding:10px;font-weight:bold;border: 5px solid black;text-align:center\">\n",
    "Définir une fonction pour l'implémenation de process d'inférence \n",
    "</div>"
   ]
  },
  {
   "cell_type": "code",
   "execution_count": null,
   "id": "c7813944",
   "metadata": {
    "execution": {
     "iopub.execute_input": "2023-12-19T01:14:18.680805Z",
     "iopub.status.busy": "2023-12-19T01:14:18.680372Z",
     "iopub.status.idle": "2023-12-19T01:14:18.689992Z",
     "shell.execute_reply": "2023-12-19T01:14:18.688762Z",
     "shell.execute_reply.started": "2023-12-19T01:14:18.680770Z"
    }
   },
   "outputs": [],
   "source": [
    "def decode_sequence(input_seq):\n",
    "    # Encoder l'entrée pour obtenir les vecteurs d'état.\n",
    "    (e_out, e_h, e_c) = encoder_model.predict(input_seq)   \n",
    "    # Générer une séquence cible vide de longueur 1.\n",
    "    target_seq = np.zeros((1, 1))  \n",
    "    # Remplir le premier mot de la séquence cible avec le mot de début.\n",
    "    target_seq[0, 0] = target_word_index['sostok']\n",
    "    stop_condition = False\n",
    "    decoded_sentence = ''\n",
    "    while not stop_condition:      \n",
    "        output_tokens, h, c = decoder_model.predict([target_seq] + [e_out, e_h, e_c])\n",
    "        # Échantillonner un jeton\n",
    "        sampled_token_index = np.argmax(output_tokens[0, -1, :])\n",
    "        sampled_token = reverse_target_word_index[sampled_token_index]        \n",
    "        if(sampled_token!='eostok'):\n",
    "            decoded_sentence += ' '+sampled_token\n",
    "        # Condition de sortie : atteindre la longueur maximale ou trouver le mot d'arrêt.\n",
    "        if (sampled_token == 'eostok' or len(decoded_sentence.split()) >= (max_summary_len-1)):\n",
    "            stop_condition = True\n",
    "        # Mettre à jour la séquence cible (de longueur 1).\n",
    "        target_seq = np.zeros((1, 1))\n",
    "        target_seq[0, 0] = sampled_token_index\n",
    "        # Mettre à jour les états internes\n",
    "        e_h, e_c = h, c\n",
    "    return decoded_sentence"
   ]
  },
  {
   "cell_type": "markdown",
   "id": "22cc8f2d",
   "metadata": {},
   "source": [
    "<div style=\"background-color:olive; color:white; font-size:15px; font-family:Verdana; padding:10px;font-weight:bold;border: 5px solid black;text-align:center\">\n",
    "conversion d'une séquence entière en séquence de mots pour les résumés et les textes\n",
    "</div>"
   ]
  },
  {
   "cell_type": "code",
   "execution_count": 68,
   "id": "e0a1e670",
   "metadata": {
    "execution": {
     "iopub.execute_input": "2023-12-19T01:14:24.041754Z",
     "iopub.status.busy": "2023-12-19T01:14:24.041316Z",
     "iopub.status.idle": "2023-12-19T01:14:24.049260Z",
     "shell.execute_reply": "2023-12-19T01:14:24.048075Z",
     "shell.execute_reply.started": "2023-12-19T01:14:24.041718Z"
    }
   },
   "outputs": [],
   "source": [
    "def seq2summary(input_seq):\n",
    "    newString=''\n",
    "    for i in input_seq:\n",
    "        if((i!=0 and i!=target_word_index['sostok']) and i!=target_word_index['eostok']):\n",
    "            newString=newString+reverse_target_word_index[i]+' '\n",
    "    return newString\n",
    "\n",
    "def seq2text(input_seq):\n",
    "    newString=''\n",
    "    for i in input_seq:\n",
    "        if(i!=0):\n",
    "            newString=newString+reverse_source_word_index[i]+' '\n",
    "    return newString"
   ]
  },
  {
   "cell_type": "markdown",
   "id": "cfebdc8b",
   "metadata": {},
   "source": [
    "<div style=\"background-color:olive; color:white; font-size:15px; font-family:Verdana; padding:10px;font-weight:bold;border: 5px solid black;text-align:center\">\n",
    "Générer des résumées avec le modèle créer\n",
    "</div>"
   ]
  },
  {
   "cell_type": "code",
   "execution_count": null,
   "id": "4566c499",
   "metadata": {},
   "outputs": [],
   "source": [
    "for i in range(1,3):\n",
    "    print(\"Content:\",seq2text(x_tr[i]))\n",
    "    print(\"\\n\")\n",
    "    print(\"Original summary:\",seq2summary(y_tr[i]))\n",
    "    print(\"\\n\")\n",
    "    print(\"Predicted summary:\",decode_sequence(x_tr[i].reshape(1,max_text_len)))\n",
    "    print(\"\\n\\n\")"
   ]
  },
  {
   "cell_type": "code",
   "execution_count": null,
   "id": "f913b95a",
   "metadata": {},
   "outputs": [],
   "source": [
    "def generate_summary(input_text):\n",
    "    # Prétraitement du texte d'entrée\n",
    "    input_text = preprocess_text(input_text)\n",
    "    input_seq = x_tokenizer.texts_to_sequences([input_text])\n",
    "    input_seq = pad_sequences(input_seq, maxlen=max_text_len, padding='post')\n",
    "    # Génération du résumé\n",
    "    summary = decode_sequence(input_seq)\n",
    "    # Post-traitement du résumé généré\n",
    "    generated_summary = seq2summary([summary])\n",
    "    return generated_summary"
   ]
  },
  {
   "cell_type": "markdown",
   "id": "8a567c07",
   "metadata": {},
   "source": [
    "<div style=\"background-color:olive; color:white; font-size:15px; font-family:Verdana; padding:10px;font-weight:bold;border: 5px solid black;text-align:center\">\n",
    "Afficher les scores ROUGE et score BLEU\n",
    "</div>"
   ]
  },
  {
   "cell_type": "code",
   "execution_count": null,
   "id": "680b481b",
   "metadata": {},
   "outputs": [],
   "source": [
    "predicted_texts = [generate_summary(text) for text in x_tr]\n",
    "original_texts = [seq2summary(seq) for seq in y_tr]\n",
    "\n",
    "# Convertir les textes en listes de tokens\n",
    "predicted_tokens = [predicted_text.split() for predicted_text in predicted_texts]\n",
    "original_tokens = [original_text.split() for original_text in original_texts]\n",
    "\n",
    "# Calculer les scores BLEU\n",
    "individual_bleu_scores = [sentence_bleu([original], predicted, weights=(1, 0, 0, 0)) for original, predicted in zip(original_tokens, predicted_tokens)]\n",
    "average_bleu_score = np.mean(individual_bleu_scores)\n",
    "\n",
    "# Calculer les scores ROUGE\n",
    "rouge = Rouge()\n",
    "rouge_scores = rouge.get_scores(predicted_texts, original_texts, avg=True)\n",
    "\n",
    "# Afficher le score BLEU\n",
    "print(\"BLEU Score:\", average_bleu_score)\n",
    "\n",
    "# Afficher les scores ROUGE\n",
    "print(\"ROUGE Scores:\", rouge_scores)"
   ]
  },
  {
   "cell_type": "code",
   "execution_count": null,
   "id": "8e25fe52",
   "metadata": {
    "execution": {
     "iopub.status.busy": "2023-12-19T00:56:07.956445Z",
     "iopub.status.idle": "2023-12-19T00:56:07.956855Z",
     "shell.execute_reply": "2023-12-19T00:56:07.956659Z",
     "shell.execute_reply.started": "2023-12-19T00:56:07.956642Z"
    }
   },
   "outputs": [],
   "source": [
    "plt.bar(rouge_scores.keys(), rouge_scores.values())\n",
    "plt.title('Scores ROUGE')\n",
    "plt.ylabel('Score')\n",
    "plt.show()"
   ]
  },
  {
   "cell_type": "markdown",
   "id": "cc6eccdc",
   "metadata": {},
   "source": [
    "<div style=\"background-color:olive; color:white; font-size:15px; font-family:Verdana; padding:10px;font-weight:bold;border: 5px solid black;text-align:center\">\n",
    "Exemple d'utilisation\n",
    "</div>"
   ]
  },
  {
   "cell_type": "code",
   "execution_count": null,
   "id": "a696d3e2",
   "metadata": {},
   "outputs": [],
   "source": [
    "input_text = \"by rebecca english published 19 20 est december 2012 updated 19 21 est december 2012 delighted as she and william undoubtedly are the duchess s pregnancy could not have come at more chaotic time for the royal couple the duke is about to make one of the biggest decisions of his life so far whether to extend his time in the raf or quit to become full time working royal and to make matters worse the couple still won t have permanent home by the time the baby is born early next summer home to be an aerial view of kensington palace flat in the main building will be home to the couple but not until october 2013 kate and william s planned move to their new apartment in kensington palace is now unlikely to take place until october 2013 contractors apartment 1a which used to belong to princess margaret have uncovered which has to be cleared before the couple let alone newborn baby can move in sources close to the also say the apartment which has since been used as offices and exhibition space by historic royal was virtually when it was inspected after their wedding last year when the baby is born kate and are likely to still be living at nottingham cottage but hope to move into margaret former apartment as soon as possible contractors apartment 1a which used to belong to princess margaret have uncovered which has to be cleared before the couple let alone newborn baby can move in palace gardens the statue of queen victoria by her daughter princess louise has recently been up at kensington palace and is looking as good as new it has no kitchen or bathroom and needed total and none of which could be started until the apartment was fully vacated by the charity s staff just few weeks ago at the moment there is just no way their new home will be by the time the baby is born said one this means that when they become parents the couple will still be between their relatively modest rented farmhouse on in north wales and the two bedroom nottingham cottage in the grounds of kensington palace future parents having been married for just 20 months kate is to be mother early next summer inside the palace the king grand which has recently been restored as part of 12 million the restored formal gardens the couple currently have two bedroom nottingham cottage in the grounds of kensington palace if the duchess s health continues to suffer the couple are also likely to face another major domestic william is tied to his base in north wales for at least the next nine months but kate is more than likely to be forced to stay nearly 300 miles away in london alone to be closer to her kate s natural desire to be close to her mother middleton may also mean the duchess is more likely to stay in nottingham cottage it is only 50 miles from her parents 4 home in berkshire and if she stayed in london kate would only be short drive away from the hospital where she has been treated since monday \"\n",
    "generated_summary = generate_summary(input_text)\n",
    "\n",
    "# Affichage du résultat\n",
    "print(\"Texte d'entrée :\", input_text)\n",
    "print(\"Résumé généré :\", generated_summary)"
   ]
  },
  {
   "cell_type": "code",
   "execution_count": 4,
   "id": "777d1770",
   "metadata": {},
   "outputs": [
    {
     "name": "stdout",
     "output_type": "stream",
     "text": [
      "\n",
      "Content: by rebecca english published 19 20 est december 2012 updated 19 21 est december 2012 delighted as she and william undoubtedly are the duchess s pregnancy could not have come at more chaotic time for the royal couple the duke is about to make one of the biggest decisions of his life so far whether to extend his time in the raf or quit to become full time working royal and to make matters worse the couple still won t have permanent home by the time the baby is born early next summer home to be an aerial view of kensington palace flat in the main building will be home to the couple but not until october 2013 kate and william s planned move to their new apartment in kensington palace is now unlikely to take place until october 2013 contractors apartment 1a which used to belong to princess margaret have uncovered which has to be cleared before the couple let alone newborn baby can move in sources close to the also say the apartment which has since been used as offices and exhibition space by historic royal was virtually when it was inspected after their wedding last year when the baby is born kate and are likely to still be living at nottingham cottage but hope to move into margaret former apartment as soon as possible contractors apartment 1a which used to belong to princess margaret have uncovered which has to be cleared before the couple let alone newborn baby can move in palace gardens the statue of queen victoria by her daughter princess louise has recently been up at kensington palace and is looking as good as new it has no kitchen or bathroom and needed total and none of which could be started until the apartment was fully vacated by the charity s staff just few weeks ago at the moment there is just no way their new home will be by the time the baby is born said one this means that when they become parents the couple will still be between their relatively modest rented farmhouse on in north wales and the two bedroom nottingham cottage in the grounds of kensington palace future parents having been married for just 20 months kate is to be mother early next summer inside the palace the king grand which has recently been restored as part of 12 million the restored formal gardens the couple currently have two bedroom nottingham cottage in the grounds of kensington palace if the duchess s health continues to suffer the couple are also likely to face another major domestic william is tied to his base in north wales for at least the next nine months but kate is more than likely to be forced to stay nearly 300 miles away in london alone to be closer to her kate s natural desire to be close to her mother middleton may also mean the duchess is more likely to stay in nottingham cottage it is only 50 miles from her parents 4 home in berkshire and if she stayed in london kate would only be short drive away from the hospital where she has been treated since monday \n",
      "\n",
      "\n",
      "Original summary: kate and william planned move to new apartment in kensington palace now unlikely to take place until october 2013 due to couple will be between rented farmhouse on in north wales and nottingham in of kensington palace \n",
      "\n",
      "\n",
      "1/1 [==============================] - 2s 2s/step\n",
      "1/1 [==============================] - 0s 226ms/step\n",
      "1/1 [==============================] - 2s 2s/step\n",
      "1/1 [==============================] - 0s 226ms/step\n",
      "1/1 [==============================] - 2s 2s/step\n",
      "1/1 [==============================] - 0s 226ms/step\n",
      "\n",
      "Résumé généré : the the the the the the the the the the the the the the the the the the the the the the the the the the the the the the the the the the the \n",
      "\n"
     ]
    }
   ],
   "source": [
    "print(\"Content:\",seq2text(x_tr[1]))\n",
    "print(\"\\n\")\n",
    "print(\"Original summary:\",seq2summary(y_tr[1]))\n",
    "print(\"\\n\")\n",
    "print(\"Résumé généré :\",decode_sequence(x_tr[1].reshape(1,max_text_len)))\n",
    "print(\"\\n\\n\")"
   ]
  },
  {
   "cell_type": "markdown",
   "id": "a7e4eff2",
   "metadata": {},
   "source": [
    "<h2 style='color:olive' align='center'>Amélioration de modèle LSTM : Attention layer </h2>"
   ]
  },
  {
   "cell_type": "markdown",
   "id": "7d687cf0",
   "metadata": {},
   "source": [
    "<div style=\"background-color:cyan; color:black; font-size:14px; font-family:Verdana; padding:10px;border: 4px solid black;text-align:center\">\n",
    "1-Création de modèle\n",
    "</div>"
   ]
  },
  {
   "cell_type": "markdown",
   "id": "b554e7ab",
   "metadata": {},
   "source": [
    "<div style=\"background-color:olive; color:white; font-size:15px; font-family:Verdana; padding:10px;font-weight:bold;border: 5px solid black;text-align:center\">\n",
    "Définir l'architecture de Modèle , encoder et decoder\n",
    "</div>"
   ]
  },
  {
   "cell_type": "code",
   "execution_count": null,
   "id": "fc430e1f",
   "metadata": {},
   "outputs": [],
   "source": [
    "from keras import backend as K \n",
    "K.clear_session()\n",
    "\n",
    "latent_dim = 100\n",
    "embedding_dim=50\n",
    "\n",
    "# Encoder\n",
    "encoder_inputs = Input(shape=(max_text_len,))\n",
    "\n",
    "#embedding layer\n",
    "enc_emb =  Embedding(x_voc, embedding_dim,trainable=True)(encoder_inputs)\n",
    "\n",
    "#encoder lstm 1\n",
    "encoder_lstm1 = LSTM(latent_dim,return_sequences=True,return_state=True,dropout=0.4,recurrent_dropout=0.4)\n",
    "encoder_output1, state_h1, state_c1 = encoder_lstm1(enc_emb)\n",
    "\n",
    "#encoder lstm 2\n",
    "encoder_lstm2 = LSTM(latent_dim,return_sequences=True,return_state=True,dropout=0.4,recurrent_dropout=0.4)\n",
    "encoder_output2, state_h2, state_c2 = encoder_lstm2(encoder_output1)\n",
    "\n",
    "#encoder lstm 3\n",
    "encoder_lstm3=LSTM(latent_dim, return_state=True, return_sequences=True,dropout=0.4,recurrent_dropout=0.4)\n",
    "encoder_outputs, state_h, state_c= encoder_lstm3(encoder_output2)\n",
    "\n",
    "# Set up the decoder, using `encoder_states` as initial state.\n",
    "decoder_inputs = Input(shape=(None,))\n",
    "\n",
    "#embedding layer\n",
    "dec_emb_layer = Embedding(y_voc, embedding_dim,trainable=True)\n",
    "dec_emb = dec_emb_layer(decoder_inputs)\n",
    "\n",
    "# Decoder LSTM\n",
    "decoder_lstm = LSTM(latent_dim, return_sequences=True, return_state=True,dropout=0.4,recurrent_dropout=0.2)\n",
    "decoder_outputs,decoder_fwd_state, decoder_back_state = decoder_lstm(dec_emb,initial_state=[state_h, state_c])\n",
    "\n",
    "#dense layer\n",
    "decoder_dense =  TimeDistributed(Dense(y_voc, activation='softmax'))\n",
    "decoder_outputs = decoder_dense(decoder_outputs)\n",
    "\n",
    "# Define the model \n",
    "model_lstm = Model([encoder_inputs, decoder_inputs], decoder_outputs)\n",
    "\n",
    "model_lstm.summary() "
   ]
  },
  {
   "cell_type": "markdown",
   "id": "22f270a5",
   "metadata": {},
   "source": [
    "<div style=\"background-color:olive; color:white; font-size:15px; font-family:Verdana; padding:10px;font-weight:bold;border: 5px solid black;text-align:center\">\n",
    "Ploter l'architecture de modèle\n",
    "</div>"
   ]
  },
  {
   "cell_type": "code",
   "execution_count": 37,
   "id": "7611e215",
   "metadata": {
    "execution": {
     "iopub.execute_input": "2023-12-19T00:52:52.953768Z",
     "iopub.status.busy": "2023-12-19T00:52:52.953313Z",
     "iopub.status.idle": "2023-12-19T00:52:53.191513Z",
     "shell.execute_reply": "2023-12-19T00:52:53.190322Z",
     "shell.execute_reply.started": "2023-12-19T00:52:52.953728Z"
    }
   },
   "outputs": [
    {
     "data": {
      "image/png": "[encoded data removed]",
      "text/plain": [
       "<IPython.core.display.Image object>"
      ]
     },
     "execution_count": 37,
     "metadata": {},
     "output_type": "execute_result"
    }
   ],
   "source": [
    "plot_model(model_lstm, show_shapes=True)"
   ]
  },
  {
   "cell_type": "markdown",
   "id": "17864819",
   "metadata": {},
   "source": [
    "<div style=\"background-color:olive; color:white; font-size:15px; font-family:Verdana; padding:10px;font-weight:bold;border: 5px solid black;text-align:center\">\n",
    "Compiler le modèle\n",
    "</div>"
   ]
  },
  {
   "cell_type": "code",
   "execution_count": 38,
   "id": "1382f84f",
   "metadata": {
    "execution": {
     "iopub.execute_input": "2023-12-19T00:52:53.194231Z",
     "iopub.status.busy": "2023-12-19T00:52:53.193357Z",
     "iopub.status.idle": "2023-12-19T00:52:53.219906Z",
     "shell.execute_reply": "2023-12-19T00:52:53.218939Z",
     "shell.execute_reply.started": "2023-12-19T00:52:53.194193Z"
    }
   },
   "outputs": [],
   "source": [
    "model_lstm.compile(optimizer='rmsprop', loss='sparse_categorical_crossentropy')"
   ]
  },
  {
   "cell_type": "markdown",
   "id": "867c2ae4",
   "metadata": {},
   "source": [
    "<div style=\"background-color:cyan; color:black; font-size:14px; font-family:Verdana; padding:10px;border: 4px solid black;text-align:center\">\n",
    "2-Entrainement de modèle\n",
    "</div>"
   ]
  },
  {
   "cell_type": "code",
   "execution_count": null,
   "id": "a1054a13",
   "metadata": {},
   "outputs": [],
   "source": [
    "es = EarlyStopping(monitor='val_loss', mode='min', verbose=1, patience=2)\n",
    "\n",
    "history = model_lstm.fit([x_tr, y_tr[:, :-1]], y_tr.reshape(y_tr.shape[0], y_tr.shape[1], 1)[:, 1:], \n",
    "                           epochs=20, callbacks=[es], batch_size=128, \n",
    "                           validation_data=([x_val, y_val[:, :-1]], y_val.reshape(y_val.shape[0], y_val.shape[1], 1)[:, 1:]))"
   ]
  },
  {
   "cell_type": "markdown",
   "id": "15d83513",
   "metadata": {},
   "source": [
    "<div style=\"background-color:cyan; color:black; font-size:14px; font-family:Verdana; padding:10px;border: 4px solid black;text-align:center\">\n",
    "3-Evaluation de modèle\n",
    "</div>"
   ]
  },
  {
   "cell_type": "markdown",
   "id": "7bf9fed2",
   "metadata": {},
   "source": [
    "<div style=\"background-color:olive; color:white; font-size:15px; font-family:Verdana; padding:10px;font-weight:bold;border: 5px solid black;text-align:center\">\n",
    "Afficher Loss dans le test et train\n",
    "</div>"
   ]
  },
  {
   "cell_type": "code",
   "execution_count": 43,
   "id": "a7504efd",
   "metadata": {
    "execution": {
     "iopub.execute_input": "2023-12-19T00:57:50.780082Z",
     "iopub.status.busy": "2023-12-19T00:57:50.779164Z",
     "iopub.status.idle": "2023-12-19T00:57:51.035231Z",
     "shell.execute_reply": "2023-12-19T00:57:51.034255Z",
     "shell.execute_reply.started": "2023-12-19T00:57:50.780045Z"
    }
   },
   "outputs": [
    {
     "data": {
      "image/png": "[encoded data removed]",
      "text/plain": [
       "<Figure size 640x480 with 1 Axes>"
      ]
     },
     "metadata": {},
     "output_type": "display_data"
    }
   ],
   "source": [
    "plt.plot(history.history['loss'], label='train')\n",
    "plt.plot(history.history['val_loss'], label='test')\n",
    "plt.legend()\n",
    "plt.show()"
   ]
  },
  {
   "cell_type": "markdown",
   "id": "d4903cd3",
   "metadata": {},
   "source": [
    "<div style=\"background-color:olive; color:white; font-size:15px; font-family:Verdana; padding:10px;font-weight:bold;border: 5px solid black;text-align:center\">\n",
    "Configuration de l'inférence pour l'encodeur et le décodeur\n",
    "</div>"
   ]
  },
  {
   "cell_type": "code",
   "execution_count": 66,
   "id": "3b5bcfb0",
   "metadata": {
    "execution": {
     "iopub.execute_input": "2023-12-19T01:14:06.165419Z",
     "iopub.status.busy": "2023-12-19T01:14:06.165016Z",
     "iopub.status.idle": "2023-12-19T01:14:06.327060Z",
     "shell.execute_reply": "2023-12-19T01:14:06.326161Z",
     "shell.execute_reply.started": "2023-12-19T01:14:06.165388Z"
    }
   },
   "outputs": [],
   "source": [
    "# Encoder : Encode la séquence d'entrée pour obtenir le vecteur de caractéristiques\n",
    "encoder_model = Model(inputs=encoder_inputs, outputs=[encoder_outputs, state_h, state_c])\n",
    "\n",
    "# Configuration du décodeur\n",
    "# Les tenseurs ci-dessous contiendront les états du pas de temps précédent\n",
    "decoder_state_input_h = Input(shape=(latent_dim,))\n",
    "decoder_state_input_c = Input(shape=(latent_dim,))\n",
    "decoder_hidden_state_input = Input(shape=(max_text_len, latent_dim))\n",
    "\n",
    "# Obtenir les embeddings de la séquence du décodeur\n",
    "dec_emb2 = dec_emb_layer(decoder_inputs)\n",
    "# Pour prédire le mot suivant dans la séquence, initialiser les états aux états du pas de temps précédent\n",
    "decoder_outputs2, state_h2, state_c2 = decoder_lstm(dec_emb2, initial_state=[decoder_state_input_h, decoder_state_input_c])\n",
    "\n",
    "# Une couche softmax dense pour générer une distribution de probabilité sur le vocabulaire cible\n",
    "decoder_outputs2 = decoder_dense(decoder_outputs2)\n",
    "\n",
    "# Modèle final du décodeur\n",
    "decoder_model = Model(\n",
    "    [decoder_inputs] + [decoder_hidden_state_input, decoder_state_input_h, decoder_state_input_c],\n",
    "    [decoder_outputs2] + [state_h2, state_c2])"
   ]
  },
  {
   "cell_type": "markdown",
   "id": "b2544377",
   "metadata": {},
   "source": [
    "<div style=\"background-color:olive; color:white; font-size:15px; font-family:Verdana; padding:10px;font-weight:bold;border: 5px solid black;text-align:center\">\n",
    "Définir une fonction pour l'implémenation de process d'inférence \n",
    "</div>"
   ]
  },
  {
   "cell_type": "code",
   "execution_count": null,
   "id": "d0906b65",
   "metadata": {
    "execution": {
     "iopub.execute_input": "2023-12-19T01:14:18.680805Z",
     "iopub.status.busy": "2023-12-19T01:14:18.680372Z",
     "iopub.status.idle": "2023-12-19T01:14:18.689992Z",
     "shell.execute_reply": "2023-12-19T01:14:18.688762Z",
     "shell.execute_reply.started": "2023-12-19T01:14:18.680770Z"
    }
   },
   "outputs": [],
   "source": [
    "def decode_sequence(input_seq):\n",
    "    # Encoder l'entrée pour obtenir les vecteurs d'état.\n",
    "    (e_out, e_h, e_c) = encoder_model.predict(input_seq)   \n",
    "    # Générer une séquence cible vide de longueur 1.\n",
    "    target_seq = np.zeros((1, 1))  \n",
    "    # Remplir le premier mot de la séquence cible avec le mot de début.\n",
    "    target_seq[0, 0] = target_word_index['sostok']\n",
    "    stop_condition = False\n",
    "    decoded_sentence = ''\n",
    "    while not stop_condition:      \n",
    "        output_tokens, h, c = decoder_model.predict([target_seq] + [e_out, e_h, e_c])\n",
    "        # Échantillonner un jeton\n",
    "        sampled_token_index = np.argmax(output_tokens[0, -1, :])\n",
    "        sampled_token = reverse_target_word_index[sampled_token_index]        \n",
    "        if(sampled_token!='eostok'):\n",
    "            decoded_sentence += ' '+sampled_token\n",
    "        # Condition de sortie : atteindre la longueur maximale ou trouver le mot d'arrêt.\n",
    "        if (sampled_token == 'eostok' or len(decoded_sentence.split()) >= (max_summary_len-1)):\n",
    "            stop_condition = True\n",
    "        # Mettre à jour la séquence cible (de longueur 1).\n",
    "        target_seq = np.zeros((1, 1))\n",
    "        target_seq[0, 0] = sampled_token_index\n",
    "        # Mettre à jour les états internes\n",
    "        e_h, e_c = h, c\n",
    "    return decoded_sentence"
   ]
  },
  {
   "cell_type": "markdown",
   "id": "963c4585",
   "metadata": {},
   "source": [
    "<div style=\"background-color:olive; color:white; font-size:15px; font-family:Verdana; padding:10px;font-weight:bold;border: 5px solid black;text-align:center\">\n",
    "conversion d'une séquence entière en séquence de mots pour les résumés et les textes\n",
    "</div>"
   ]
  },
  {
   "cell_type": "code",
   "execution_count": 68,
   "id": "2430faf8",
   "metadata": {
    "execution": {
     "iopub.execute_input": "2023-12-19T01:14:24.041754Z",
     "iopub.status.busy": "2023-12-19T01:14:24.041316Z",
     "iopub.status.idle": "2023-12-19T01:14:24.049260Z",
     "shell.execute_reply": "2023-12-19T01:14:24.048075Z",
     "shell.execute_reply.started": "2023-12-19T01:14:24.041718Z"
    }
   },
   "outputs": [],
   "source": [
    "def seq2summary(input_seq):\n",
    "    newString=''\n",
    "    for i in input_seq:\n",
    "        if((i!=0 and i!=target_word_index['sostok']) and i!=target_word_index['eostok']):\n",
    "            newString=newString+reverse_target_word_index[i]+' '\n",
    "    return newString\n",
    "\n",
    "def seq2text(input_seq):\n",
    "    newString=''\n",
    "    for i in input_seq:\n",
    "        if(i!=0):\n",
    "            newString=newString+reverse_source_word_index[i]+' '\n",
    "    return newString"
   ]
  },
  {
   "cell_type": "markdown",
   "id": "afa58d0f",
   "metadata": {},
   "source": [
    "<div style=\"background-color:olive; color:white; font-size:15px; font-family:Verdana; padding:10px;font-weight:bold;border: 5px solid black;text-align:center\">\n",
    "Générer des résumées avec le modèle créer\n",
    "</div>"
   ]
  },
  {
   "cell_type": "code",
   "execution_count": null,
   "id": "0768ccf0",
   "metadata": {},
   "outputs": [],
   "source": [
    "for i in range(1,3):\n",
    "    print(\"Content:\",seq2text(x_tr[i]))\n",
    "    print(\"\\n\")\n",
    "    print(\"Original summary:\",seq2summary(y_tr[i]))\n",
    "    print(\"\\n\")\n",
    "    print(\"Predicted summary:\",decode_sequence(x_tr[i].reshape(1,max_text_len)))\n",
    "    print(\"\\n\\n\")"
   ]
  },
  {
   "cell_type": "code",
   "execution_count": null,
   "id": "10988a23",
   "metadata": {},
   "outputs": [],
   "source": [
    "def generate_summary(input_text):\n",
    "    # Prétraitement du texte d'entrée\n",
    "    input_text = preprocess_text(input_text)\n",
    "    input_seq = x_tokenizer.texts_to_sequences([input_text])\n",
    "    input_seq = pad_sequences(input_seq, maxlen=max_text_len, padding='post')\n",
    "    # Génération du résumé\n",
    "    summary = decode_sequence(input_seq)\n",
    "    # Post-traitement du résumé généré\n",
    "    generated_summary = seq2summary([summary])\n",
    "    return generated_summary"
   ]
  },
  {
   "cell_type": "markdown",
   "id": "414d962e",
   "metadata": {},
   "source": [
    "<div style=\"background-color:olive; color:white; font-size:15px; font-family:Verdana; padding:10px;font-weight:bold;border: 5px solid black;text-align:center\">\n",
    "Afficher les scores ROUGE et score BLEU\n",
    "</div>"
   ]
  },
  {
   "cell_type": "code",
   "execution_count": null,
   "id": "fd3fad80",
   "metadata": {},
   "outputs": [],
   "source": [
    "predicted_texts = [generate_summary(text) for text in x_tr]\n",
    "original_texts = [seq2summary(seq) for seq in y_tr]\n",
    "\n",
    "# Convertir les textes en listes de tokens\n",
    "predicted_tokens = [predicted_text.split() for predicted_text in predicted_texts]\n",
    "original_tokens = [original_text.split() for original_text in original_texts]\n",
    "\n",
    "# Calculer les scores BLEU\n",
    "individual_bleu_scores = [sentence_bleu([original], predicted, weights=(1, 0, 0, 0)) for original, predicted in zip(original_tokens, predicted_tokens)]\n",
    "average_bleu_score = np.mean(individual_bleu_scores)\n",
    "\n",
    "# Calculer les scores ROUGE\n",
    "rouge = Rouge()\n",
    "rouge_scores = rouge.get_scores(predicted_texts, original_texts, avg=True)\n",
    "\n",
    "# Afficher le score BLEU\n",
    "print(\"BLEU Score:\", average_bleu_score)\n",
    "\n",
    "# Afficher les scores ROUGE\n",
    "print(\"ROUGE Scores:\", rouge_scores)"
   ]
  },
  {
   "cell_type": "code",
   "execution_count": null,
   "id": "03ea7767",
   "metadata": {
    "execution": {
     "iopub.status.busy": "2023-12-19T00:56:07.956445Z",
     "iopub.status.idle": "2023-12-19T00:56:07.956855Z",
     "shell.execute_reply": "2023-12-19T00:56:07.956659Z",
     "shell.execute_reply.started": "2023-12-19T00:56:07.956642Z"
    }
   },
   "outputs": [],
   "source": [
    "plt.bar(rouge_scores.keys(), rouge_scores.values())\n",
    "plt.title('Scores ROUGE')\n",
    "plt.ylabel('Score')\n",
    "plt.show()"
   ]
  },
  {
   "cell_type": "markdown",
   "id": "0a5ea148",
   "metadata": {},
   "source": [
    "<div style=\"background-color:olive; color:white; font-size:15px; font-family:Verdana; padding:10px;font-weight:bold;border: 5px solid black;text-align:center\">\n",
    "Exemple d'utilisation\n",
    "</div>"
   ]
  },
  {
   "cell_type": "code",
   "execution_count": null,
   "id": "063ecc95",
   "metadata": {},
   "outputs": [],
   "source": [
    "input_text = \"by rebecca english published 19 20 est december 2012 updated 19 21 est december 2012 delighted as she and william undoubtedly are the duchess s pregnancy could not have come at more chaotic time for the royal couple the duke is about to make one of the biggest decisions of his life so far whether to extend his time in the raf or quit to become full time working royal and to make matters worse the couple still won t have permanent home by the time the baby is born early next summer home to be an aerial view of kensington palace flat in the main building will be home to the couple but not until october 2013 kate and william s planned move to their new apartment in kensington palace is now unlikely to take place until october 2013 contractors apartment 1a which used to belong to princess margaret have uncovered which has to be cleared before the couple let alone newborn baby can move in sources close to the also say the apartment which has since been used as offices and exhibition space by historic royal was virtually when it was inspected after their wedding last year when the baby is born kate and are likely to still be living at nottingham cottage but hope to move into margaret former apartment as soon as possible contractors apartment 1a which used to belong to princess margaret have uncovered which has to be cleared before the couple let alone newborn baby can move in palace gardens the statue of queen victoria by her daughter princess louise has recently been up at kensington palace and is looking as good as new it has no kitchen or bathroom and needed total and none of which could be started until the apartment was fully vacated by the charity s staff just few weeks ago at the moment there is just no way their new home will be by the time the baby is born said one this means that when they become parents the couple will still be between their relatively modest rented farmhouse on in north wales and the two bedroom nottingham cottage in the grounds of kensington palace future parents having been married for just 20 months kate is to be mother early next summer inside the palace the king grand which has recently been restored as part of 12 million the restored formal gardens the couple currently have two bedroom nottingham cottage in the grounds of kensington palace if the duchess s health continues to suffer the couple are also likely to face another major domestic william is tied to his base in north wales for at least the next nine months but kate is more than likely to be forced to stay nearly 300 miles away in london alone to be closer to her kate s natural desire to be close to her mother middleton may also mean the duchess is more likely to stay in nottingham cottage it is only 50 miles from her parents 4 home in berkshire and if she stayed in london kate would only be short drive away from the hospital where she has been treated since monday \"\n",
    "generated_summary = generate_summary(input_text)\n",
    "\n",
    "# Affichage du résultat\n",
    "print(\"Texte d'entrée :\", input_text)\n",
    "print(\"Résumé généré :\", generated_summary)"
   ]
  },
  {
   "cell_type": "code",
   "execution_count": 4,
   "id": "1b459956",
   "metadata": {},
   "outputs": [
    {
     "name": "stdout",
     "output_type": "stream",
     "text": [
      "\n",
      "Content: by rebecca english published 19 20 est december 2012 updated 19 21 est december 2012 delighted as she and william undoubtedly are the duchess s pregnancy could not have come at more chaotic time for the royal couple the duke is about to make one of the biggest decisions of his life so far whether to extend his time in the raf or quit to become full time working royal and to make matters worse the couple still won t have permanent home by the time the baby is born early next summer home to be an aerial view of kensington palace flat in the main building will be home to the couple but not until october 2013 kate and william s planned move to their new apartment in kensington palace is now unlikely to take place until october 2013 contractors apartment 1a which used to belong to princess margaret have uncovered which has to be cleared before the couple let alone newborn baby can move in sources close to the also say the apartment which has since been used as offices and exhibition space by historic royal was virtually when it was inspected after their wedding last year when the baby is born kate and are likely to still be living at nottingham cottage but hope to move into margaret former apartment as soon as possible contractors apartment 1a which used to belong to princess margaret have uncovered which has to be cleared before the couple let alone newborn baby can move in palace gardens the statue of queen victoria by her daughter princess louise has recently been up at kensington palace and is looking as good as new it has no kitchen or bathroom and needed total and none of which could be started until the apartment was fully vacated by the charity s staff just few weeks ago at the moment there is just no way their new home will be by the time the baby is born said one this means that when they become parents the couple will still be between their relatively modest rented farmhouse on in north wales and the two bedroom nottingham cottage in the grounds of kensington palace future parents having been married for just 20 months kate is to be mother early next summer inside the palace the king grand which has recently been restored as part of 12 million the restored formal gardens the couple currently have two bedroom nottingham cottage in the grounds of kensington palace if the duchess s health continues to suffer the couple are also likely to face another major domestic william is tied to his base in north wales for at least the next nine months but kate is more than likely to be forced to stay nearly 300 miles away in london alone to be closer to her kate s natural desire to be close to her mother middleton may also mean the duchess is more likely to stay in nottingham cottage it is only 50 miles from her parents 4 home in berkshire and if she stayed in london kate would only be short drive away from the hospital where she has been treated since monday \n",
      "\n",
      "\n",
      "Original summary: kate and william planned move to new apartment in kensington palace now unlikely to take place until october 2013 due to couple will be between rented farmhouse on in north wales and nottingham in of kensington palace \n",
      "\n",
      "\n",
      "1/1 [==============================] - 2s 2s/step\n",
      "1/1 [==============================] - 0s 226ms/step\n",
      "1/1 [==============================] - 2s 2s/step\n",
      "1/1 [==============================] - 0s 226ms/step\n",
      "1/1 [==============================] - 2s 2s/step\n",
      "1/1 [==============================] - 0s 226ms/step\n",
      "\n",
      "Résumé généré : the the the the the the the the the the the the the the the the the the the the the the the the the the the the the the the the the the the \n",
      "\n"
     ]
    }
   ],
   "source": [
    "print(\"Content:\",seq2text(x_tr[1]))\n",
    "print(\"\\n\")\n",
    "print(\"Original summary:\",seq2summary(y_tr[1]))\n",
    "print(\"\\n\")\n",
    "print(\"Résumé généré :\",decode_sequence(x_tr[1].reshape(1,max_text_len)))\n",
    "print(\"\\n\\n\")"
   ]
  },
  {
   "cell_type": "markdown",
   "id": "3f24d3ba",
   "metadata": {},
   "source": [
    "<h2 style='color:olive' align='center'>Références: </h2>"
   ]
  },
  {
   "cell_type": "markdown",
   "id": "0024a776",
   "metadata": {},
   "source": [
    "---\n",
    "<div style=\"background-color:olive; color:white; font-size:15px; font-family:Verdana; padding:10px;font-weight:bold;border: 5px solid black;text-align:center\">\n",
    "<ul>\n",
    "<li><a href=\"https://blog.research.google/2016/08/text-summarization-with-tensorflow.html\" style=\"color:white;\"> Ressource 1</a></li>\n",
    "<li><a href=\"https://en.wikipedia.org/wiki/Tf%E2%80%93idf\" style=\"color:white;\"> Ressource 2</a></li>\n",
    "<li><a href=\"https://www.kaggle.com/datasets/sbhatti/news-summarization/data\" style=\"color:white;\"> Ressource 3 </a></li>\n",
    "<li><a href=\"https://radimrehurek.com/gensim/models/word2vec.html\" style=\"color:white;\"> Ressource4 </a></li>\n",
    "    \n",
    "</ul>\n",
    "</div>\n",
    "\n",
    "---"
   ]
  },
  {
   "cell_type": "markdown",
   "id": "3025d592",
   "metadata": {},
   "source": [
    "<h2 style='color:olive' align='center'>END </h2>"
   ]
  }
 ],
 "metadata": {
  "kaggle": {
   "accelerator": "gpu",
   "dataSources": [
    {
     "datasetId": 1912571,
     "sourceId": 3140615,
     "sourceType": "datasetVersion"
    }
   ],
   "dockerImageVersionId": 30627,
   "isGpuEnabled": true,
   "isInternetEnabled": true,
   "language": "python",
   "sourceType": "notebook"
  },
  "kernelspec": {
   "display_name": "Python 3 (ipykernel)",
   "language": "python",
   "name": "python3"
  },
  "language_info": {
   "codemirror_mode": {
    "name": "ipython",
    "version": 3
   },
   "file_extension": ".py",
   "mimetype": "text/x-python",
   "name": "python",
   "nbconvert_exporter": "python",
   "pygments_lexer": "ipython3",
   "version": "3.11.4"
  }
 },
 "nbformat": 4,
 "nbformat_minor": 5
}
