{
 "cells": [
  {
   "cell_type": "markdown",
   "metadata": {},
   "source": [
    "<div>\n",
    "    <img src=\"data:image/jpeg;base64,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\" alt=\"ESI\">\n",
    "</div>"
   ]
  },
  {
   "cell_type": "markdown",
   "metadata": {},
   "source": [
    "<div style=\"background-color:olive; color:white; font-size:15px; font-family:Verdana; padding:10px;font-weight:bold;border: 5px solid black;\">\n",
    "<p style=\"color:orange;font-weight:bold\"><u>Réalisé par:</u></p>\n",
    "<ul >\n",
    "    <li>ELGHAZI Soufiane</li>\n",
    "    <li>MAASRI Amine</li>\n",
    "    <li>Dahmou Youssef</li>\n",
    "    <li>OUAHIB Yassine</li>\n",
    "</ul>\n",
    "    \n",
    "</div>"
   ]
  },
  {
   "cell_type": "markdown",
   "metadata": {},
   "source": [
    "<h1 style='color:purple' align='center'>Projet Text mining: News SUM </h1>"
   ]
  },
  {
   "cell_type": "markdown",
   "metadata": {},
   "source": [
    "<h2 style='color:olive' align='center'>PEGASUSE </h2>"
   ]
  },
  {
   "cell_type": "markdown",
   "metadata": {},
   "source": [
    "<div style=\"background-color:white; color:black; font-size:15px; font-family:Verdana; padding:10px;font-weight:bold;border: 5px solid black;\">\n",
    "<p style=\"color:purple;\">Étape 2 : Création et évaluation des modèles : PEGASUSE</p><br>\n",
    "<p style=\"color:purple;\">Références</p>\n",
    " Les liens vers les ressources utilisées et consulté .<br><br>\n",
    "</div>"
   ]
  },
  {
   "cell_type": "markdown",
   "metadata": {},
   "source": [
    "<h2 style='color:purple'>Importation des Bibliothèques: </h2>"
   ]
  },
  {
   "cell_type": "code",
   "execution_count": 3,
   "metadata": {
    "collapsed": true,
    "execution": {
     "iopub.execute_input": "2023-12-29T14:27:57.925006Z",
     "iopub.status.busy": "2023-12-29T14:27:57.924231Z",
     "iopub.status.idle": "2023-12-29T14:28:22.905338Z",
     "shell.execute_reply": "2023-12-29T14:28:22.904260Z",
     "shell.execute_reply.started": "2023-12-29T14:27:57.924969Z"
    },
    "jupyter": {
     "outputs_hidden": true
    }
   },
   "outputs": [
    {
     "name": "stdout",
     "output_type": "stream",
     "text": [
      "Requirement already satisfied: torch in /opt/conda/lib/python3.10/site-packages (2.0.0)\n",
      "Requirement already satisfied: filelock in /opt/conda/lib/python3.10/site-packages (from torch) (3.12.2)\n",
      "Requirement already satisfied: typing-extensions in /opt/conda/lib/python3.10/site-packages (from torch) (4.5.0)\n",
      "Requirement already satisfied: sympy in /opt/conda/lib/python3.10/site-packages (from torch) (1.12)\n",
      "Requirement already satisfied: networkx in /opt/conda/lib/python3.10/site-packages (from torch) (3.1)\n",
      "Requirement already satisfied: jinja2 in /opt/conda/lib/python3.10/site-packages (from torch) (3.1.2)\n",
      "Requirement already satisfied: MarkupSafe>=2.0 in /opt/conda/lib/python3.10/site-packages (from jinja2->torch) (2.1.3)\n",
      "Requirement already satisfied: mpmath>=0.19 in /opt/conda/lib/python3.10/site-packages (from sympy->torch) (1.3.0)\n",
      "Requirement already satisfied: transformers in /opt/conda/lib/python3.10/site-packages (4.36.0)\n",
      "Requirement already satisfied: filelock in /opt/conda/lib/python3.10/site-packages (from transformers) (3.12.2)\n",
      "Requirement already satisfied: huggingface-hub<1.0,>=0.19.3 in /opt/conda/lib/python3.10/site-packages (from transformers) (0.19.4)\n",
      "Requirement already satisfied: numpy>=1.17 in /opt/conda/lib/python3.10/site-packages (from transformers) (1.24.3)\n",
      "Requirement already satisfied: packaging>=20.0 in /opt/conda/lib/python3.10/site-packages (from transformers) (21.3)\n",
      "Requirement already satisfied: pyyaml>=5.1 in /opt/conda/lib/python3.10/site-packages (from transformers) (6.0.1)\n",
      "Requirement already satisfied: regex!=2019.12.17 in /opt/conda/lib/python3.10/site-packages (from transformers) (2023.8.8)\n",
      "Requirement already satisfied: requests in /opt/conda/lib/python3.10/site-packages (from transformers) (2.31.0)\n",
      "Requirement already satisfied: tokenizers<0.19,>=0.14 in /opt/conda/lib/python3.10/site-packages (from transformers) (0.15.0)\n",
      "Requirement already satisfied: safetensors>=0.3.1 in /opt/conda/lib/python3.10/site-packages (from transformers) (0.4.1)\n",
      "Requirement already satisfied: tqdm>=4.27 in /opt/conda/lib/python3.10/site-packages (from transformers) (4.66.1)\n",
      "Requirement already satisfied: fsspec>=2023.5.0 in /opt/conda/lib/python3.10/site-packages (from huggingface-hub<1.0,>=0.19.3->transformers) (2023.12.2)\n",
      "Requirement already satisfied: typing-extensions>=3.7.4.3 in /opt/conda/lib/python3.10/site-packages (from huggingface-hub<1.0,>=0.19.3->transformers) (4.5.0)\n",
      "Requirement already satisfied: pyparsing!=3.0.5,>=2.0.2 in /opt/conda/lib/python3.10/site-packages (from packaging>=20.0->transformers) (3.0.9)\n",
      "Requirement already satisfied: charset-normalizer<4,>=2 in /opt/conda/lib/python3.10/site-packages (from requests->transformers) (3.2.0)\n",
      "Requirement already satisfied: idna<4,>=2.5 in /opt/conda/lib/python3.10/site-packages (from requests->transformers) (3.4)\n",
      "Requirement already satisfied: urllib3<3,>=1.21.1 in /opt/conda/lib/python3.10/site-packages (from requests->transformers) (1.26.15)\n",
      "Requirement already satisfied: certifi>=2017.4.17 in /opt/conda/lib/python3.10/site-packages (from requests->transformers) (2023.11.17)\n"
     ]
    }
   ],
   "source": [
    "!pip install torch\n",
    "!pip install transformers"
   ]
  },
  {
   "cell_type": "code",
   "execution_count": 12,
   "metadata": {
    "execution": {
     "iopub.execute_input": "2023-12-30T01:02:59.667212Z",
     "iopub.status.busy": "2023-12-30T01:02:59.666822Z",
     "iopub.status.idle": "2023-12-30T01:02:59.672019Z",
     "shell.execute_reply": "2023-12-30T01:02:59.671072Z",
     "shell.execute_reply.started": "2023-12-30T01:02:59.667183Z"
    }
   },
   "outputs": [],
   "source": [
    "import pandas as pd\n",
    "from sklearn.model_selection import train_test_split\n",
    "from transformers import PegasusForConditionalGeneration, PegasusTokenizer, Trainer, TrainingArguments\n",
    "import torch"
   ]
  },
  {
   "cell_type": "markdown",
   "metadata": {},
   "source": [
    "<div style=\"background-color:olive; color:white; font-size:15px; font-family:Verdana; padding:10px;font-weight:bold;border: 5px solid black;text-align:center\">\n",
    "1. Chargement des Données:\n",
    "</div>"
   ]
  },
  {
   "cell_type": "code",
   "execution_count": 11,
   "metadata": {
    "execution": {
     "iopub.execute_input": "2023-12-30T01:02:45.548227Z",
     "iopub.status.busy": "2023-12-30T01:02:45.547567Z",
     "iopub.status.idle": "2023-12-30T01:02:45.839353Z",
     "shell.execute_reply": "2023-12-30T01:02:45.838487Z",
     "shell.execute_reply.started": "2023-12-30T01:02:45.548193Z"
    }
   },
   "outputs": [
    {
     "data": {
      "text/html": [
       "<div>\n",
       "<style scoped>\n",
       "    .dataframe tbody tr th:only-of-type {\n",
       "        vertical-align: middle;\n",
       "    }\n",
       "\n",
       "    .dataframe tbody tr th {\n",
       "        vertical-align: top;\n",
       "    }\n",
       "\n",
       "    .dataframe thead th {\n",
       "        text-align: right;\n",
       "    }\n",
       "</style>\n",
       "<table border=\"1\" class=\"dataframe\">\n",
       "  <thead>\n",
       "    <tr style=\"text-align: right;\">\n",
       "      <th></th>\n",
       "      <th>Summary</th>\n",
       "      <th>Content</th>\n",
       "    </tr>\n",
       "  </thead>\n",
       "  <tbody>\n",
       "    <tr>\n",
       "      <th>0</th>\n",
       "      <td>it s heartbreaking. initial surveys indicated...</td>\n",
       "      <td>severe storms and at least one tornado slammed...</td>\n",
       "    </tr>\n",
       "    <tr>\n",
       "      <th>1</th>\n",
       "      <td>by the time the tornado siren sounded one week...</td>\n",
       "      <td>by the time the tornado siren sounded one week...</td>\n",
       "    </tr>\n",
       "    <tr>\n",
       "      <th>2</th>\n",
       "      <td>it s heartbreaking. initial surveys indicated...</td>\n",
       "      <td>severe storms and at least one tornado slammed...</td>\n",
       "    </tr>\n",
       "    <tr>\n",
       "      <th>3</th>\n",
       "      <td>the storm dumped 4 inches of rain over much of...</td>\n",
       "      <td>a powerful storm that s been slamming the nort...</td>\n",
       "    </tr>\n",
       "    <tr>\n",
       "      <th>4</th>\n",
       "      <td>how relevant is this ad to you video player wa...</td>\n",
       "      <td>1 how relevant is this ad to you video player ...</td>\n",
       "    </tr>\n",
       "    <tr>\n",
       "      <th>...</th>\n",
       "      <td>...</td>\n",
       "      <td>...</td>\n",
       "    </tr>\n",
       "    <tr>\n",
       "      <th>1888</th>\n",
       "      <td>lucy copland 27 from lincolnshire was worried ...</td>\n",
       "      <td>by kelly strange published 08:10 est 29 may 20...</td>\n",
       "    </tr>\n",
       "    <tr>\n",
       "      <th>1889</th>\n",
       "      <td>english heritage bestow grade ii listing on im...</td>\n",
       "      <td>by harriet arkell wartime bunker used by winst...</td>\n",
       "    </tr>\n",
       "    <tr>\n",
       "      <th>1890</th>\n",
       "      <td>the nobel prize was awarded to carlos saavedra...</td>\n",
       "      <td>by sam creighton nobel peace prize has sold fo...</td>\n",
       "    </tr>\n",
       "    <tr>\n",
       "      <th>1891</th>\n",
       "      <td>bronwyn calver was cycling when kangaroo leape...</td>\n",
       "      <td>a cyclist has suffered freak accident after be...</td>\n",
       "    </tr>\n",
       "    <tr>\n",
       "      <th>1892</th>\n",
       "      <td>dane pollard 34 was diagnosed with cystic fibr...</td>\n",
       "      <td>by emma innes cystic fibrosis patient has marr...</td>\n",
       "    </tr>\n",
       "  </tbody>\n",
       "</table>\n",
       "<p>1893 rows × 2 columns</p>\n",
       "</div>"
      ],
      "text/plain": [
       "                                                Summary  \\\n",
       "0      it s heartbreaking. initial surveys indicated...   \n",
       "1     by the time the tornado siren sounded one week...   \n",
       "2      it s heartbreaking. initial surveys indicated...   \n",
       "3     the storm dumped 4 inches of rain over much of...   \n",
       "4     how relevant is this ad to you video player wa...   \n",
       "...                                                 ...   \n",
       "1888  lucy copland 27 from lincolnshire was worried ...   \n",
       "1889  english heritage bestow grade ii listing on im...   \n",
       "1890  the nobel prize was awarded to carlos saavedra...   \n",
       "1891  bronwyn calver was cycling when kangaroo leape...   \n",
       "1892  dane pollard 34 was diagnosed with cystic fibr...   \n",
       "\n",
       "                                                Content  \n",
       "0     severe storms and at least one tornado slammed...  \n",
       "1     by the time the tornado siren sounded one week...  \n",
       "2     severe storms and at least one tornado slammed...  \n",
       "3     a powerful storm that s been slamming the nort...  \n",
       "4     1 how relevant is this ad to you video player ...  \n",
       "...                                                 ...  \n",
       "1888  by kelly strange published 08:10 est 29 may 20...  \n",
       "1889  by harriet arkell wartime bunker used by winst...  \n",
       "1890  by sam creighton nobel peace prize has sold fo...  \n",
       "1891  a cyclist has suffered freak accident after be...  \n",
       "1892  by emma innes cystic fibrosis patient has marr...  \n",
       "\n",
       "[1893 rows x 2 columns]"
      ]
     },
     "execution_count": 11,
     "metadata": {},
     "output_type": "execute_result"
    }
   ],
   "source": [
    "df = pd.read_excel('../Data/Final_Data/corpus.xlsx')\n",
    "df.columns = ['Summary','Content'] #.iloc[:100]\n",
    "df"
   ]
  },
  {
   "cell_type": "markdown",
   "metadata": {},
   "source": [
    "<div style=\"background-color:olive; color:white; font-size:15px; font-family:Verdana; padding:10px;font-weight:bold;border: 5px solid black;text-align:center\">\n",
    "2. Division des Données :\n",
    "</div>"
   ]
  },
  {
   "cell_type": "code",
   "execution_count": 13,
   "metadata": {
    "execution": {
     "iopub.execute_input": "2023-12-30T01:03:03.586780Z",
     "iopub.status.busy": "2023-12-30T01:03:03.586414Z",
     "iopub.status.idle": "2023-12-30T01:03:03.594552Z",
     "shell.execute_reply": "2023-12-30T01:03:03.593656Z",
     "shell.execute_reply.started": "2023-12-30T01:03:03.586751Z"
    }
   },
   "outputs": [],
   "source": [
    "# Split the dataset into training and validation sets\n",
    "train_df, val_df = train_test_split(df, test_size=0.2, random_state=42)"
   ]
  },
  {
   "cell_type": "markdown",
   "metadata": {},
   "source": [
    "<div style=\"background-color:white; color:black; font-size:15px; font-family:Verdana; padding:10px;font-weight:bold;border: 5px solid black;text-align:center\">\n",
    "Tokenisation avec PEGASUS :\n",
    "</div>"
   ]
  },
  {
   "cell_type": "code",
   "execution_count": 14,
   "metadata": {
    "execution": {
     "iopub.execute_input": "2023-12-30T01:03:06.734844Z",
     "iopub.status.busy": "2023-12-30T01:03:06.734480Z",
     "iopub.status.idle": "2023-12-30T01:03:08.635013Z",
     "shell.execute_reply": "2023-12-30T01:03:08.634230Z",
     "shell.execute_reply.started": "2023-12-30T01:03:06.734813Z"
    }
   },
   "outputs": [
    {
     "data": {
      "application/vnd.jupyter.widget-view+json": {
       "model_id": "3453ff686ed542739441844ba43e58c6",
       "version_major": 2,
       "version_minor": 0
      },
      "text/plain": [
       "tokenizer_config.json:   0%|          | 0.00/88.0 [00:00<?, ?B/s]"
      ]
     },
     "metadata": {},
     "output_type": "display_data"
    },
    {
     "data": {
      "application/vnd.jupyter.widget-view+json": {
       "model_id": "f8892bc9667f4d22bfd2bc470c0afe9a",
       "version_major": 2,
       "version_minor": 0
      },
      "text/plain": [
       "spiece.model:   0%|          | 0.00/1.91M [00:00<?, ?B/s]"
      ]
     },
     "metadata": {},
     "output_type": "display_data"
    },
    {
     "data": {
      "application/vnd.jupyter.widget-view+json": {
       "model_id": "98b6e5191c614dce869c2a39461235e7",
       "version_major": 2,
       "version_minor": 0
      },
      "text/plain": [
       "special_tokens_map.json:   0%|          | 0.00/65.0 [00:00<?, ?B/s]"
      ]
     },
     "metadata": {},
     "output_type": "display_data"
    },
    {
     "data": {
      "application/vnd.jupyter.widget-view+json": {
       "model_id": "231246b6997e42dd8ce8b58a171f7aa4",
       "version_major": 2,
       "version_minor": 0
      },
      "text/plain": [
       "config.json:   0%|          | 0.00/3.09k [00:00<?, ?B/s]"
      ]
     },
     "metadata": {},
     "output_type": "display_data"
    }
   ],
   "source": [
    "# Initialize the PEGASUS tokenizer\n",
    "tokenizer = PegasusTokenizer.from_pretrained('google/pegasus-large')"
   ]
  },
  {
   "cell_type": "markdown",
   "metadata": {},
   "source": [
    "> ### - Tokenise les données d'entraînement et de validation pour le contenu et les résumés."
   ]
  },
  {
   "cell_type": "code",
   "execution_count": 15,
   "metadata": {
    "execution": {
     "iopub.execute_input": "2023-12-30T01:03:14.129360Z",
     "iopub.status.busy": "2023-12-30T01:03:14.128973Z",
     "iopub.status.idle": "2023-12-30T01:03:24.496775Z",
     "shell.execute_reply": "2023-12-30T01:03:24.495791Z",
     "shell.execute_reply.started": "2023-12-30T01:03:14.129307Z"
    }
   },
   "outputs": [],
   "source": [
    "# Tokenize the training data\n",
    "train_content = list(train_df['Content'])\n",
    "train_summary = list(train_df['Summary'])\n",
    "\n",
    "# Ensure the content is in string format\n",
    "train_content = [str(content) for content in train_content]\n",
    "\n",
    "train_data = tokenizer(\n",
    "    train_content,\n",
    "    truncation=True,\n",
    "    padding=True,\n",
    "    max_length=1000,\n",
    "    return_tensors='pt',\n",
    "    verbose=True\n",
    ")\n",
    "\n",
    "train_summary_data = tokenizer(\n",
    "    train_summary,\n",
    "    truncation=True,\n",
    "    padding=True,\n",
    "    max_length=200,  # Adjust the max_length as needed for summaries\n",
    "    return_tensors='pt',\n",
    "    verbose=True\n",
    ")"
   ]
  },
  {
   "cell_type": "code",
   "execution_count": 16,
   "metadata": {
    "execution": {
     "iopub.execute_input": "2023-12-30T01:03:32.927531Z",
     "iopub.status.busy": "2023-12-30T01:03:32.927071Z",
     "iopub.status.idle": "2023-12-30T01:03:35.396118Z",
     "shell.execute_reply": "2023-12-30T01:03:35.395179Z",
     "shell.execute_reply.started": "2023-12-30T01:03:32.927498Z"
    }
   },
   "outputs": [],
   "source": [
    "# Tokenize the validation data\n",
    "val_content = list(val_df['Content'])\n",
    "val_summary = list(val_df['Summary'])\n",
    "\n",
    "# Ensure the content is in string format\n",
    "val_content = [str(content) for content in val_content]\n",
    "\n",
    "val_data = tokenizer(\n",
    "    val_content,\n",
    "    truncation=True,\n",
    "    padding=True,\n",
    "    max_length=1000,\n",
    "    return_tensors='pt',\n",
    "    verbose=True\n",
    ")\n",
    "\n",
    "val_summary_data = tokenizer(\n",
    "    val_summary,\n",
    "    truncation=True,\n",
    "    padding=True,\n",
    "    max_length=200,  # Adjust the max_length as needed for summaries\n",
    "    return_tensors='pt',\n",
    "    verbose=True\n",
    ")"
   ]
  },
  {
   "cell_type": "markdown",
   "metadata": {},
   "source": [
    "<div style=\"background-color:olive; color:white; font-size:15px; font-family:Verdana; padding:10px;font-weight:bold;border: 5px solid black;text-align:center\">\n",
    "3. Classe de Dataset Personnalisée :\n",
    "</div>"
   ]
  },
  {
   "cell_type": "markdown",
   "metadata": {},
   "source": [
    "<div style=\"background-color:white; color:black; font-size:15px; font-family:Verdana; padding:10px;font-weight:bold;border: 5px solid black;text-align:center\">\n",
    "Définit une classe de dataset personnalisée pour gérer les données tokenisées et les labels.\n",
    "</div>"
   ]
  },
  {
   "cell_type": "code",
   "execution_count": 17,
   "metadata": {
    "execution": {
     "iopub.execute_input": "2023-12-30T01:05:09.270230Z",
     "iopub.status.busy": "2023-12-30T01:05:09.269522Z",
     "iopub.status.idle": "2023-12-30T01:05:09.278029Z",
     "shell.execute_reply": "2023-12-30T01:05:09.277076Z",
     "shell.execute_reply.started": "2023-12-30T01:05:09.270197Z"
    }
   },
   "outputs": [],
   "source": [
    "from torch.utils.data import DataLoader, Dataset\n",
    "\n",
    "class CustomDataset(Dataset):\n",
    "    def __init__(self, encodings, labels):\n",
    "        self.encodings = encodings\n",
    "        self.labels = labels\n",
    "\n",
    "    def __getitem__(self, idx):\n",
    "        item = {key: torch.tensor(val[idx]) for key, val in self.encodings.items()}\n",
    "        item['labels'] = torch.tensor(self.labels['input_ids'][idx])  # Assuming 'labels' is the key for summary input_ids\n",
    "        return item\n",
    "\n",
    "    def __len__(self):\n",
    "        return len(self.encodings['input_ids'])\n"
   ]
  },
  {
   "cell_type": "markdown",
   "metadata": {},
   "source": [
    "<div style=\"background-color:olive; color:white; font-size:15px; font-family:Verdana; padding:10px;font-weight:bold;border: 5px solid black;text-align:center\">\n",
    "4. Création d'Instances de Dataset :\n",
    "</div>"
   ]
  },
  {
   "cell_type": "markdown",
   "metadata": {},
   "source": [
    "<div style=\"background-color:white; color:black; font-size:15px; font-family:Verdana; padding:10px;font-weight:bold;border: 5px solid black;text-align:center\">\n",
    "Création des instances du dataset personnalisé pour les ensembles d'entraînement et de validation\n",
    "</div>"
   ]
  },
  {
   "cell_type": "code",
   "execution_count": null,
   "metadata": {},
   "outputs": [],
   "source": [
    "# Create CustomDataset instances for both training and validation\n",
    "train_dataset = CustomDataset(train_data, train_summary_data)\n",
    "val_dataset = CustomDataset(val_data, val_summary_data)"
   ]
  },
  {
   "cell_type": "markdown",
   "metadata": {},
   "source": [
    "<div style=\"background-color:olive; color:white; font-size:15px; font-family:Verdana; padding:10px;font-weight:bold;border: 5px solid black;text-align:center\">\n",
    "5. Data Loaders :\n",
    "</div>"
   ]
  },
  {
   "cell_type": "markdown",
   "metadata": {},
   "source": [
    "<div style=\"background-color:white; color:black; font-size:15px; font-family:Verdana; padding:10px;font-weight:bold;border: 5px solid black;text-align:center\">\n",
    "Création des instances DataLoader pour le chargement efficace des lots pendant l'entraînement et la validation.\n",
    "</div>"
   ]
  },
  {
   "cell_type": "code",
   "execution_count": null,
   "metadata": {},
   "outputs": [],
   "source": [
    "# Create DataLoader instances\n",
    "train_loader = DataLoader(train_dataset, batch_size=2, shuffle=True)\n",
    "val_loader = DataLoader(val_dataset, batch_size=2, shuffle=False)"
   ]
  },
  {
   "cell_type": "markdown",
   "metadata": {},
   "source": [
    "<div style=\"background-color:olive; color:white; font-size:15px; font-family:Verdana; padding:10px;font-weight:bold;border: 5px solid black;text-align:center\">\n",
    "6. Initialisation du Modèle :\n",
    "</div>"
   ]
  },
  {
   "cell_type": "markdown",
   "metadata": {},
   "source": [
    "<div style=\"background-color:white; color:black; font-size:15px; font-family:Verdana; padding:10px;font-weight:bold;border: 5px solid black;text-align:center\">\n",
    "Initialise le modèle PEGASUS pour la génération conditionnelle.\n",
    "</div>"
   ]
  },
  {
   "cell_type": "code",
   "execution_count": null,
   "metadata": {},
   "outputs": [],
   "source": [
    "model = PegasusForConditionalGeneration.from_pretrained('google/pegasus-large')"
   ]
  },
  {
   "cell_type": "markdown",
   "metadata": {},
   "source": [
    "<div style=\"background-color:olive; color:white; font-size:15px; font-family:Verdana; padding:10px;font-weight:bold;border: 5px solid black;text-align:center\">\n",
    "7. Configuration de l'Entraînement :\n",
    "</div>"
   ]
  },
  {
   "cell_type": "markdown",
   "metadata": {},
   "source": [
    "<div style=\"background-color:white; color:black; font-size:15px; font-family:Verdana; padding:10px;font-weight:bold;border: 5px solid black;text-align:center\">\n",
    "Configuration des paramètres d'entraînement tels que le répertoire de sortie, la taille du lot, le nombre d'époques, etc.\n",
    "</div>"
   ]
  },
  {
   "cell_type": "code",
   "execution_count": 18,
   "metadata": {
    "execution": {
     "iopub.execute_input": "2023-12-30T01:05:26.521375Z",
     "iopub.status.busy": "2023-12-30T01:05:26.520964Z",
     "iopub.status.idle": "2023-12-30T01:05:49.638947Z",
     "shell.execute_reply": "2023-12-30T01:05:49.638207Z",
     "shell.execute_reply.started": "2023-12-30T01:05:26.521345Z"
    }
   },
   "outputs": [
    {
     "data": {
      "application/vnd.jupyter.widget-view+json": {
       "model_id": "7793f0a29ae6468e8064934663070a9b",
       "version_major": 2,
       "version_minor": 0
      },
      "text/plain": [
       "pytorch_model.bin:   0%|          | 0.00/2.28G [00:00<?, ?B/s]"
      ]
     },
     "metadata": {},
     "output_type": "display_data"
    },
    {
     "name": "stderr",
     "output_type": "stream",
     "text": [
      "Some weights of PegasusForConditionalGeneration were not initialized from the model checkpoint at google/pegasus-large and are newly initialized: ['model.decoder.embed_positions.weight', 'model.encoder.embed_positions.weight']\n",
      "You should probably TRAIN this model on a down-stream task to be able to use it for predictions and inference.\n"
     ]
    },
    {
     "data": {
      "application/vnd.jupyter.widget-view+json": {
       "model_id": "ae4348f23d19427b938fa73845df4904",
       "version_major": 2,
       "version_minor": 0
      },
      "text/plain": [
       "generation_config.json:   0%|          | 0.00/260 [00:00<?, ?B/s]"
      ]
     },
     "metadata": {},
     "output_type": "display_data"
    }
   ],
   "source": [
    "training_args = TrainingArguments(\n",
    "    output_dir='./results',\n",
    "    per_device_train_batch_size=1,\n",
    "    per_device_eval_batch_size=1,\n",
    "    num_train_epochs=3,\n",
    "    save_steps=10_000,\n",
    "    save_total_limit=2,\n",
    ")"
   ]
  },
  {
   "cell_type": "markdown",
   "metadata": {},
   "source": [
    "<div style=\"background-color:olive; color:white; font-size:15px; font-family:Verdana; padding:10px;font-weight:bold;border: 5px solid black;text-align:center\">\n",
    "8.  Initialisation du Trainer :\n",
    "</div>"
   ]
  },
  {
   "cell_type": "markdown",
   "metadata": {},
   "source": [
    "<div style=\"background-color:white; color:black; font-size:15px; font-family:Verdana; padding:10px;font-weight:bold;border: 5px solid black;text-align:center\">\n",
    "Initialise le Trainer avec le modèle, les arguments d'entraînement et les datasets</div>"
   ]
  },
  {
   "cell_type": "code",
   "execution_count": null,
   "metadata": {},
   "outputs": [],
   "source": [
    "trainer = Trainer(\n",
    "    model=model,\n",
    "    args=training_args,\n",
    "    train_dataset=train_dataset,\n",
    "    eval_dataset=val_dataset,\n",
    ")"
   ]
  },
  {
   "cell_type": "markdown",
   "metadata": {},
   "source": [
    "<div style=\"background-color:olive; color:white; font-size:15px; font-family:Verdana; padding:10px;font-weight:bold;border: 5px solid black;text-align:center\">\n",
    "7.Modèle et Données sur le GPU :\n",
    "</div>"
   ]
  },
  {
   "cell_type": "markdown",
   "metadata": {},
   "source": [
    "<div style=\"background-color:white; color:black; font-size:15px; font-family:Verdana; padding:10px;font-weight:bold;border: 5px solid black;text-align:center\">\n",
    "Vérification de la disponibilité du GPU et déplace le modèle sur le GPU s'il est disponible.</div>"
   ]
  },
  {
   "cell_type": "code",
   "execution_count": 14,
   "metadata": {
    "execution": {
     "iopub.execute_input": "2023-12-29T15:51:37.416382Z",
     "iopub.status.busy": "2023-12-29T15:51:37.415488Z",
     "iopub.status.idle": "2023-12-29T15:51:37.436980Z",
     "shell.execute_reply": "2023-12-29T15:51:37.435734Z",
     "shell.execute_reply.started": "2023-12-29T15:51:37.416346Z"
    },
    "scrolled": true
   },
   "outputs": [
    {
     "data": {
      "text/plain": [
       "PegasusForConditionalGeneration(\n",
       "  (model): PegasusModel(\n",
       "    (shared): Embedding(96103, 1024, padding_idx=0)\n",
       "    (encoder): PegasusEncoder(\n",
       "      (embed_tokens): Embedding(96103, 1024, padding_idx=0)\n",
       "      (embed_positions): PegasusSinusoidalPositionalEmbedding(1024, 1024)\n",
       "      (layers): ModuleList(\n",
       "        (0-15): 16 x PegasusEncoderLayer(\n",
       "          (self_attn): PegasusAttention(\n",
       "            (k_proj): Linear(in_features=1024, out_features=1024, bias=True)\n",
       "            (v_proj): Linear(in_features=1024, out_features=1024, bias=True)\n",
       "            (q_proj): Linear(in_features=1024, out_features=1024, bias=True)\n",
       "            (out_proj): Linear(in_features=1024, out_features=1024, bias=True)\n",
       "          )\n",
       "          (self_attn_layer_norm): LayerNorm((1024,), eps=1e-05, elementwise_affine=True)\n",
       "          (activation_fn): ReLU()\n",
       "          (fc1): Linear(in_features=1024, out_features=4096, bias=True)\n",
       "          (fc2): Linear(in_features=4096, out_features=1024, bias=True)\n",
       "          (final_layer_norm): LayerNorm((1024,), eps=1e-05, elementwise_affine=True)\n",
       "        )\n",
       "      )\n",
       "      (layer_norm): LayerNorm((1024,), eps=1e-05, elementwise_affine=True)\n",
       "    )\n",
       "    (decoder): PegasusDecoder(\n",
       "      (embed_tokens): Embedding(96103, 1024, padding_idx=0)\n",
       "      (embed_positions): PegasusSinusoidalPositionalEmbedding(1024, 1024)\n",
       "      (layers): ModuleList(\n",
       "        (0-15): 16 x PegasusDecoderLayer(\n",
       "          (self_attn): PegasusAttention(\n",
       "            (k_proj): Linear(in_features=1024, out_features=1024, bias=True)\n",
       "            (v_proj): Linear(in_features=1024, out_features=1024, bias=True)\n",
       "            (q_proj): Linear(in_features=1024, out_features=1024, bias=True)\n",
       "            (out_proj): Linear(in_features=1024, out_features=1024, bias=True)\n",
       "          )\n",
       "          (activation_fn): ReLU()\n",
       "          (self_attn_layer_norm): LayerNorm((1024,), eps=1e-05, elementwise_affine=True)\n",
       "          (encoder_attn): PegasusAttention(\n",
       "            (k_proj): Linear(in_features=1024, out_features=1024, bias=True)\n",
       "            (v_proj): Linear(in_features=1024, out_features=1024, bias=True)\n",
       "            (q_proj): Linear(in_features=1024, out_features=1024, bias=True)\n",
       "            (out_proj): Linear(in_features=1024, out_features=1024, bias=True)\n",
       "          )\n",
       "          (encoder_attn_layer_norm): LayerNorm((1024,), eps=1e-05, elementwise_affine=True)\n",
       "          (fc1): Linear(in_features=1024, out_features=4096, bias=True)\n",
       "          (fc2): Linear(in_features=4096, out_features=1024, bias=True)\n",
       "          (final_layer_norm): LayerNorm((1024,), eps=1e-05, elementwise_affine=True)\n",
       "        )\n",
       "      )\n",
       "      (layer_norm): LayerNorm((1024,), eps=1e-05, elementwise_affine=True)\n",
       "    )\n",
       "  )\n",
       "  (lm_head): Linear(in_features=1024, out_features=96103, bias=False)\n",
       ")"
      ]
     },
     "execution_count": 14,
     "metadata": {},
     "output_type": "execute_result"
    }
   ],
   "source": [
    "device = torch.device(\"cuda\" if torch.cuda.is_available() else \"cpu\")\n",
    "\n",
    "# Move your model and data to the GPU\n",
    "model.to(device)"
   ]
  },
  {
   "cell_type": "markdown",
   "metadata": {},
   "source": [
    "<div style=\"background-color:olive; color:white; font-size:15px; font-family:Verdana; padding:10px;font-weight:bold;border: 5px solid black;text-align:center\">\n",
    " 8.Entraînement :\n",
    "</div>"
   ]
  },
  {
   "cell_type": "markdown",
   "metadata": {},
   "source": [
    "<div style=\"background-color:white; color:black; font-size:15px; font-family:Verdana; padding:10px;font-weight:bold;border: 5px solid black;text-align:center\">\n",
    "Lancement le processus d'entraînement et stocke l'historique de l'entraînement dans la variable history.</div>"
   ]
  },
  {
   "cell_type": "code",
   "execution_count": 19,
   "metadata": {
    "execution": {
     "iopub.execute_input": "2023-12-30T01:06:46.977262Z",
     "iopub.status.busy": "2023-12-30T01:06:46.976871Z",
     "iopub.status.idle": "2023-12-30T01:48:44.348254Z",
     "shell.execute_reply": "2023-12-30T01:48:44.347221Z",
     "shell.execute_reply.started": "2023-12-30T01:06:46.977233Z"
    },
    "scrolled": true
   },
   "outputs": [
    {
     "name": "stderr",
     "output_type": "stream",
     "text": [
      "\u001b[34m\u001b[1mwandb\u001b[0m: Logging into wandb.ai. (Learn how to deploy a W&B server locally: https://wandb.me/wandb-server)\n",
      "\u001b[34m\u001b[1mwandb\u001b[0m: You can find your API key in your browser here: https://wandb.ai/authorize\n",
      "\u001b[34m\u001b[1mwandb\u001b[0m: Paste an API key from your profile and hit enter, or press ctrl+c to quit:"
     ]
    },
    {
     "name": "stdin",
     "output_type": "stream",
     "text": [
      "  ········································\n"
     ]
    },
    {
     "name": "stderr",
     "output_type": "stream",
     "text": [
      "\u001b[34m\u001b[1mwandb\u001b[0m: Appending key for api.wandb.ai to your netrc file: /root/.netrc\n"
     ]
    },
    {
     "data": {
      "text/html": [
       "Tracking run with wandb version 0.16.1"
      ],
      "text/plain": [
       "<IPython.core.display.HTML object>"
      ]
     },
     "metadata": {},
     "output_type": "display_data"
    },
    {
     "data": {
      "text/html": [
       "Run data is saved locally in <code>/kaggle/working/wandb/run-20231230_010656-ezwo4zlp</code>"
      ],
      "text/plain": [
       "<IPython.core.display.HTML object>"
      ]
     },
     "metadata": {},
     "output_type": "display_data"
    },
    {
     "data": {
      "text/html": [
       "Syncing run <strong><a href='https://wandb.ai/team_text_summarization/huggingface/runs/ezwo4zlp' target=\"_blank\">wild-shadow-4</a></strong> to <a href='https://wandb.ai/team_text_summarization/huggingface' target=\"_blank\">Weights & Biases</a> (<a href='https://wandb.me/run' target=\"_blank\">docs</a>)<br/>"
      ],
      "text/plain": [
       "<IPython.core.display.HTML object>"
      ]
     },
     "metadata": {},
     "output_type": "display_data"
    },
    {
     "data": {
      "text/html": [
       " View project at <a href='https://wandb.ai/team_text_summarization/huggingface' target=\"_blank\">https://wandb.ai/team_text_summarization/huggingface</a>"
      ],
      "text/plain": [
       "<IPython.core.display.HTML object>"
      ]
     },
     "metadata": {},
     "output_type": "display_data"
    },
    {
     "data": {
      "text/html": [
       " View run at <a href='https://wandb.ai/team_text_summarization/huggingface/runs/ezwo4zlp' target=\"_blank\">https://wandb.ai/team_text_summarization/huggingface/runs/ezwo4zlp</a>"
      ],
      "text/plain": [
       "<IPython.core.display.HTML object>"
      ]
     },
     "metadata": {},
     "output_type": "display_data"
    },
    {
     "name": "stderr",
     "output_type": "stream",
     "text": [
      "/tmp/ipykernel_42/21769689.py:9: UserWarning: To copy construct from a tensor, it is recommended to use sourceTensor.clone().detach() or sourceTensor.clone().detach().requires_grad_(True), rather than torch.tensor(sourceTensor).\n",
      "  item = {key: torch.tensor(val[idx]) for key, val in self.encodings.items()}\n",
      "/tmp/ipykernel_42/21769689.py:10: UserWarning: To copy construct from a tensor, it is recommended to use sourceTensor.clone().detach() or sourceTensor.clone().detach().requires_grad_(True), rather than torch.tensor(sourceTensor).\n",
      "  item['labels'] = torch.tensor(self.labels['input_ids'][idx])  # Assuming 'labels' is the key for summary input_ids\n"
     ]
    },
    {
     "data": {
      "text/html": [
       "\n",
       "    <div>\n",
       "      \n",
       "      <progress value='4542' max='4542' style='width:300px; height:20px; vertical-align: middle;'></progress>\n",
       "      [4542/4542 41:14, Epoch 3/3]\n",
       "    </div>\n",
       "    <table border=\"1\" class=\"dataframe\">\n",
       "  <thead>\n",
       " <tr style=\"text-align: left;\">\n",
       "      <th>Step</th>\n",
       "      <th>Training Loss</th>\n",
       "    </tr>\n",
       "  </thead>\n",
       "  <tbody>\n",
       "    <tr>\n",
       "      <td>500</td>\n",
       "      <td>3.673700</td>\n",
       "    </tr>\n",
       "    <tr>\n",
       "      <td>1000</td>\n",
       "      <td>0.541400</td>\n",
       "    </tr>\n",
       "    <tr>\n",
       "      <td>1500</td>\n",
       "      <td>0.508500</td>\n",
       "    </tr>\n",
       "    <tr>\n",
       "      <td>2000</td>\n",
       "      <td>0.455100</td>\n",
       "    </tr>\n",
       "    <tr>\n",
       "      <td>2500</td>\n",
       "      <td>0.460000</td>\n",
       "    </tr>\n",
       "    <tr>\n",
       "      <td>3000</td>\n",
       "      <td>0.398600</td>\n",
       "    </tr>\n",
       "    <tr>\n",
       "      <td>3500</td>\n",
       "      <td>0.412900</td>\n",
       "    </tr>\n",
       "    <tr>\n",
       "      <td>4000</td>\n",
       "      <td>0.380600</td>\n",
       "    </tr>\n",
       "    <tr>\n",
       "      <td>4500</td>\n",
       "      <td>0.376300</td>\n",
       "    </tr>\n",
       "  </tbody>\n",
       "</table><p>"
      ],
      "text/plain": [
       "<IPython.core.display.HTML object>"
      ]
     },
     "metadata": {},
     "output_type": "display_data"
    },
    {
     "name": "stderr",
     "output_type": "stream",
     "text": [
      "/tmp/ipykernel_42/21769689.py:9: UserWarning: To copy construct from a tensor, it is recommended to use sourceTensor.clone().detach() or sourceTensor.clone().detach().requires_grad_(True), rather than torch.tensor(sourceTensor).\n",
      "  item = {key: torch.tensor(val[idx]) for key, val in self.encodings.items()}\n",
      "/tmp/ipykernel_42/21769689.py:10: UserWarning: To copy construct from a tensor, it is recommended to use sourceTensor.clone().detach() or sourceTensor.clone().detach().requires_grad_(True), rather than torch.tensor(sourceTensor).\n",
      "  item['labels'] = torch.tensor(self.labels['input_ids'][idx])  # Assuming 'labels' is the key for summary input_ids\n"
     ]
    }
   ],
   "source": [
    "history =  trainer.train()"
   ]
  },
  {
   "cell_type": "markdown",
   "metadata": {},
   "source": [
    "<div style=\"background-color:olive; color:white; font-size:15px; font-family:Verdana; padding:10px;font-weight:bold;border: 5px solid black;text-align:center\">\n",
    "9.Sauvegarde du Modèle Fine-Tuné :\n",
    "</div>"
   ]
  },
  {
   "cell_type": "code",
   "execution_count": 20,
   "metadata": {
    "execution": {
     "iopub.execute_input": "2023-12-30T01:51:43.297997Z",
     "iopub.status.busy": "2023-12-30T01:51:43.297578Z",
     "iopub.status.idle": "2023-12-30T01:51:48.350896Z",
     "shell.execute_reply": "2023-12-30T01:51:48.349815Z",
     "shell.execute_reply.started": "2023-12-30T01:51:43.297965Z"
    }
   },
   "outputs": [],
   "source": [
    "# Save the fine-tuned model\n",
    "model.save_pretrained('/kaggle/working/models/fine_tuned_pegasus1')"
   ]
  },
  {
   "cell_type": "markdown",
   "metadata": {},
   "source": [
    "<div style=\"background-color:olive; color:white; font-size:15px; font-family:Verdana; padding:10px;font-weight:bold;border: 5px solid black;text-align:center\">\n",
    "10. Évaluation du Modèle sur l'Ensemble de Validation :\n",
    "</div>"
   ]
  },
  {
   "cell_type": "code",
   "execution_count": 61,
   "metadata": {
    "execution": {
     "iopub.execute_input": "2023-12-30T03:03:29.391670Z",
     "iopub.status.busy": "2023-12-30T03:03:29.390904Z",
     "iopub.status.idle": "2023-12-30T03:04:22.545047Z",
     "shell.execute_reply": "2023-12-30T03:04:22.543840Z",
     "shell.execute_reply.started": "2023-12-30T03:03:29.391637Z"
    }
   },
   "outputs": [
    {
     "name": "stderr",
     "output_type": "stream",
     "text": [
      "/tmp/ipykernel_42/21769689.py:9: UserWarning: To copy construct from a tensor, it is recommended to use sourceTensor.clone().detach() or sourceTensor.clone().detach().requires_grad_(True), rather than torch.tensor(sourceTensor).\n",
      "  item = {key: torch.tensor(val[idx]) for key, val in self.encodings.items()}\n",
      "/tmp/ipykernel_42/21769689.py:10: UserWarning: To copy construct from a tensor, it is recommended to use sourceTensor.clone().detach() or sourceTensor.clone().detach().requires_grad_(True), rather than torch.tensor(sourceTensor).\n",
      "  item['labels'] = torch.tensor(self.labels['input_ids'][idx])  # Assuming 'labels' is the key for summary input_ids\n"
     ]
    },
    {
     "data": {
      "text/plain": [
       "{'eval_loss': 0.42184802889823914,\n",
       " 'eval_runtime': 53.1444,\n",
       " 'eval_samples_per_second': 7.132,\n",
       " 'eval_steps_per_second': 7.132,\n",
       " 'epoch': 3.0}"
      ]
     },
     "execution_count": 61,
     "metadata": {},
     "output_type": "execute_result"
    }
   ],
   "source": [
    "# Evaluate the model on the validation dataset\n",
    "results = trainer.evaluate()\n",
    "results"
   ]
  },
  {
   "cell_type": "code",
   "execution_count": 33,
   "metadata": {
    "execution": {
     "iopub.execute_input": "2023-12-30T02:09:19.383993Z",
     "iopub.status.busy": "2023-12-30T02:09:19.383589Z",
     "iopub.status.idle": "2023-12-30T02:10:38.658514Z",
     "shell.execute_reply": "2023-12-30T02:10:38.657391Z",
     "shell.execute_reply.started": "2023-12-30T02:09:19.383963Z"
    }
   },
   "outputs": [],
   "source": [
    "data = pd.read_csv('/kaggle/input/news-summarization/data.csv')"
   ]
  },
  {
   "cell_type": "code",
   "execution_count": 54,
   "metadata": {
    "execution": {
     "iopub.execute_input": "2023-12-30T02:42:35.769102Z",
     "iopub.status.busy": "2023-12-30T02:42:35.768193Z",
     "iopub.status.idle": "2023-12-30T02:42:35.777186Z",
     "shell.execute_reply": "2023-12-30T02:42:35.775334Z",
     "shell.execute_reply.started": "2023-12-30T02:42:35.769058Z"
    }
   },
   "outputs": [],
   "source": [
    "dt= data.iloc[:30]\n",
    "references = list(dt.Summary)\n",
    "contents = list(dt.Content)"
   ]
  },
  {
   "cell_type": "code",
   "execution_count": 55,
   "metadata": {
    "execution": {
     "iopub.execute_input": "2023-12-30T02:42:48.043555Z",
     "iopub.status.busy": "2023-12-30T02:42:48.043074Z",
     "iopub.status.idle": "2023-12-30T02:51:37.866785Z",
     "shell.execute_reply": "2023-12-30T02:51:37.864698Z",
     "shell.execute_reply.started": "2023-12-30T02:42:48.043520Z"
    },
    "jupyter": {
     "outputs_hidden": true
    }
   },
   "outputs": [
    {
     "data": {
      "text/plain": [
       "['New York police are concerned drones could become tools for terrorists, and are investigating ways to stop potential attacks.',\n",
       " 'Perhaps Australian porn star Angela White thought she was bringing the ultimate steamy study fantasy to life when she and a partner secretly filmed sex acts in the library of La Trobe University in Melbourne.',\n",
       " 'For Garcia and Rickie Fowler it made the final few holes of a dramatic third round here in Hoylake all the more torturous.',\n",
       " 'An Ebola outbreak that began in Guinea four months ago has turned into a cross-border African crisis that could spread to more countries.',\n",
       " 'Dunedin Deputy Fire Chief Trip Barrs said the hole appeared to be about 12-feet wide when officials arrived on the scene around 6am, but grew to 40-feet-wide and 30-feet-deep by 9am.',\n",
       " 'The attack this week should have also sent a clear message to both leaderships that if they will not take measures to calm the situation down, further escalation and worse violence is around the corner.',\n",
       " \"Zia Abdul Haq is believed to have been brainwashed by the preachings of Islamic extremist Musa Cerantonio two of Australia's most notorious jihadists Khaled Sharrouf and Mohamed Elomar are part of the same group.\",\n",
       " \"A mother whose premature twins died while she lay in a coma following a tragic ambulance mix-up has led the tributes at her daughters' funeral.\",\n",
       " 'Former magistrate Rahmat Ali Raja dishonestly claimed pension credits and council tax reductions for 10 years - despite having more than £102,000 across nine bank accounts.',\n",
       " '(CNN) -- Congress has moved to prevent money from the proposed $825 billion stimulus package from being used for zoos, aquariums, golf courses, swimming pools and casinos.',\n",
       " \"Here are 10 surprising facts you probably didn't know about Nelson Mandela:.\",\n",
       " \"Mourinho embraces Branislav Ivanovic after Chelsea's Premier League victory at Stamford Bridge. Mourinho embraces Branislav Ivanovic after Chelsea's Premier League victory at Stamford Bridge.\",\n",
       " \"From temples so gold they'll make your eyes water to food you'll be longing for days after it hits your lips, Punjab is India at its colorful, lively best.\",\n",
       " '(CNN) -- Three Delaware day care workers were arrested after police got hold of a \"disturbing\" and \"shocking\" cell phone video that, authorities say, shows two toddlers taking part in a fight the workers had organized.',\n",
       " 'Fixed Odds Betting Terminals allow users to spend up to £100 a go and are blamed for a rise in gambling.',\n",
       " 'Masha Alyokhina and Nadya Tolokonnikova opened their panel discussion at the Sydney Opera House by addressing a proposal made by Australian activists that the pair boycott the festival.',\n",
       " 'The 22-year-old spent the second half of last season on loan at Crystal Palace and has targeted a move back to the Premier League having rejected a possible move to Inter Milan.',\n",
       " 'Sir Cliff Richard had his privacy violated after a secret deal between police and the BBC to film a raid on his house.',\n",
       " 'Almost a quarter of the road accidents resulting in death or serious injury last year involved a driver under 24.',\n",
       " 'Pamela Smith filed the suit herself last month against Jordan and asked that the basketball hall of famer take a paternity test and pay child support. Smith filed the suit herself last month against Jordan and asked that the basketball hall of famer take a paternity test and pay child support.',\n",
       " 'Lindsay Lohan worked like crazy and completed 115 hours of community service in Brooklyn to meet her Thursday deadline and avoid jail Lindsay Lohan worked like crazy and completed 115 hours of community service in Brooklyn to meet her Thursday deadline and avoid jail Lindsay Lohan worked like crazy and completed 115 hours of community service in Brooklyn to meet her Thursday deadline and avoid jail Lindsay Lohan worked like crazy and completed 115 hours of community service in Brooklyn to meet her Thursday deadline and avoid jail Lindsay Lohan worked like crazy and completed 115 hours of community service in Brooklyn to meet her Thursday deadline and avoid jail Lindsay Lohan worked like crazy and completed 115 hours of community service in Brooklyn to meet her Thursday deadline and avoid jail Lindsay Lohan worked like crazy and completed 115 hours of community service in Brooklyn to meet her Thursday deadline and avoid jail Lindsay Lohan worked like crazy and completed 115 hours of community service in Brooklyn to meet her Thursday deadline and avoid jail Lindsay Lohan worked like crazy and completed 115 hours of community service in Brooklyn to meet her Thursday deadline and avoid jail Lindsay Lohan worked like crazy and completed 115 hours of community service in Brooklyn to meet her Thursday deadline and avoid jail Lindsay Lohan worked like crazy and completed 115 hours of community service in Brooklyn to meet her Thursday deadline and avoid jail Lindsay Lohan worked like crazy and completed 115 hours of community service',\n",
       " 'A man who bit a dog during an altercation outside a corner shop later ran inside and died from a suspected heart attack after being restrained.',\n",
       " 'New Jersey locals mourned the loss of actor James Gandolfini on Wednesday as the fictional hang-outs of his beloved character Tony Soprano were flooded with visitors paying their respects.',\n",
       " 'The London Fire Brigade cut its mental health team by almost half in the years before the Grenfell Tower fire.',\n",
       " 'Butcher played in the Ipswich team which won the cup final on aggregate after a 3-0 win at Portman Road followed by a 4-2 defeat in Holland Butcher has been part of charity cycling team which made 260-mile round trip to Holland to commemorate the victory Butcher played in the Ipswich team which won the cup final on aggregate after a 3-0 win at Portman Road followed by a 4-2 defeat in Holland Butcher has been part of charity cycling team which made 260-mile round trip to Holland to commemorate the victory Butcher played in the Ipswich team which won the cup final on aggregate after a 3-0 win at Portman Road followed by a 4-2 defeat in Holland Butcher has been part of charity cycling team which made 260-mile round trip to Holland to commemorate the victory Butcher played in the Ipswich team which won the cup final on aggregate after a 3-0 win at Portman Road followed by a 4-2 defeat in Holland Butcher has been part of charity cycling team which made 260-mile round trip to Holland to commemorate the victory Butcher has been part of charity cycling team which made 260-mile round trip to Holland to commemorate the victory Butcher played in the Ipswich team which won the cup final on aggregate after a 3-0 win at Portman Road followed by a 4-2 defeat in Holland Butcher has been part of charity cycling team which made 260-mile round',\n",
       " 'PARIS (AP) — European governments are paying al-Qaida in the Islamic Maghreb millions of dollars in ransom to secure the release of dozens of hostages held by the terror group in the Sahara desert, a senior French official has told The Associated Press.',\n",
       " \"The Cameroon Football Association (Fecafoot) has confirmed it's investigating allegations made in the German media that seven of its players were involved in match fixing during the group stages of the World Cup finals in Brazil.\",\n",
       " 'Roger Charlton is to run Al Kazeem in the Cumberland Lodge Stakes at Ascot a week on Saturday. Charlton, whose dual Group Three winning miler Captain Cat tries to win his first Group Two prize in the Joel Stakes at Newmarket on Friday, said: ‘The step up in trip and step down in class is just Al Kazeem needs.’ Al Kazeem will run in the Cumberland Lodge Stakes at Ascot a week on Saturday.',\n",
       " \"Protesters say the new HS2 project has been 'an abysmal business case and represents extremely poor value for hard pressed taxpayers' money.\",\n",
       " '(CNN) -- The Supreme Court tried mightily to wade through a cloud of bureaucratic regulations Monday over setting clear air standards, a high-stakes environmental and economic fight pitting the Obama administration against a coalition of states and utilities.']"
      ]
     },
     "execution_count": 55,
     "metadata": {},
     "output_type": "execute_result"
    }
   ],
   "source": [
    "predictions = []\n",
    "for cntnt in contents :\n",
    "    predictions.append(Summarizer(cntnt[:1000]))\n",
    "predictions"
   ]
  },
  {
   "cell_type": "markdown",
   "metadata": {},
   "source": [
    "<div style=\"background-color:olive; color:white; font-size:15px; font-family:Verdana; padding:10px;font-weight:bold;border: 5px solid black;text-align:center\">\n",
    "11 .Calcul des Scores BLEU et ROUGE :\n",
    "</div>"
   ]
  },
  {
   "cell_type": "code",
   "execution_count": 45,
   "metadata": {
    "execution": {
     "iopub.execute_input": "2023-12-30T02:34:25.402215Z",
     "iopub.status.busy": "2023-12-30T02:34:25.401180Z",
     "iopub.status.idle": "2023-12-30T02:34:28.389856Z",
     "shell.execute_reply": "2023-12-30T02:34:28.388722Z",
     "shell.execute_reply.started": "2023-12-30T02:34:25.402170Z"
    }
   },
   "outputs": [
    {
     "name": "stdout",
     "output_type": "stream",
     "text": [
      "BLEU Score: 0.5635279113885795\n"
     ]
    }
   ],
   "source": [
    "from nltk.translate import bleu_score\n",
    "from rouge_score import rouge_scorer\n",
    "\n",
    "bleu_score = bleu_score.corpus_bleu(references, predictions)\n",
    "print(\"BLEU Score:\", bleu_score)\n"
   ]
  },
  {
   "cell_type": "markdown",
   "metadata": {},
   "source": [
    "> ### - Calcule les scores ROUGE entre les prédictions et les références, puis affiche la moyenne des scores F1."
   ]
  },
  {
   "cell_type": "code",
   "execution_count": 60,
   "metadata": {
    "execution": {
     "iopub.execute_input": "2023-12-30T02:59:03.152927Z",
     "iopub.status.busy": "2023-12-30T02:59:03.151909Z",
     "iopub.status.idle": "2023-12-30T02:59:06.019029Z",
     "shell.execute_reply": "2023-12-30T02:59:06.017976Z",
     "shell.execute_reply.started": "2023-12-30T02:59:03.152873Z"
    }
   },
   "outputs": [
    {
     "name": "stdout",
     "output_type": "stream",
     "text": [
      "Average ROUGE-L F1 Score: 0.1953681068059598\n"
     ]
    }
   ],
   "source": [
    "from transformers import PegasusTokenizer\n",
    "from rouge_score import rouge_scorer\n",
    "\n",
    "\n",
    "# Initialize the PEGASUS tokenizer\n",
    "tokenizer = PegasusTokenizer.from_pretrained('google/pegasus-large')\n",
    "references_ids = tokenizer(references, return_tensors='pt', truncation=True, padding=True)['input_ids']\n",
    "predictions_ids = tokenizer(predictions, return_tensors='pt', truncation=True, padding=True)['input_ids']\n",
    "references_text = tokenizer.batch_decode(references_ids, skip_special_tokens=True)\n",
    "predictions_text = tokenizer.batch_decode(predictions_ids, skip_special_tokens=True)\n",
    "rouge_scorer = rouge_scorer.RougeScorer(['rougeL'], use_stemmer=True)\n",
    "rouge_scores = [rouge_scorer.score(prediction, reference) for prediction, reference in zip(predictions_text, references_text)]\n",
    "rouge_f1_scores = [score['rougeL'].fmeasure for score in rouge_scores]\n",
    "average_rouge_f1 = sum(rouge_f1_scores) / len(rouge_f1_scores)\n",
    "print(\"Average ROUGE-L F1 Score:\", average_rouge_f1)\n"
   ]
  },
  {
   "cell_type": "markdown",
   "metadata": {},
   "source": [
    "<div style=\"background-color:olive; color:white; font-size:15px; font-family:Verdana; padding:10px;font-weight:bold;border: 5px solid black;text-align:center\">\n",
    "12. Génération de Résumés avec le Modèle Fine-Tuné :\n",
    "</div>"
   ]
  },
  {
   "cell_type": "code",
   "execution_count": 21,
   "metadata": {
    "execution": {
     "iopub.execute_input": "2023-12-30T01:52:14.991413Z",
     "iopub.status.busy": "2023-12-30T01:52:14.990517Z",
     "iopub.status.idle": "2023-12-30T01:52:23.746727Z",
     "shell.execute_reply": "2023-12-30T01:52:23.745716Z",
     "shell.execute_reply.started": "2023-12-30T01:52:14.991376Z"
    }
   },
   "outputs": [],
   "source": [
    "# Load the fine-tuned model\n",
    "fine_tuned_model = PegasusForConditionalGeneration.from_pretrained('/kaggle/working/models/fine_tuned_pegasus1')"
   ]
  },
  {
   "cell_type": "code",
   "execution_count": 40,
   "metadata": {
    "execution": {
     "iopub.execute_input": "2023-12-30T02:13:04.932468Z",
     "iopub.status.busy": "2023-12-30T02:13:04.931563Z",
     "iopub.status.idle": "2023-12-30T02:13:16.101969Z",
     "shell.execute_reply": "2023-12-30T02:13:16.100849Z",
     "shell.execute_reply.started": "2023-12-30T02:13:04.932436Z"
    }
   },
   "outputs": [
    {
     "data": {
      "text/plain": [
       "'Dane Pollard met and married his partner Emma after his life was saved by a last minute lung transplant. Dane Pollard met and married his partner, Emma, after his life was saved by a last minute lung transplant.'"
      ]
     },
     "execution_count": 40,
     "metadata": {},
     "output_type": "execute_result"
    }
   ],
   "source": [
    "# Example: Generate summaries using the fine-tuned model\n",
    "input_text = \"\"\"By . Emma Innes . A cystic fibrosis patient has married his girlfriend after having a successful lung transplant. Dane Pollard, 34, was diagnosed with the condition when he was 18 months old and feared he would not survive. The condition caused his lungs to fill with mucus, meaning he needed daily physiotherapy in order to lead a normal life. Dane Pollard met and married his partner, Emma, after his life was saved by a last minute lung transplant . Mr Pollard was diagnosed with cystic fibrosis when he was 18 months old and his health slowly deteriorated . However, his health worsened and he found himself needing a wheelchair and additional oxygen. He eventually ended up housebound and was put on the lung transplant list. In 2008, he received a call to say that some new lungs had been found for him and the operation could go ahead. He believes that if the lungs had not become available, he would not have survived for many more days.\"\"\"\n",
    "\n",
    "def Summarizer(input_text):\n",
    "    input_ids = tokenizer(input_text, return_tensors=\"pt\").input_ids\n",
    "\n",
    "    # Generate the summary\n",
    "    summary_ids = fine_tuned_model.generate(input_ids)\n",
    "\n",
    "    # Decode the summary\n",
    "    summary = tokenizer.decode(summary_ids[0], skip_special_tokens=True)\n",
    "    return summary\n",
    "Summarizer(input_text)"
   ]
  },
  {
   "cell_type": "code",
   "execution_count": 26,
   "metadata": {
    "execution": {
     "iopub.execute_input": "2023-12-30T02:02:23.863011Z",
     "iopub.status.busy": "2023-12-30T02:02:23.862337Z",
     "iopub.status.idle": "2023-12-30T02:02:23.870778Z",
     "shell.execute_reply": "2023-12-30T02:02:23.869787Z",
     "shell.execute_reply.started": "2023-12-30T02:02:23.862981Z"
    }
   },
   "outputs": [
    {
     "data": {
      "text/plain": [
       "{'eval_loss': 0.42184802889823914,\n",
       " 'eval_runtime': 53.3019,\n",
       " 'eval_samples_per_second': 7.11,\n",
       " 'eval_steps_per_second': 7.11,\n",
       " 'epoch': 3.0}"
      ]
     },
     "execution_count": 26,
     "metadata": {},
     "output_type": "execute_result"
    }
   ],
   "source": [
    "results"
   ]
  },
  {
   "cell_type": "code",
   "execution_count": 57,
   "metadata": {
    "execution": {
     "iopub.execute_input": "2023-12-30T02:56:07.746261Z",
     "iopub.status.busy": "2023-12-30T02:56:07.745843Z",
     "iopub.status.idle": "2023-12-30T02:56:07.752222Z",
     "shell.execute_reply": "2023-12-30T02:56:07.751061Z",
     "shell.execute_reply.started": "2023-12-30T02:56:07.746232Z"
    }
   },
   "outputs": [],
   "source": [
    "pred = predictions"
   ]
  },
  {
   "cell_type": "markdown",
   "metadata": {},
   "source": [
    "---\n",
    "<div style=\"background-color:olive; color:white; font-size:15px; font-family:Verdana; padding:10px;font-weight:bold;border: 5px solid black;text-align:center\">\n",
    "<ul>\n",
    "<li><a href=\"https://blog.research.google/2016/08/text-summarization-with-tensorflow.html\" style=\"color:white;\"> Ressource 1</a></li>\n",
    "<li><a href=\"https://en.wikipedia.org/wiki/Tf%E2%80%93idf\" style=\"color:white;\"> Ressource 2</a></li>\n",
    "<li><a href=\"https://www.kaggle.com/datasets/sbhatti/news-summarization/data\" style=\"color:white;\"> Ressource 3 </a></li>\n",
    "<li><a href=\"https://radimrehurek.com/gensim/models/word2vec.html\" style=\"color:white;\"> Ressource4 </a></li>\n",
    "    \n",
    "</ul>\n",
    "</div>\n",
    "\n",
    "---"
   ]
  },
  {
   "cell_type": "markdown",
   "metadata": {},
   "source": [
    "<h2 style='color:olive' align='center'>END </h2>"
   ]
  }
 ],
 "metadata": {
  "kaggle": {
   "accelerator": "gpu",
   "dataSources": [
    {
     "datasetId": 1912571,
     "sourceId": 3140615,
     "sourceType": "datasetVersion"
    },
    {
     "datasetId": 4238821,
     "sourceId": 7305708,
     "sourceType": "datasetVersion"
    }
   ],
   "dockerImageVersionId": 30627,
   "isGpuEnabled": true,
   "isInternetEnabled": true,
   "language": "python",
   "sourceType": "notebook"
  },
  "kernelspec": {
   "display_name": "Python 3 (ipykernel)",
   "language": "python",
   "name": "python3"
  },
  "language_info": {
   "codemirror_mode": {
    "name": "ipython",
    "version": 3
   },
   "file_extension": ".py",
   "mimetype": "text/x-python",
   "name": "python",
   "nbconvert_exporter": "python",
   "pygments_lexer": "ipython3",
   "version": "3.11.4"
  }
 },
 "nbformat": 4,
 "nbformat_minor": 4
}
